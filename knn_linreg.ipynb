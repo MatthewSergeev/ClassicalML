{
  "cells": [
    {
      "cell_type": "markdown",
      "metadata": {
        "id": "Xdj9KTpCgFQt"
      },
      "source": [
        "\n",
        "##Домашнее задание 4: kNN. Линейные модели. Работа с признаками"
      ]
    },
    {
      "cell_type": "markdown",
      "metadata": {
        "id": "V_yuRVc4eBYV"
      },
      "source": [
        "#Что такое ML (обучение с учителем)"
      ]
    },
    {
      "cell_type": "markdown",
      "metadata": {
        "id": "fdCjcspxeyWd"
      },
      "source": [
        "Берем датасет (выборку) в котором все элементы представлены числовыми векторами или могут быть такими представлены после векторизации. Далее словарь:\n",
        "* *Объект* (*observation*, *datum*, *data point*, *sample*) - это строчка нашего датасета;\n",
        "* У каждого объекта есть *имя* (*name*) или *индекс*;\n",
        "* Объект имеет набор *признаков* (*features*), которые являются векторами или чем-то иным. Например, имя тоже является признаком;\n",
        "* Для каждого объекта имеется *предсказание* (*target*): они выражают информацию, которую мы хотим научиться *предсказывать для новых объектов*;\n",
        "* *Предсказание* (*prediction*) - значение, которые мы \"предсказываем\" для каждого объекта с помощью некоторого алгоритма, который выбирается из некоторой *модели* (*model*)."
      ]
    },
    {
      "cell_type": "markdown",
      "metadata": {
        "id": "dXQBt3m0u_L2"
      },
      "source": [
        "# Математическая постановка задачи обучения с учителем"
      ]
    },
    {
      "cell_type": "markdown",
      "metadata": {
        "id": "UxygD2xuvFJp"
      },
      "source": [
        "Пусть задано множество всех объектов $X$ и множество всех предсказаний $Y$. Пусть задана функция предсказания (или *целевая функция*, *target fuction*) $y^{*} \\colon X \\to Y$, которая каждому объекту $x\\in X$ ставит в соответствие \"правильный\" ответ $y\\in Y$. Нам известны только конечное число значений этой функции. Точнее, если $\\{x_{1},\\dots, x_{n} \\}\\subset X$ - конечное подмножество, то известны значения $y_{i}=y^{*}(x_{i})$. Пары вида $(x_{i},y_{i})$ называются *прецедентами*. Совокупность прецендентов $X^{n}=\\{(x_{1},y_{1}),\\dots, (x_{n},y_{n})\\}$ называется *обучающей выборкой*."
      ]
    },
    {
      "cell_type": "markdown",
      "metadata": {
        "id": "RfnIxUaq3m8N"
      },
      "source": [
        "**Задача**: \"восстановить\" $y^{*}$ по конечной выборке $X^{n}$. \"Восстановить\" означает найти (построить) такую функцию (*decision\n",
        "function*) $\\alpha \\colon X \\to Y$ для которой разница между $\\alpha(x)$ и $y^{*}(x)$ минимальна на $x\\in X$ в совокупности. Функция $\\alpha$ часто называется *алгоритмом*, потому что требуется точная компьютерная реализация этой функции."
      ]
    },
    {
      "cell_type": "markdown",
      "metadata": {
        "id": "x6m2jBZMA8Bc"
      },
      "source": [
        "* $Y=\\mathbb{R}$ - задача *регрессии* (*regression estimation*)\n",
        "* $Y=\\{C_{1},\\dots, C_{m}\\}$ - задача *классификации* (*classification*)"
      ]
    },
    {
      "cell_type": "markdown",
      "metadata": {
        "id": "67emvL28Btbl"
      },
      "source": [
        "Остальные попозже ... Пока этого хватит"
      ]
    },
    {
      "cell_type": "markdown",
      "metadata": {
        "id": "JfDZGvn0CNby"
      },
      "source": [
        "*Признак* - это некоторое отображение $f\\colon X\\to D_{f}$, которое каждому объекту $x\\in X$ ставит в соответствие его характеристику $f(x)$.  "
      ]
    },
    {
      "cell_type": "markdown",
      "metadata": {
        "id": "vCSHxGYvDVPa"
      },
      "source": [
        "* $D_{f}=\\mathbb{R}$: $f$ - *количественный признак*;\n",
        "* $D_{f} = \\{0,1\\}$: $f$ - *бинарный признак*."
      ]
    },
    {
      "cell_type": "markdown",
      "metadata": {
        "id": "TNxagbTjECTx"
      },
      "source": [
        "Пусть $f_{1},\\dots, f_{n}$ - набор признаков. Вектор $(f_{1}(x),\\dots, f_{n}(x))$ называется *признаковым описанием объекта $x\\in X$*. На практике объекты $X$ отождествляются с множеством всех (конечных) признаковых описаний объектов $D_{f_{1}}\\times \\dots \\times D_{f_{n}}$."
      ]
    },
    {
      "cell_type": "markdown",
      "metadata": {
        "id": "ckeutmGkF7T4"
      },
      "source": [
        "Как ищут алгоритм $\\alpha$? Чтобы была математика, мы ограничиваемся так называемой *моделью алгоритмов* (*model*), которая представляет из себя *параметрическое семейство алгоритмов* $A=\\{g(x,\\theta)\\text{ | } \\theta \\in \\Theta \\}$, где $g\\colon X\\times \\Theta \\to Y$. Семейство параметров $\\Theta$ называется *пространством параметров* (*search space*). Итак, то есть $\\alpha(x) \\in A$ - *гипотеза*."
      ]
    },
    {
      "cell_type": "markdown",
      "metadata": {
        "id": "kCJbHjLiIAZ6"
      },
      "source": [
        "Пусть, например, у нас $X$ задается $n$ числовыми признаками $f_{j}\\colon X\\to \\mathbb{R}$ и имеет ровно $n$ числовых параметров $\\Theta = \\{(\\theta_{1},\\dots, \\theta_{n}) = \\mathbb{R}^{n}$."
      ]
    },
    {
      "cell_type": "markdown",
      "metadata": {
        "id": "8ewypluTHu3k"
      },
      "source": [
        "Выделяют *линейные модели* $g(x,\\theta) = \\sum^{n}_{i=1}\\theta_{j}f_{j}(x)$ для задач регрессии, т.е. $Y=\\mathbb{R}$, и $g(x,\\theta) = \\mathrm{sign} \\sum^{n}_{i=1}\\theta_{j}f_{j}(x)$ для задач классификации $Y=\\{-1,1\\}$."
      ]
    },
    {
      "cell_type": "markdown",
      "metadata": {
        "id": "MdEn3qYlJkXE"
      },
      "source": [
        "***Обучение*** (*training, learning*) *алгоритма $a(x)\\in A$ параметрической модели $A$* - процесс подбора \"оптимального\" параметра $\\theta \\in \\Theta$ по обучающей выборке $X^{k}$."
      ]
    },
    {
      "cell_type": "markdown",
      "metadata": {
        "id": "xK7H4zbGDtRu"
      },
      "source": [
        "Пусть $(X\\times Y)^{k}$ означает множество всех конечных выборок (т.е. всех конечных наборов пар $(x_{i},y_{i})\\in X\\times Y$). Метод подбора нужного параметра называется *методом обучения* (*learning algorithm*) и с математической точки зрения означает функцию $$\\mu\\colon (X\\times Y)^{k} \\to A.$$"
      ]
    },
    {
      "cell_type": "markdown",
      "metadata": {
        "id": "QQwJPvI2MJQ0"
      },
      "source": [
        "*Функция потерь* (*loss function*) - это неотрицательная функция $\\mathcal{L}(a,x)$, которая характеризует величину ошибки алгоритма $a\\in A$ на объекте $x\\in X$. Ее мы берем сами как и выбираем модель - они называются *гиперпараметрами*."
      ]
    },
    {
      "cell_type": "markdown",
      "metadata": {
        "id": "MuNppUu09-kP"
      },
      "source": [
        "Примеры: если $Y\\subseteq \\mathbb{R}$, то часто берут $\\mathcal{L}(a,x)=(a(x)-y^{*}(x))^{2}$ - *квадратичная функция потерь*, $\\mathcal{L}(a,x)=|a(x)-y^{*}(x)|$ - *стандартное отклонение* для регресии и $\\mathcal{L}(a,x)=[a(x)\\ne y^{*}(x)]$ - *индикатор ошибки* для классификации."
      ]
    },
    {
      "cell_type": "markdown",
      "metadata": {
        "id": "BrfyLpDtAfOS"
      },
      "source": [
        "Функция потерь замеряет ошибку только по конкретному $x\\in X$, а *функционал качества* дает взвешанную информацию об ошибке на конечной выборке $X^{k}$:\n",
        "$$Q(a,X^{k})=\\frac{1}{k} \\sum^{k}_{i=1}\\mathcal{L}(a,x_{i}).$$"
      ]
    },
    {
      "cell_type": "markdown",
      "metadata": {
        "id": "LAxy6_oYBIBw"
      },
      "source": [
        "Если $\\mathcal{L}(a,x)=(a(x)-y^{*}(x))^{2}$, то обозначают $$\\mathrm{MSE}(a,X^{k}) = Q(a,X^{k})=\\frac{1}{k}\\sum^{k}_{i=1}(a(x_{i})-y_{i})^{2};$$\n",
        "$$\\mathrm{MAE}(a,X^{k}) = Q(a,X^{k})=\\frac{1}{k}\\sum^{k}_{i=1}|a(x_{i})-y_{i}|.$$"
      ]
    },
    {
      "cell_type": "markdown",
      "metadata": {
        "id": "_TgZ0XNkCfAo"
      },
      "source": [
        "MSE = Mean Squared Error, MAE = Mean Absolute Error."
      ]
    },
    {
      "cell_type": "markdown",
      "metadata": {
        "id": "iJKQL8i5HPT6"
      },
      "source": [
        "Теперь мы готовы совсем уточнить исходную задачу. Классический метод обучения $\\mu$ (но далеко не единственный), называемый *минимизацией эмпирического риска* (*empirical risk minimization, ERM*), заключается в том, чтобы среди всех $a(x)\\in A$ найти такой, что на обучающей выборке $X^{k}$ он доставляет минимальное отклонение по заранее выбранному функционалу качества $Q(a,X^{k})$:\n",
        "$$\\mu(X^{k}):=\\mathrm{arg}\\, \\mathrm{min}_{a\\in A}Q(a,X^{k}).$$"
      ]
    },
    {
      "cell_type": "markdown",
      "metadata": {
        "id": "4iKk0XmZJROp"
      },
      "source": [
        "Например, если мы решаем задачу регрессии (т.е. $Y=\\mathbb{R}$) с $n$ числовыми признаками, то выбрав $Q(a,X^{k})=\\mathrm{MSE}(a,X^{k})$, метод обучения минимизацией эмпирического риска пишется так:\n",
        "$$\\mu(X^{k}) = \\mathrm{arg}\\, \\mathrm{min}_{\\theta \\in \\Theta}\\frac{1}{k}\\sum^{k}_{i=1}(g(x_{i},\\theta)-y_{i})^{2} = \\mathrm{arg}\\, \\mathrm{min}_{\\theta \\in \\Theta}\\sum^{k}_{i=1}(g(x_{i},\\theta)-y_{i})^{2}.$$"
      ]
    },
    {
      "cell_type": "markdown",
      "metadata": {
        "id": "FSUywaTpSxbB"
      },
      "source": [
        "\n",
        "\n",
        "---\n",
        "\n"
      ]
    },
    {
      "cell_type": "markdown",
      "metadata": {
        "id": "KKZpv3dqMrNS"
      },
      "source": [
        "# Алгоритм: классификатор kNN (k-nearest neighbors)"
      ]
    },
    {
      "cell_type": "markdown",
      "metadata": {
        "id": "6sCpIFP5P-sL"
      },
      "source": [
        "Ставим перед собой задачу классификации, т.е. $Y=\\{1,\\dots, C\\}$."
      ]
    },
    {
      "cell_type": "markdown",
      "metadata": {
        "id": "xPEEtF1WPYYj"
      },
      "source": [
        "kNN - *метрический непараметрический метод обучения*. Смысл метрических методов очень хорошо раскрывает фраза «Скажи мне, кто твой друг, и я скажу, кто ты». Алгоритмы этого класса почти не имеют фазы обучения. Вместо этого они просто запоминают всю обучающую выборку, а на этапе предсказания просто ищут объекты, похожие на целевой."
      ]
    },
    {
      "cell_type": "markdown",
      "metadata": {
        "id": "XJkRtUy2P31O"
      },
      "source": [
        "Такой процесс называют *lazy learning*, потому что никакого обучения, по сути, не происходит. Также метрические модели являются непараметрическими, потому что они не делают явных допущений о глобальных законах, которым подчиняются данные. Так, линейная регрессия основывается на предположении о том, что изучаемая закономерность линейная (с неизвестными коэффициентами, которые восстанавливаются по выборке), а линейная бинарная классификация — что существует гиперплоскость, неплохо разделяющая классы. Метрические методы же локальны: они исходят из допущения, что свойства объекта можно узнать, имея представление о его соседях."
      ]
    },
    {
      "cell_type": "markdown",
      "metadata": {
        "id": "-j0X6ZAiU3AU"
      },
      "source": [
        "Пусть дана (симметрическая) функция расстояния $\\rho \\colon X\\times X \\to [0,\\infty)$ и пусть дана обучающая выборка $X^{N}=(x_{i},y_{i})^{N}_{i=1}$. Зафиксируем натуральное число $k$."
      ]
    },
    {
      "cell_type": "markdown",
      "metadata": {
        "id": "ZF-KPw8jYKAa"
      },
      "source": [
        "Предположим, что требуется классифицировать новый объект $u\\in X$. Для этого найдём $k$ наиболее близких к $u$ в смысле расстояния $\\rho$ объектов обучающей выборки $X_{k}(u)=\\{x^{1}_{u},\\dots, x^{k}_{u}\\}\\subseteq X^{N}$: то есть\n",
        "$$\\forall x_{\\mathrm{in}} \\in X_{k}(u)\\,\\forall x_{\\mathrm{out}}\\in X^{N}\\backslash X_{k}(u)\\quad \\rho(u,x_{\\mathrm{in}})\\le \\rho(u,x_{\\mathrm{out}}).$$\n"
      ]
    },
    {
      "cell_type": "markdown",
      "metadata": {
        "id": "RhU6CmonaEq-"
      },
      "source": [
        "Пусть объектам $x^{i}_{u}$ мы поставили метки $y^{i}_{u}$. Тогда вот формула для алгоритма kNN:\n",
        "$$a(u):=\\mathrm{argmax}_{y\\in Y} \\sum^{k}_{i=1}I[y^{i}_{u}=y],$$\n",
        "где $I[y^{i}_{u}=y]$ - *индикатор* (не вероятностный) условия $[y^{i}_{u}=y]$."
      ]
    },
    {
      "cell_type": "markdown",
      "metadata": {
        "id": "M_vMdicHt0gh"
      },
      "source": [
        "Т.е. сначала мы берем обучающую выборку $X^{N}$, потом для нового $u\\in X$ определяем $k$ параметров $x^{i}_{u}$, отдаленных от $u$ на самые маленькие расстояния (берем топ $k$). Наконец, среди этого топа $k$ мы смотрим какой $y\\in Y$ встречается чаще всего: его и выбираем.  "
      ]
    },
    {
      "cell_type": "markdown",
      "metadata": {
        "id": "hqaY80uzxdYb"
      },
      "source": [
        "Если объекты являются точками $\\mathbb{R}^{d}$, то мы можем выделить области точек, которые обладают признаком $y\\in Y$. Обычно признак $y$ представляется определенным цветом. Границы этих областей называются *решающими поверхностями*. В случае $d\\le 3$ мы можем их визуализировать."
      ]
    },
    {
      "cell_type": "markdown",
      "metadata": {
        "id": "kkH4g4e4JGrt"
      },
      "source": [
        "# Задачи по kNN"
      ]
    },
    {
      "cell_type": "markdown",
      "metadata": {
        "id": "M_YUJjw3gFQv"
      },
      "source": [
        "### Задание 1:  Визуализация решающих поверхностей в kNN."
      ]
    },
    {
      "cell_type": "markdown",
      "metadata": {
        "id": "zaS6e29EgFQw"
      },
      "source": [
        "В этом задании мы изобразим решающую поверхность для классификатора kNN, чтобы наглядно увидеть, как классификатор принимает решения для новых объектов. Для простоты будем работать со встроенным в `sklearn` набором данных `wine`, содержащим информацию о характеристиках трёх видов вина. Описание набора можно найти [здесь](https://scikit-learn.org/stable/modules/generated/sklearn.datasets.load_wine.html#sklearn.datasets.load_wine) и [здесь](https://rdrr.io/cran/rattle.data/man/wine.html)."
      ]
    },
    {
      "cell_type": "markdown",
      "metadata": {
        "id": "ygPNcrxSgFQw"
      },
      "source": [
        "Загрузим набор данных и сохраним информацию о признаках в переменную `X`, а о зависимой переменной – в переменную `y`."
      ]
    },
    {
      "cell_type": "code",
      "execution_count": 248,
      "metadata": {
        "id": "7fgg6HGlgFQw"
      },
      "outputs": [],
      "source": [
        "import numpy as np\n",
        "import pandas as pd\n",
        "import matplotlib.pyplot as plt"
      ]
    },
    {
      "cell_type": "code",
      "execution_count": 249,
      "metadata": {
        "colab": {
          "base_uri": "https://localhost:8080/",
          "height": 320
        },
        "id": "VxWqG3fWgFQw",
        "outputId": "7281306d-52fe-461b-8343-fb019e956331"
      },
      "outputs": [
        {
          "output_type": "execute_result",
          "data": {
            "text/plain": [
              "   alcohol  malic_acid   ash  alcalinity_of_ash  magnesium  total_phenols  \\\n",
              "0    14.23        1.71  2.43               15.6      127.0           2.80   \n",
              "1    13.20        1.78  2.14               11.2      100.0           2.65   \n",
              "2    13.16        2.36  2.67               18.6      101.0           2.80   \n",
              "3    14.37        1.95  2.50               16.8      113.0           3.85   \n",
              "4    13.24        2.59  2.87               21.0      118.0           2.80   \n",
              "5    14.20        1.76  2.45               15.2      112.0           3.27   \n",
              "6    14.39        1.87  2.45               14.6       96.0           2.50   \n",
              "7    14.06        2.15  2.61               17.6      121.0           2.60   \n",
              "\n",
              "   flavanoids  nonflavanoid_phenols  proanthocyanins  color_intensity   hue  \\\n",
              "0        3.06                  0.28             2.29             5.64  1.04   \n",
              "1        2.76                  0.26             1.28             4.38  1.05   \n",
              "2        3.24                  0.30             2.81             5.68  1.03   \n",
              "3        3.49                  0.24             2.18             7.80  0.86   \n",
              "4        2.69                  0.39             1.82             4.32  1.04   \n",
              "5        3.39                  0.34             1.97             6.75  1.05   \n",
              "6        2.52                  0.30             1.98             5.25  1.02   \n",
              "7        2.51                  0.31             1.25             5.05  1.06   \n",
              "\n",
              "   od280/od315_of_diluted_wines  proline  \n",
              "0                          3.92   1065.0  \n",
              "1                          3.40   1050.0  \n",
              "2                          3.17   1185.0  \n",
              "3                          3.45   1480.0  \n",
              "4                          2.93    735.0  \n",
              "5                          2.85   1450.0  \n",
              "6                          3.58   1290.0  \n",
              "7                          3.58   1295.0  "
            ],
            "text/html": [
              "\n",
              "  <div id=\"df-cf5e5164-fda7-4f05-9c77-ffe9321fac1d\" class=\"colab-df-container\">\n",
              "    <div>\n",
              "<style scoped>\n",
              "    .dataframe tbody tr th:only-of-type {\n",
              "        vertical-align: middle;\n",
              "    }\n",
              "\n",
              "    .dataframe tbody tr th {\n",
              "        vertical-align: top;\n",
              "    }\n",
              "\n",
              "    .dataframe thead th {\n",
              "        text-align: right;\n",
              "    }\n",
              "</style>\n",
              "<table border=\"1\" class=\"dataframe\">\n",
              "  <thead>\n",
              "    <tr style=\"text-align: right;\">\n",
              "      <th></th>\n",
              "      <th>alcohol</th>\n",
              "      <th>malic_acid</th>\n",
              "      <th>ash</th>\n",
              "      <th>alcalinity_of_ash</th>\n",
              "      <th>magnesium</th>\n",
              "      <th>total_phenols</th>\n",
              "      <th>flavanoids</th>\n",
              "      <th>nonflavanoid_phenols</th>\n",
              "      <th>proanthocyanins</th>\n",
              "      <th>color_intensity</th>\n",
              "      <th>hue</th>\n",
              "      <th>od280/od315_of_diluted_wines</th>\n",
              "      <th>proline</th>\n",
              "    </tr>\n",
              "  </thead>\n",
              "  <tbody>\n",
              "    <tr>\n",
              "      <th>0</th>\n",
              "      <td>14.23</td>\n",
              "      <td>1.71</td>\n",
              "      <td>2.43</td>\n",
              "      <td>15.6</td>\n",
              "      <td>127.0</td>\n",
              "      <td>2.80</td>\n",
              "      <td>3.06</td>\n",
              "      <td>0.28</td>\n",
              "      <td>2.29</td>\n",
              "      <td>5.64</td>\n",
              "      <td>1.04</td>\n",
              "      <td>3.92</td>\n",
              "      <td>1065.0</td>\n",
              "    </tr>\n",
              "    <tr>\n",
              "      <th>1</th>\n",
              "      <td>13.20</td>\n",
              "      <td>1.78</td>\n",
              "      <td>2.14</td>\n",
              "      <td>11.2</td>\n",
              "      <td>100.0</td>\n",
              "      <td>2.65</td>\n",
              "      <td>2.76</td>\n",
              "      <td>0.26</td>\n",
              "      <td>1.28</td>\n",
              "      <td>4.38</td>\n",
              "      <td>1.05</td>\n",
              "      <td>3.40</td>\n",
              "      <td>1050.0</td>\n",
              "    </tr>\n",
              "    <tr>\n",
              "      <th>2</th>\n",
              "      <td>13.16</td>\n",
              "      <td>2.36</td>\n",
              "      <td>2.67</td>\n",
              "      <td>18.6</td>\n",
              "      <td>101.0</td>\n",
              "      <td>2.80</td>\n",
              "      <td>3.24</td>\n",
              "      <td>0.30</td>\n",
              "      <td>2.81</td>\n",
              "      <td>5.68</td>\n",
              "      <td>1.03</td>\n",
              "      <td>3.17</td>\n",
              "      <td>1185.0</td>\n",
              "    </tr>\n",
              "    <tr>\n",
              "      <th>3</th>\n",
              "      <td>14.37</td>\n",
              "      <td>1.95</td>\n",
              "      <td>2.50</td>\n",
              "      <td>16.8</td>\n",
              "      <td>113.0</td>\n",
              "      <td>3.85</td>\n",
              "      <td>3.49</td>\n",
              "      <td>0.24</td>\n",
              "      <td>2.18</td>\n",
              "      <td>7.80</td>\n",
              "      <td>0.86</td>\n",
              "      <td>3.45</td>\n",
              "      <td>1480.0</td>\n",
              "    </tr>\n",
              "    <tr>\n",
              "      <th>4</th>\n",
              "      <td>13.24</td>\n",
              "      <td>2.59</td>\n",
              "      <td>2.87</td>\n",
              "      <td>21.0</td>\n",
              "      <td>118.0</td>\n",
              "      <td>2.80</td>\n",
              "      <td>2.69</td>\n",
              "      <td>0.39</td>\n",
              "      <td>1.82</td>\n",
              "      <td>4.32</td>\n",
              "      <td>1.04</td>\n",
              "      <td>2.93</td>\n",
              "      <td>735.0</td>\n",
              "    </tr>\n",
              "    <tr>\n",
              "      <th>5</th>\n",
              "      <td>14.20</td>\n",
              "      <td>1.76</td>\n",
              "      <td>2.45</td>\n",
              "      <td>15.2</td>\n",
              "      <td>112.0</td>\n",
              "      <td>3.27</td>\n",
              "      <td>3.39</td>\n",
              "      <td>0.34</td>\n",
              "      <td>1.97</td>\n",
              "      <td>6.75</td>\n",
              "      <td>1.05</td>\n",
              "      <td>2.85</td>\n",
              "      <td>1450.0</td>\n",
              "    </tr>\n",
              "    <tr>\n",
              "      <th>6</th>\n",
              "      <td>14.39</td>\n",
              "      <td>1.87</td>\n",
              "      <td>2.45</td>\n",
              "      <td>14.6</td>\n",
              "      <td>96.0</td>\n",
              "      <td>2.50</td>\n",
              "      <td>2.52</td>\n",
              "      <td>0.30</td>\n",
              "      <td>1.98</td>\n",
              "      <td>5.25</td>\n",
              "      <td>1.02</td>\n",
              "      <td>3.58</td>\n",
              "      <td>1290.0</td>\n",
              "    </tr>\n",
              "    <tr>\n",
              "      <th>7</th>\n",
              "      <td>14.06</td>\n",
              "      <td>2.15</td>\n",
              "      <td>2.61</td>\n",
              "      <td>17.6</td>\n",
              "      <td>121.0</td>\n",
              "      <td>2.60</td>\n",
              "      <td>2.51</td>\n",
              "      <td>0.31</td>\n",
              "      <td>1.25</td>\n",
              "      <td>5.05</td>\n",
              "      <td>1.06</td>\n",
              "      <td>3.58</td>\n",
              "      <td>1295.0</td>\n",
              "    </tr>\n",
              "  </tbody>\n",
              "</table>\n",
              "</div>\n",
              "    <div class=\"colab-df-buttons\">\n",
              "\n",
              "  <div class=\"colab-df-container\">\n",
              "    <button class=\"colab-df-convert\" onclick=\"convertToInteractive('df-cf5e5164-fda7-4f05-9c77-ffe9321fac1d')\"\n",
              "            title=\"Convert this dataframe to an interactive table.\"\n",
              "            style=\"display:none;\">\n",
              "\n",
              "  <svg xmlns=\"http://www.w3.org/2000/svg\" height=\"24px\" viewBox=\"0 -960 960 960\">\n",
              "    <path d=\"M120-120v-720h720v720H120Zm60-500h600v-160H180v160Zm220 220h160v-160H400v160Zm0 220h160v-160H400v160ZM180-400h160v-160H180v160Zm440 0h160v-160H620v160ZM180-180h160v-160H180v160Zm440 0h160v-160H620v160Z\"/>\n",
              "  </svg>\n",
              "    </button>\n",
              "\n",
              "  <style>\n",
              "    .colab-df-container {\n",
              "      display:flex;\n",
              "      gap: 12px;\n",
              "    }\n",
              "\n",
              "    .colab-df-convert {\n",
              "      background-color: #E8F0FE;\n",
              "      border: none;\n",
              "      border-radius: 50%;\n",
              "      cursor: pointer;\n",
              "      display: none;\n",
              "      fill: #1967D2;\n",
              "      height: 32px;\n",
              "      padding: 0 0 0 0;\n",
              "      width: 32px;\n",
              "    }\n",
              "\n",
              "    .colab-df-convert:hover {\n",
              "      background-color: #E2EBFA;\n",
              "      box-shadow: 0px 1px 2px rgba(60, 64, 67, 0.3), 0px 1px 3px 1px rgba(60, 64, 67, 0.15);\n",
              "      fill: #174EA6;\n",
              "    }\n",
              "\n",
              "    .colab-df-buttons div {\n",
              "      margin-bottom: 4px;\n",
              "    }\n",
              "\n",
              "    [theme=dark] .colab-df-convert {\n",
              "      background-color: #3B4455;\n",
              "      fill: #D2E3FC;\n",
              "    }\n",
              "\n",
              "    [theme=dark] .colab-df-convert:hover {\n",
              "      background-color: #434B5C;\n",
              "      box-shadow: 0px 1px 3px 1px rgba(0, 0, 0, 0.15);\n",
              "      filter: drop-shadow(0px 1px 2px rgba(0, 0, 0, 0.3));\n",
              "      fill: #FFFFFF;\n",
              "    }\n",
              "  </style>\n",
              "\n",
              "    <script>\n",
              "      const buttonEl =\n",
              "        document.querySelector('#df-cf5e5164-fda7-4f05-9c77-ffe9321fac1d button.colab-df-convert');\n",
              "      buttonEl.style.display =\n",
              "        google.colab.kernel.accessAllowed ? 'block' : 'none';\n",
              "\n",
              "      async function convertToInteractive(key) {\n",
              "        const element = document.querySelector('#df-cf5e5164-fda7-4f05-9c77-ffe9321fac1d');\n",
              "        const dataTable =\n",
              "          await google.colab.kernel.invokeFunction('convertToInteractive',\n",
              "                                                    [key], {});\n",
              "        if (!dataTable) return;\n",
              "\n",
              "        const docLinkHtml = 'Like what you see? Visit the ' +\n",
              "          '<a target=\"_blank\" href=https://colab.research.google.com/notebooks/data_table.ipynb>data table notebook</a>'\n",
              "          + ' to learn more about interactive tables.';\n",
              "        element.innerHTML = '';\n",
              "        dataTable['output_type'] = 'display_data';\n",
              "        await google.colab.output.renderOutput(dataTable, element);\n",
              "        const docLink = document.createElement('div');\n",
              "        docLink.innerHTML = docLinkHtml;\n",
              "        element.appendChild(docLink);\n",
              "      }\n",
              "    </script>\n",
              "  </div>\n",
              "\n",
              "\n",
              "<div id=\"df-011258e0-2985-4ead-837e-87f93c9c342b\">\n",
              "  <button class=\"colab-df-quickchart\" onclick=\"quickchart('df-011258e0-2985-4ead-837e-87f93c9c342b')\"\n",
              "            title=\"Suggest charts\"\n",
              "            style=\"display:none;\">\n",
              "\n",
              "<svg xmlns=\"http://www.w3.org/2000/svg\" height=\"24px\"viewBox=\"0 0 24 24\"\n",
              "     width=\"24px\">\n",
              "    <g>\n",
              "        <path d=\"M19 3H5c-1.1 0-2 .9-2 2v14c0 1.1.9 2 2 2h14c1.1 0 2-.9 2-2V5c0-1.1-.9-2-2-2zM9 17H7v-7h2v7zm4 0h-2V7h2v10zm4 0h-2v-4h2v4z\"/>\n",
              "    </g>\n",
              "</svg>\n",
              "  </button>\n",
              "\n",
              "<style>\n",
              "  .colab-df-quickchart {\n",
              "      --bg-color: #E8F0FE;\n",
              "      --fill-color: #1967D2;\n",
              "      --hover-bg-color: #E2EBFA;\n",
              "      --hover-fill-color: #174EA6;\n",
              "      --disabled-fill-color: #AAA;\n",
              "      --disabled-bg-color: #DDD;\n",
              "  }\n",
              "\n",
              "  [theme=dark] .colab-df-quickchart {\n",
              "      --bg-color: #3B4455;\n",
              "      --fill-color: #D2E3FC;\n",
              "      --hover-bg-color: #434B5C;\n",
              "      --hover-fill-color: #FFFFFF;\n",
              "      --disabled-bg-color: #3B4455;\n",
              "      --disabled-fill-color: #666;\n",
              "  }\n",
              "\n",
              "  .colab-df-quickchart {\n",
              "    background-color: var(--bg-color);\n",
              "    border: none;\n",
              "    border-radius: 50%;\n",
              "    cursor: pointer;\n",
              "    display: none;\n",
              "    fill: var(--fill-color);\n",
              "    height: 32px;\n",
              "    padding: 0;\n",
              "    width: 32px;\n",
              "  }\n",
              "\n",
              "  .colab-df-quickchart:hover {\n",
              "    background-color: var(--hover-bg-color);\n",
              "    box-shadow: 0 1px 2px rgba(60, 64, 67, 0.3), 0 1px 3px 1px rgba(60, 64, 67, 0.15);\n",
              "    fill: var(--button-hover-fill-color);\n",
              "  }\n",
              "\n",
              "  .colab-df-quickchart-complete:disabled,\n",
              "  .colab-df-quickchart-complete:disabled:hover {\n",
              "    background-color: var(--disabled-bg-color);\n",
              "    fill: var(--disabled-fill-color);\n",
              "    box-shadow: none;\n",
              "  }\n",
              "\n",
              "  .colab-df-spinner {\n",
              "    border: 2px solid var(--fill-color);\n",
              "    border-color: transparent;\n",
              "    border-bottom-color: var(--fill-color);\n",
              "    animation:\n",
              "      spin 1s steps(1) infinite;\n",
              "  }\n",
              "\n",
              "  @keyframes spin {\n",
              "    0% {\n",
              "      border-color: transparent;\n",
              "      border-bottom-color: var(--fill-color);\n",
              "      border-left-color: var(--fill-color);\n",
              "    }\n",
              "    20% {\n",
              "      border-color: transparent;\n",
              "      border-left-color: var(--fill-color);\n",
              "      border-top-color: var(--fill-color);\n",
              "    }\n",
              "    30% {\n",
              "      border-color: transparent;\n",
              "      border-left-color: var(--fill-color);\n",
              "      border-top-color: var(--fill-color);\n",
              "      border-right-color: var(--fill-color);\n",
              "    }\n",
              "    40% {\n",
              "      border-color: transparent;\n",
              "      border-right-color: var(--fill-color);\n",
              "      border-top-color: var(--fill-color);\n",
              "    }\n",
              "    60% {\n",
              "      border-color: transparent;\n",
              "      border-right-color: var(--fill-color);\n",
              "    }\n",
              "    80% {\n",
              "      border-color: transparent;\n",
              "      border-right-color: var(--fill-color);\n",
              "      border-bottom-color: var(--fill-color);\n",
              "    }\n",
              "    90% {\n",
              "      border-color: transparent;\n",
              "      border-bottom-color: var(--fill-color);\n",
              "    }\n",
              "  }\n",
              "</style>\n",
              "\n",
              "  <script>\n",
              "    async function quickchart(key) {\n",
              "      const quickchartButtonEl =\n",
              "        document.querySelector('#' + key + ' button');\n",
              "      quickchartButtonEl.disabled = true;  // To prevent multiple clicks.\n",
              "      quickchartButtonEl.classList.add('colab-df-spinner');\n",
              "      try {\n",
              "        const charts = await google.colab.kernel.invokeFunction(\n",
              "            'suggestCharts', [key], {});\n",
              "      } catch (error) {\n",
              "        console.error('Error during call to suggestCharts:', error);\n",
              "      }\n",
              "      quickchartButtonEl.classList.remove('colab-df-spinner');\n",
              "      quickchartButtonEl.classList.add('colab-df-quickchart-complete');\n",
              "    }\n",
              "    (() => {\n",
              "      let quickchartButtonEl =\n",
              "        document.querySelector('#df-011258e0-2985-4ead-837e-87f93c9c342b button');\n",
              "      quickchartButtonEl.style.display =\n",
              "        google.colab.kernel.accessAllowed ? 'block' : 'none';\n",
              "    })();\n",
              "  </script>\n",
              "</div>\n",
              "    </div>\n",
              "  </div>\n"
            ],
            "application/vnd.google.colaboratory.intrinsic+json": {
              "type": "dataframe",
              "variable_name": "X",
              "summary": "{\n  \"name\": \"X\",\n  \"rows\": 178,\n  \"fields\": [\n    {\n      \"column\": \"alcohol\",\n      \"properties\": {\n        \"dtype\": \"number\",\n        \"std\": 0.8118265380058575,\n        \"min\": 11.03,\n        \"max\": 14.83,\n        \"num_unique_values\": 126,\n        \"samples\": [\n          11.62,\n          13.64,\n          13.69\n        ],\n        \"semantic_type\": \"\",\n        \"description\": \"\"\n      }\n    },\n    {\n      \"column\": \"malic_acid\",\n      \"properties\": {\n        \"dtype\": \"number\",\n        \"std\": 1.1171460976144627,\n        \"min\": 0.74,\n        \"max\": 5.8,\n        \"num_unique_values\": 133,\n        \"samples\": [\n          1.21,\n          2.83,\n          1.8\n        ],\n        \"semantic_type\": \"\",\n        \"description\": \"\"\n      }\n    },\n    {\n      \"column\": \"ash\",\n      \"properties\": {\n        \"dtype\": \"number\",\n        \"std\": 0.27434400906081485,\n        \"min\": 1.36,\n        \"max\": 3.23,\n        \"num_unique_values\": 79,\n        \"samples\": [\n          2.31,\n          2.43,\n          2.52\n        ],\n        \"semantic_type\": \"\",\n        \"description\": \"\"\n      }\n    },\n    {\n      \"column\": \"alcalinity_of_ash\",\n      \"properties\": {\n        \"dtype\": \"number\",\n        \"std\": 3.339563767173505,\n        \"min\": 10.6,\n        \"max\": 30.0,\n        \"num_unique_values\": 63,\n        \"samples\": [\n          25.5,\n          28.5,\n          15.6\n        ],\n        \"semantic_type\": \"\",\n        \"description\": \"\"\n      }\n    },\n    {\n      \"column\": \"magnesium\",\n      \"properties\": {\n        \"dtype\": \"number\",\n        \"std\": 14.282483515295665,\n        \"min\": 70.0,\n        \"max\": 162.0,\n        \"num_unique_values\": 53,\n        \"samples\": [\n          126.0,\n          85.0,\n          162.0\n        ],\n        \"semantic_type\": \"\",\n        \"description\": \"\"\n      }\n    },\n    {\n      \"column\": \"total_phenols\",\n      \"properties\": {\n        \"dtype\": \"number\",\n        \"std\": 0.6258510488339893,\n        \"min\": 0.98,\n        \"max\": 3.88,\n        \"num_unique_values\": 97,\n        \"samples\": [\n          1.68,\n          2.11,\n          1.35\n        ],\n        \"semantic_type\": \"\",\n        \"description\": \"\"\n      }\n    },\n    {\n      \"column\": \"flavanoids\",\n      \"properties\": {\n        \"dtype\": \"number\",\n        \"std\": 0.9988586850169467,\n        \"min\": 0.34,\n        \"max\": 5.08,\n        \"num_unique_values\": 132,\n        \"samples\": [\n          3.18,\n          2.5,\n          3.17\n        ],\n        \"semantic_type\": \"\",\n        \"description\": \"\"\n      }\n    },\n    {\n      \"column\": \"nonflavanoid_phenols\",\n      \"properties\": {\n        \"dtype\": \"number\",\n        \"std\": 0.12445334029667937,\n        \"min\": 0.13,\n        \"max\": 0.66,\n        \"num_unique_values\": 39,\n        \"samples\": [\n          0.58,\n          0.41,\n          0.39\n        ],\n        \"semantic_type\": \"\",\n        \"description\": \"\"\n      }\n    },\n    {\n      \"column\": \"proanthocyanins\",\n      \"properties\": {\n        \"dtype\": \"number\",\n        \"std\": 0.5723588626747613,\n        \"min\": 0.41,\n        \"max\": 3.58,\n        \"num_unique_values\": 101,\n        \"samples\": [\n          0.75,\n          1.77,\n          1.42\n        ],\n        \"semantic_type\": \"\",\n        \"description\": \"\"\n      }\n    },\n    {\n      \"column\": \"color_intensity\",\n      \"properties\": {\n        \"dtype\": \"number\",\n        \"std\": 2.318285871822413,\n        \"min\": 1.28,\n        \"max\": 13.0,\n        \"num_unique_values\": 132,\n        \"samples\": [\n          2.95,\n          3.3,\n          5.1\n        ],\n        \"semantic_type\": \"\",\n        \"description\": \"\"\n      }\n    },\n    {\n      \"column\": \"hue\",\n      \"properties\": {\n        \"dtype\": \"number\",\n        \"std\": 0.22857156582982338,\n        \"min\": 0.48,\n        \"max\": 1.71,\n        \"num_unique_values\": 78,\n        \"samples\": [\n          1.22,\n          1.04,\n          1.45\n        ],\n        \"semantic_type\": \"\",\n        \"description\": \"\"\n      }\n    },\n    {\n      \"column\": \"od280/od315_of_diluted_wines\",\n      \"properties\": {\n        \"dtype\": \"number\",\n        \"std\": 0.7099904287650504,\n        \"min\": 1.27,\n        \"max\": 4.0,\n        \"num_unique_values\": 122,\n        \"samples\": [\n          4.0,\n          1.82,\n          1.59\n        ],\n        \"semantic_type\": \"\",\n        \"description\": \"\"\n      }\n    },\n    {\n      \"column\": \"proline\",\n      \"properties\": {\n        \"dtype\": \"number\",\n        \"std\": 314.9074742768491,\n        \"min\": 278.0,\n        \"max\": 1680.0,\n        \"num_unique_values\": 121,\n        \"samples\": [\n          1375.0,\n          1270.0,\n          735.0\n        ],\n        \"semantic_type\": \"\",\n        \"description\": \"\"\n      }\n    }\n  ]\n}"
            }
          },
          "metadata": {},
          "execution_count": 249
        }
      ],
      "source": [
        "from sklearn.datasets import load_wine\n",
        "\n",
        "data = load_wine()\n",
        "X = pd.DataFrame(data['data'], columns = data['feature_names'])\n",
        "y = data['target']\n",
        "X.head(8)"
      ]
    },
    {
      "cell_type": "code",
      "execution_count": 250,
      "metadata": {
        "colab": {
          "base_uri": "https://localhost:8080/"
        },
        "id": "g1ObeVhY1gHo",
        "outputId": "06ed0621-0541-4f60-bef1-f809296c5f0b"
      },
      "outputs": [
        {
          "output_type": "execute_result",
          "data": {
            "text/plain": [
              "array([0, 0, 0, 0, 0, 0, 0, 0, 0, 0, 0, 0, 0, 0, 0, 0, 0, 0, 0, 0, 0, 0,\n",
              "       0, 0, 0, 0, 0, 0, 0, 0, 0, 0, 0, 0, 0, 0, 0, 0, 0, 0, 0, 0, 0, 0,\n",
              "       0, 0, 0, 0, 0, 0, 0, 0, 0, 0, 0, 0, 0, 0, 0, 1, 1, 1, 1, 1, 1, 1,\n",
              "       1, 1, 1, 1, 1, 1, 1, 1, 1, 1, 1, 1, 1, 1, 1, 1, 1, 1, 1, 1, 1, 1,\n",
              "       1, 1, 1, 1, 1, 1, 1, 1, 1, 1, 1, 1, 1, 1, 1, 1, 1, 1, 1, 1, 1, 1,\n",
              "       1, 1, 1, 1, 1, 1, 1, 1, 1, 1, 1, 1, 1, 1, 1, 1, 1, 1, 1, 1, 2, 2,\n",
              "       2, 2, 2, 2, 2, 2, 2, 2, 2, 2, 2, 2, 2, 2, 2, 2, 2, 2, 2, 2, 2, 2,\n",
              "       2, 2, 2, 2, 2, 2, 2, 2, 2, 2, 2, 2, 2, 2, 2, 2, 2, 2, 2, 2, 2, 2,\n",
              "       2, 2])"
            ]
          },
          "metadata": {},
          "execution_count": 250
        }
      ],
      "source": [
        "y"
      ]
    },
    {
      "cell_type": "markdown",
      "metadata": {
        "id": "b_U56JgAgFQx"
      },
      "source": [
        "**Задача 1.1 (0.5 балла)** Есть ли в наборе данных пропущенные значения? Если да, то удалите их. Есть ли в наборе данных категориальные переменные? Если да, то закодируйте их при помощи OneHot-кодирования. Используйте [OneHotEncoder](https://scikit-learn.org/stable/modules/generated/sklearn.preprocessing.OneHotEncoder.html)."
      ]
    },
    {
      "cell_type": "code",
      "execution_count": 251,
      "metadata": {
        "colab": {
          "base_uri": "https://localhost:8080/"
        },
        "id": "fiSpOONkgFQx",
        "outputId": "3257a92d-6d4b-4177-f97e-6ad9ebc987b6"
      },
      "outputs": [
        {
          "output_type": "stream",
          "name": "stdout",
          "text": [
            "<class 'pandas.core.frame.DataFrame'>\n",
            "RangeIndex: 178 entries, 0 to 177\n",
            "Data columns (total 13 columns):\n",
            " #   Column                        Non-Null Count  Dtype  \n",
            "---  ------                        --------------  -----  \n",
            " 0   alcohol                       178 non-null    float64\n",
            " 1   malic_acid                    178 non-null    float64\n",
            " 2   ash                           178 non-null    float64\n",
            " 3   alcalinity_of_ash             178 non-null    float64\n",
            " 4   magnesium                     178 non-null    float64\n",
            " 5   total_phenols                 178 non-null    float64\n",
            " 6   flavanoids                    178 non-null    float64\n",
            " 7   nonflavanoid_phenols          178 non-null    float64\n",
            " 8   proanthocyanins               178 non-null    float64\n",
            " 9   color_intensity               178 non-null    float64\n",
            " 10  hue                           178 non-null    float64\n",
            " 11  od280/od315_of_diluted_wines  178 non-null    float64\n",
            " 12  proline                       178 non-null    float64\n",
            "dtypes: float64(13)\n",
            "memory usage: 18.2 KB\n"
          ]
        }
      ],
      "source": [
        "X.info()"
      ]
    },
    {
      "cell_type": "markdown",
      "metadata": {
        "id": "LCUU2sp24CMz"
      },
      "source": [
        "Как мы видим, Nan у нас нет. Значит и удалять ничего не нужно."
      ]
    },
    {
      "cell_type": "markdown",
      "metadata": {
        "id": "QLx8HlGKGA6t"
      },
      "source": [
        "*Категориальные признаки (переменные)* - такие признаки в датасете, которые не являются точкой в некотором $\\mathbb{R}^{d}$."
      ]
    },
    {
      "cell_type": "markdown",
      "metadata": {
        "id": "2l2yNRNTG5_W"
      },
      "source": [
        "По описанию видим, что у нас все float. Поэтому кодировать их в точки $\\mathbb{R}^{d}$ не придется.  "
      ]
    },
    {
      "cell_type": "markdown",
      "metadata": {
        "id": "Xj_ninjkoYmV"
      },
      "source": [
        "\n",
        "\n",
        "---\n",
        "\n"
      ]
    },
    {
      "cell_type": "markdown",
      "metadata": {
        "id": "NHCh7x50SoCM"
      },
      "source": [
        "Все же приведем пример, когда это все таки было бы нужно."
      ]
    },
    {
      "cell_type": "code",
      "execution_count": 252,
      "metadata": {
        "id": "_3-MJq3IS9Bo"
      },
      "outputs": [],
      "source": [
        "from sklearn.preprocessing import OneHotEncoder"
      ]
    },
    {
      "cell_type": "code",
      "execution_count": 253,
      "metadata": {
        "id": "DSvCxU2uTA-L"
      },
      "outputs": [],
      "source": [
        "roles = np.array([('Tom', 'manager'),\n",
        "                   ('Mary', 'developer'),\n",
        "                   ('Ann', 'recruiter'),\n",
        "                   ('Jim', 'developer')])"
      ]
    },
    {
      "cell_type": "code",
      "execution_count": 254,
      "metadata": {
        "colab": {
          "base_uri": "https://localhost:8080/"
        },
        "id": "NNyUt1MQTFcx",
        "outputId": "3aa5756c-3cb1-4292-9428-f12d3095c669"
      },
      "outputs": [
        {
          "output_type": "execute_result",
          "data": {
            "text/plain": [
              "array([['Tom', 'manager'],\n",
              "       ['Mary', 'developer'],\n",
              "       ['Ann', 'recruiter'],\n",
              "       ['Jim', 'developer']], dtype='<U9')"
            ]
          },
          "metadata": {},
          "execution_count": 254
        }
      ],
      "source": [
        "roles"
      ]
    },
    {
      "cell_type": "code",
      "execution_count": 255,
      "metadata": {
        "id": "owCEerr9T4kv"
      },
      "outputs": [],
      "source": [
        "encoder = OneHotEncoder()"
      ]
    },
    {
      "cell_type": "code",
      "execution_count": 256,
      "metadata": {
        "colab": {
          "base_uri": "https://localhost:8080/"
        },
        "id": "dsGNM3nFUhbm",
        "outputId": "975c53e3-3650-405f-f649-a164fad7cddf"
      },
      "outputs": [
        {
          "output_type": "execute_result",
          "data": {
            "text/plain": [
              "array(['manager', 'developer', 'recruiter', 'developer'], dtype='<U9')"
            ]
          },
          "metadata": {},
          "execution_count": 256
        }
      ],
      "source": [
        "roles[:, 1]"
      ]
    },
    {
      "cell_type": "code",
      "execution_count": 257,
      "metadata": {
        "colab": {
          "base_uri": "https://localhost:8080/"
        },
        "id": "lVK1rHxFUmdq",
        "outputId": "aeb24c9a-0977-4974-8b32-7bf51b00403e"
      },
      "outputs": [
        {
          "output_type": "execute_result",
          "data": {
            "text/plain": [
              "array([['manager'],\n",
              "       ['developer'],\n",
              "       ['recruiter'],\n",
              "       ['developer']], dtype='<U9')"
            ]
          },
          "metadata": {},
          "execution_count": 257
        }
      ],
      "source": [
        "roles[:, [1]]"
      ]
    },
    {
      "cell_type": "markdown",
      "metadata": {
        "id": "UAXSiTV8ksE3"
      },
      "source": [
        "*estimator* (*оценщик*) = *классификатор* - терминалогия sklearn."
      ]
    },
    {
      "cell_type": "markdown",
      "metadata": {
        "id": "nHynoVrQUyuV"
      },
      "source": [
        "Метод `fit` указывается в каждом *оценщике* (*estimator*). Обычно он берет объекты (samples) `X`, таргеты `y` если речь об обучении с учителем, и потенциально другие *sample properties* such as *sample_weight*."
      ]
    },
    {
      "cell_type": "code",
      "execution_count": 258,
      "metadata": {
        "id": "ycPePCQ8T5mZ"
      },
      "outputs": [],
      "source": [
        "encoded_roles = encoder.fit_transform(roles[:, [1]])"
      ]
    },
    {
      "cell_type": "markdown",
      "metadata": {
        "id": "Q56yAPLEoaph"
      },
      "source": [
        "\n",
        "\n",
        "---\n",
        "\n"
      ]
    },
    {
      "cell_type": "markdown",
      "metadata": {
        "id": "m9ormdqggFQx"
      },
      "source": [
        "**Задача 1.2 (0.5 балла)** Используя функцию `train_test_split()`, разделите выборку на тренировочную и тестовую, и долю тестовой выборки задайте равной 0.3. Так как разбиение осуществляется случайным образом, не забудьте зафиксировать `np.random.seed()` для воспроизводимости результатов.\n",
        "\n",
        "Используйте аргумент `stratify` при разбиении. Почему это важно?"
      ]
    },
    {
      "cell_type": "markdown",
      "metadata": {
        "id": "pz-Iv7c8ojf0"
      },
      "source": [
        "Сначала импортируем эту функцию из пакета `sklearn`."
      ]
    },
    {
      "cell_type": "code",
      "execution_count": 259,
      "metadata": {
        "id": "RaqpIGRnNgqM"
      },
      "outputs": [],
      "source": [
        "from sklearn.model_selection import train_test_split"
      ]
    },
    {
      "cell_type": "markdown",
      "metadata": {
        "id": "vUTKj6WEoieZ"
      },
      "source": [
        "Краткий обор функции `train_test_split()`:\n",
        "* первыми аргументами идут массивы - **arrays**;\n",
        "* вторым аргументом идет *размер тестовой выборки* - **test_size**: ее нам наказали взять 0.3, что означает долю тестовой выборки ко всей выборки;\n",
        "* третий аргумент аналогичен второму, но представляет *размер обучающей выборки* - **train_size**;\n",
        "* четвертый аргумент устанавливает *состояние случайности* отбора тестовой и обучающей выборок - **random_state**. Подается в виде натурального числа - порядкого номера случайного генератора. Или default - numpy.random(). Или в виде случайного генератора numpy. Тогда нужно передать саму функцию.\n",
        "* **shuffle** - тасовка. Следует ли перетасовывать данные перед разделением или нет? Принимает значение bool;\n",
        "* **stratify** - расслаивать. Передается массив длины такой же, что и длины таргета у которого в каждое значение встречается хотя бы 2 раза (полезно для задач классификации). Если передано не None, то данные разбиваются стратифицированным образом, используя массив в качестве меток классов. То есть в разделениях будут сохрянятся количественные соотношения на классы.\n"
      ]
    },
    {
      "cell_type": "markdown",
      "metadata": {
        "id": "h5Z1h_VnuPYm"
      },
      "source": [
        "На выход дает 4 списка в порядке `X_train, X_test, y_train, y_test`."
      ]
    },
    {
      "cell_type": "code",
      "execution_count": 260,
      "metadata": {
        "id": "9ejTIGB2gFQx"
      },
      "outputs": [],
      "source": [
        "X_train, X_test, y_train, y_test = train_test_split(\n",
        "    X, y, test_size=0.33, random_state=np.random.seed(), stratify = y)"
      ]
    },
    {
      "cell_type": "code",
      "execution_count": 261,
      "metadata": {
        "colab": {
          "base_uri": "https://localhost:8080/",
          "height": 443
        },
        "id": "hPBfUVpGuI8E",
        "outputId": "409848af-2101-46d2-dfaa-b921e643aec2"
      },
      "outputs": [
        {
          "output_type": "execute_result",
          "data": {
            "text/plain": [
              "     alcohol  malic_acid   ash  alcalinity_of_ash  magnesium  total_phenols  \\\n",
              "0      14.23        1.71  2.43               15.6      127.0           2.80   \n",
              "156    13.84        4.12  2.38               19.5       89.0           1.80   \n",
              "159    13.48        1.67  2.64               22.5       89.0           2.60   \n",
              "140    12.93        2.81  2.70               21.0       96.0           1.54   \n",
              "158    14.34        1.68  2.70               25.0       98.0           2.80   \n",
              "..       ...         ...   ...                ...        ...            ...   \n",
              "152    13.11        1.90  2.75               25.5      116.0           2.20   \n",
              "2      13.16        2.36  2.67               18.6      101.0           2.80   \n",
              "101    12.60        1.34  1.90               18.5       88.0           1.45   \n",
              "37     13.05        1.65  2.55               18.0       98.0           2.45   \n",
              "155    13.17        5.19  2.32               22.0       93.0           1.74   \n",
              "\n",
              "     flavanoids  nonflavanoid_phenols  proanthocyanins  color_intensity   hue  \\\n",
              "0          3.06                  0.28             2.29             5.64  1.04   \n",
              "156        0.83                  0.48             1.56             9.01  0.57   \n",
              "159        1.10                  0.52             2.29            11.75  0.57   \n",
              "140        0.50                  0.53             0.75             4.60  0.77   \n",
              "158        1.31                  0.53             2.70            13.00  0.57   \n",
              "..          ...                   ...              ...              ...   ...   \n",
              "152        1.28                  0.26             1.56             7.10  0.61   \n",
              "2          3.24                  0.30             2.81             5.68  1.03   \n",
              "101        1.36                  0.29             1.35             2.45  1.04   \n",
              "37         2.43                  0.29             1.44             4.25  1.12   \n",
              "155        0.63                  0.61             1.55             7.90  0.60   \n",
              "\n",
              "     od280/od315_of_diluted_wines  proline  \n",
              "0                            3.92   1065.0  \n",
              "156                          1.64    480.0  \n",
              "159                          1.78    620.0  \n",
              "140                          2.31    600.0  \n",
              "158                          1.96    660.0  \n",
              "..                            ...      ...  \n",
              "152                          1.33    425.0  \n",
              "2                            3.17   1185.0  \n",
              "101                          2.77    562.0  \n",
              "37                           2.51   1105.0  \n",
              "155                          1.48    725.0  \n",
              "\n",
              "[119 rows x 13 columns]"
            ],
            "text/html": [
              "\n",
              "  <div id=\"df-0e00c782-dcd6-4295-bf20-2b8cbf939e90\" class=\"colab-df-container\">\n",
              "    <div>\n",
              "<style scoped>\n",
              "    .dataframe tbody tr th:only-of-type {\n",
              "        vertical-align: middle;\n",
              "    }\n",
              "\n",
              "    .dataframe tbody tr th {\n",
              "        vertical-align: top;\n",
              "    }\n",
              "\n",
              "    .dataframe thead th {\n",
              "        text-align: right;\n",
              "    }\n",
              "</style>\n",
              "<table border=\"1\" class=\"dataframe\">\n",
              "  <thead>\n",
              "    <tr style=\"text-align: right;\">\n",
              "      <th></th>\n",
              "      <th>alcohol</th>\n",
              "      <th>malic_acid</th>\n",
              "      <th>ash</th>\n",
              "      <th>alcalinity_of_ash</th>\n",
              "      <th>magnesium</th>\n",
              "      <th>total_phenols</th>\n",
              "      <th>flavanoids</th>\n",
              "      <th>nonflavanoid_phenols</th>\n",
              "      <th>proanthocyanins</th>\n",
              "      <th>color_intensity</th>\n",
              "      <th>hue</th>\n",
              "      <th>od280/od315_of_diluted_wines</th>\n",
              "      <th>proline</th>\n",
              "    </tr>\n",
              "  </thead>\n",
              "  <tbody>\n",
              "    <tr>\n",
              "      <th>0</th>\n",
              "      <td>14.23</td>\n",
              "      <td>1.71</td>\n",
              "      <td>2.43</td>\n",
              "      <td>15.6</td>\n",
              "      <td>127.0</td>\n",
              "      <td>2.80</td>\n",
              "      <td>3.06</td>\n",
              "      <td>0.28</td>\n",
              "      <td>2.29</td>\n",
              "      <td>5.64</td>\n",
              "      <td>1.04</td>\n",
              "      <td>3.92</td>\n",
              "      <td>1065.0</td>\n",
              "    </tr>\n",
              "    <tr>\n",
              "      <th>156</th>\n",
              "      <td>13.84</td>\n",
              "      <td>4.12</td>\n",
              "      <td>2.38</td>\n",
              "      <td>19.5</td>\n",
              "      <td>89.0</td>\n",
              "      <td>1.80</td>\n",
              "      <td>0.83</td>\n",
              "      <td>0.48</td>\n",
              "      <td>1.56</td>\n",
              "      <td>9.01</td>\n",
              "      <td>0.57</td>\n",
              "      <td>1.64</td>\n",
              "      <td>480.0</td>\n",
              "    </tr>\n",
              "    <tr>\n",
              "      <th>159</th>\n",
              "      <td>13.48</td>\n",
              "      <td>1.67</td>\n",
              "      <td>2.64</td>\n",
              "      <td>22.5</td>\n",
              "      <td>89.0</td>\n",
              "      <td>2.60</td>\n",
              "      <td>1.10</td>\n",
              "      <td>0.52</td>\n",
              "      <td>2.29</td>\n",
              "      <td>11.75</td>\n",
              "      <td>0.57</td>\n",
              "      <td>1.78</td>\n",
              "      <td>620.0</td>\n",
              "    </tr>\n",
              "    <tr>\n",
              "      <th>140</th>\n",
              "      <td>12.93</td>\n",
              "      <td>2.81</td>\n",
              "      <td>2.70</td>\n",
              "      <td>21.0</td>\n",
              "      <td>96.0</td>\n",
              "      <td>1.54</td>\n",
              "      <td>0.50</td>\n",
              "      <td>0.53</td>\n",
              "      <td>0.75</td>\n",
              "      <td>4.60</td>\n",
              "      <td>0.77</td>\n",
              "      <td>2.31</td>\n",
              "      <td>600.0</td>\n",
              "    </tr>\n",
              "    <tr>\n",
              "      <th>158</th>\n",
              "      <td>14.34</td>\n",
              "      <td>1.68</td>\n",
              "      <td>2.70</td>\n",
              "      <td>25.0</td>\n",
              "      <td>98.0</td>\n",
              "      <td>2.80</td>\n",
              "      <td>1.31</td>\n",
              "      <td>0.53</td>\n",
              "      <td>2.70</td>\n",
              "      <td>13.00</td>\n",
              "      <td>0.57</td>\n",
              "      <td>1.96</td>\n",
              "      <td>660.0</td>\n",
              "    </tr>\n",
              "    <tr>\n",
              "      <th>...</th>\n",
              "      <td>...</td>\n",
              "      <td>...</td>\n",
              "      <td>...</td>\n",
              "      <td>...</td>\n",
              "      <td>...</td>\n",
              "      <td>...</td>\n",
              "      <td>...</td>\n",
              "      <td>...</td>\n",
              "      <td>...</td>\n",
              "      <td>...</td>\n",
              "      <td>...</td>\n",
              "      <td>...</td>\n",
              "      <td>...</td>\n",
              "    </tr>\n",
              "    <tr>\n",
              "      <th>152</th>\n",
              "      <td>13.11</td>\n",
              "      <td>1.90</td>\n",
              "      <td>2.75</td>\n",
              "      <td>25.5</td>\n",
              "      <td>116.0</td>\n",
              "      <td>2.20</td>\n",
              "      <td>1.28</td>\n",
              "      <td>0.26</td>\n",
              "      <td>1.56</td>\n",
              "      <td>7.10</td>\n",
              "      <td>0.61</td>\n",
              "      <td>1.33</td>\n",
              "      <td>425.0</td>\n",
              "    </tr>\n",
              "    <tr>\n",
              "      <th>2</th>\n",
              "      <td>13.16</td>\n",
              "      <td>2.36</td>\n",
              "      <td>2.67</td>\n",
              "      <td>18.6</td>\n",
              "      <td>101.0</td>\n",
              "      <td>2.80</td>\n",
              "      <td>3.24</td>\n",
              "      <td>0.30</td>\n",
              "      <td>2.81</td>\n",
              "      <td>5.68</td>\n",
              "      <td>1.03</td>\n",
              "      <td>3.17</td>\n",
              "      <td>1185.0</td>\n",
              "    </tr>\n",
              "    <tr>\n",
              "      <th>101</th>\n",
              "      <td>12.60</td>\n",
              "      <td>1.34</td>\n",
              "      <td>1.90</td>\n",
              "      <td>18.5</td>\n",
              "      <td>88.0</td>\n",
              "      <td>1.45</td>\n",
              "      <td>1.36</td>\n",
              "      <td>0.29</td>\n",
              "      <td>1.35</td>\n",
              "      <td>2.45</td>\n",
              "      <td>1.04</td>\n",
              "      <td>2.77</td>\n",
              "      <td>562.0</td>\n",
              "    </tr>\n",
              "    <tr>\n",
              "      <th>37</th>\n",
              "      <td>13.05</td>\n",
              "      <td>1.65</td>\n",
              "      <td>2.55</td>\n",
              "      <td>18.0</td>\n",
              "      <td>98.0</td>\n",
              "      <td>2.45</td>\n",
              "      <td>2.43</td>\n",
              "      <td>0.29</td>\n",
              "      <td>1.44</td>\n",
              "      <td>4.25</td>\n",
              "      <td>1.12</td>\n",
              "      <td>2.51</td>\n",
              "      <td>1105.0</td>\n",
              "    </tr>\n",
              "    <tr>\n",
              "      <th>155</th>\n",
              "      <td>13.17</td>\n",
              "      <td>5.19</td>\n",
              "      <td>2.32</td>\n",
              "      <td>22.0</td>\n",
              "      <td>93.0</td>\n",
              "      <td>1.74</td>\n",
              "      <td>0.63</td>\n",
              "      <td>0.61</td>\n",
              "      <td>1.55</td>\n",
              "      <td>7.90</td>\n",
              "      <td>0.60</td>\n",
              "      <td>1.48</td>\n",
              "      <td>725.0</td>\n",
              "    </tr>\n",
              "  </tbody>\n",
              "</table>\n",
              "<p>119 rows × 13 columns</p>\n",
              "</div>\n",
              "    <div class=\"colab-df-buttons\">\n",
              "\n",
              "  <div class=\"colab-df-container\">\n",
              "    <button class=\"colab-df-convert\" onclick=\"convertToInteractive('df-0e00c782-dcd6-4295-bf20-2b8cbf939e90')\"\n",
              "            title=\"Convert this dataframe to an interactive table.\"\n",
              "            style=\"display:none;\">\n",
              "\n",
              "  <svg xmlns=\"http://www.w3.org/2000/svg\" height=\"24px\" viewBox=\"0 -960 960 960\">\n",
              "    <path d=\"M120-120v-720h720v720H120Zm60-500h600v-160H180v160Zm220 220h160v-160H400v160Zm0 220h160v-160H400v160ZM180-400h160v-160H180v160Zm440 0h160v-160H620v160ZM180-180h160v-160H180v160Zm440 0h160v-160H620v160Z\"/>\n",
              "  </svg>\n",
              "    </button>\n",
              "\n",
              "  <style>\n",
              "    .colab-df-container {\n",
              "      display:flex;\n",
              "      gap: 12px;\n",
              "    }\n",
              "\n",
              "    .colab-df-convert {\n",
              "      background-color: #E8F0FE;\n",
              "      border: none;\n",
              "      border-radius: 50%;\n",
              "      cursor: pointer;\n",
              "      display: none;\n",
              "      fill: #1967D2;\n",
              "      height: 32px;\n",
              "      padding: 0 0 0 0;\n",
              "      width: 32px;\n",
              "    }\n",
              "\n",
              "    .colab-df-convert:hover {\n",
              "      background-color: #E2EBFA;\n",
              "      box-shadow: 0px 1px 2px rgba(60, 64, 67, 0.3), 0px 1px 3px 1px rgba(60, 64, 67, 0.15);\n",
              "      fill: #174EA6;\n",
              "    }\n",
              "\n",
              "    .colab-df-buttons div {\n",
              "      margin-bottom: 4px;\n",
              "    }\n",
              "\n",
              "    [theme=dark] .colab-df-convert {\n",
              "      background-color: #3B4455;\n",
              "      fill: #D2E3FC;\n",
              "    }\n",
              "\n",
              "    [theme=dark] .colab-df-convert:hover {\n",
              "      background-color: #434B5C;\n",
              "      box-shadow: 0px 1px 3px 1px rgba(0, 0, 0, 0.15);\n",
              "      filter: drop-shadow(0px 1px 2px rgba(0, 0, 0, 0.3));\n",
              "      fill: #FFFFFF;\n",
              "    }\n",
              "  </style>\n",
              "\n",
              "    <script>\n",
              "      const buttonEl =\n",
              "        document.querySelector('#df-0e00c782-dcd6-4295-bf20-2b8cbf939e90 button.colab-df-convert');\n",
              "      buttonEl.style.display =\n",
              "        google.colab.kernel.accessAllowed ? 'block' : 'none';\n",
              "\n",
              "      async function convertToInteractive(key) {\n",
              "        const element = document.querySelector('#df-0e00c782-dcd6-4295-bf20-2b8cbf939e90');\n",
              "        const dataTable =\n",
              "          await google.colab.kernel.invokeFunction('convertToInteractive',\n",
              "                                                    [key], {});\n",
              "        if (!dataTable) return;\n",
              "\n",
              "        const docLinkHtml = 'Like what you see? Visit the ' +\n",
              "          '<a target=\"_blank\" href=https://colab.research.google.com/notebooks/data_table.ipynb>data table notebook</a>'\n",
              "          + ' to learn more about interactive tables.';\n",
              "        element.innerHTML = '';\n",
              "        dataTable['output_type'] = 'display_data';\n",
              "        await google.colab.output.renderOutput(dataTable, element);\n",
              "        const docLink = document.createElement('div');\n",
              "        docLink.innerHTML = docLinkHtml;\n",
              "        element.appendChild(docLink);\n",
              "      }\n",
              "    </script>\n",
              "  </div>\n",
              "\n",
              "\n",
              "<div id=\"df-b1f6f474-f3c9-4360-81eb-2db2a8b31bde\">\n",
              "  <button class=\"colab-df-quickchart\" onclick=\"quickchart('df-b1f6f474-f3c9-4360-81eb-2db2a8b31bde')\"\n",
              "            title=\"Suggest charts\"\n",
              "            style=\"display:none;\">\n",
              "\n",
              "<svg xmlns=\"http://www.w3.org/2000/svg\" height=\"24px\"viewBox=\"0 0 24 24\"\n",
              "     width=\"24px\">\n",
              "    <g>\n",
              "        <path d=\"M19 3H5c-1.1 0-2 .9-2 2v14c0 1.1.9 2 2 2h14c1.1 0 2-.9 2-2V5c0-1.1-.9-2-2-2zM9 17H7v-7h2v7zm4 0h-2V7h2v10zm4 0h-2v-4h2v4z\"/>\n",
              "    </g>\n",
              "</svg>\n",
              "  </button>\n",
              "\n",
              "<style>\n",
              "  .colab-df-quickchart {\n",
              "      --bg-color: #E8F0FE;\n",
              "      --fill-color: #1967D2;\n",
              "      --hover-bg-color: #E2EBFA;\n",
              "      --hover-fill-color: #174EA6;\n",
              "      --disabled-fill-color: #AAA;\n",
              "      --disabled-bg-color: #DDD;\n",
              "  }\n",
              "\n",
              "  [theme=dark] .colab-df-quickchart {\n",
              "      --bg-color: #3B4455;\n",
              "      --fill-color: #D2E3FC;\n",
              "      --hover-bg-color: #434B5C;\n",
              "      --hover-fill-color: #FFFFFF;\n",
              "      --disabled-bg-color: #3B4455;\n",
              "      --disabled-fill-color: #666;\n",
              "  }\n",
              "\n",
              "  .colab-df-quickchart {\n",
              "    background-color: var(--bg-color);\n",
              "    border: none;\n",
              "    border-radius: 50%;\n",
              "    cursor: pointer;\n",
              "    display: none;\n",
              "    fill: var(--fill-color);\n",
              "    height: 32px;\n",
              "    padding: 0;\n",
              "    width: 32px;\n",
              "  }\n",
              "\n",
              "  .colab-df-quickchart:hover {\n",
              "    background-color: var(--hover-bg-color);\n",
              "    box-shadow: 0 1px 2px rgba(60, 64, 67, 0.3), 0 1px 3px 1px rgba(60, 64, 67, 0.15);\n",
              "    fill: var(--button-hover-fill-color);\n",
              "  }\n",
              "\n",
              "  .colab-df-quickchart-complete:disabled,\n",
              "  .colab-df-quickchart-complete:disabled:hover {\n",
              "    background-color: var(--disabled-bg-color);\n",
              "    fill: var(--disabled-fill-color);\n",
              "    box-shadow: none;\n",
              "  }\n",
              "\n",
              "  .colab-df-spinner {\n",
              "    border: 2px solid var(--fill-color);\n",
              "    border-color: transparent;\n",
              "    border-bottom-color: var(--fill-color);\n",
              "    animation:\n",
              "      spin 1s steps(1) infinite;\n",
              "  }\n",
              "\n",
              "  @keyframes spin {\n",
              "    0% {\n",
              "      border-color: transparent;\n",
              "      border-bottom-color: var(--fill-color);\n",
              "      border-left-color: var(--fill-color);\n",
              "    }\n",
              "    20% {\n",
              "      border-color: transparent;\n",
              "      border-left-color: var(--fill-color);\n",
              "      border-top-color: var(--fill-color);\n",
              "    }\n",
              "    30% {\n",
              "      border-color: transparent;\n",
              "      border-left-color: var(--fill-color);\n",
              "      border-top-color: var(--fill-color);\n",
              "      border-right-color: var(--fill-color);\n",
              "    }\n",
              "    40% {\n",
              "      border-color: transparent;\n",
              "      border-right-color: var(--fill-color);\n",
              "      border-top-color: var(--fill-color);\n",
              "    }\n",
              "    60% {\n",
              "      border-color: transparent;\n",
              "      border-right-color: var(--fill-color);\n",
              "    }\n",
              "    80% {\n",
              "      border-color: transparent;\n",
              "      border-right-color: var(--fill-color);\n",
              "      border-bottom-color: var(--fill-color);\n",
              "    }\n",
              "    90% {\n",
              "      border-color: transparent;\n",
              "      border-bottom-color: var(--fill-color);\n",
              "    }\n",
              "  }\n",
              "</style>\n",
              "\n",
              "  <script>\n",
              "    async function quickchart(key) {\n",
              "      const quickchartButtonEl =\n",
              "        document.querySelector('#' + key + ' button');\n",
              "      quickchartButtonEl.disabled = true;  // To prevent multiple clicks.\n",
              "      quickchartButtonEl.classList.add('colab-df-spinner');\n",
              "      try {\n",
              "        const charts = await google.colab.kernel.invokeFunction(\n",
              "            'suggestCharts', [key], {});\n",
              "      } catch (error) {\n",
              "        console.error('Error during call to suggestCharts:', error);\n",
              "      }\n",
              "      quickchartButtonEl.classList.remove('colab-df-spinner');\n",
              "      quickchartButtonEl.classList.add('colab-df-quickchart-complete');\n",
              "    }\n",
              "    (() => {\n",
              "      let quickchartButtonEl =\n",
              "        document.querySelector('#df-b1f6f474-f3c9-4360-81eb-2db2a8b31bde button');\n",
              "      quickchartButtonEl.style.display =\n",
              "        google.colab.kernel.accessAllowed ? 'block' : 'none';\n",
              "    })();\n",
              "  </script>\n",
              "</div>\n",
              "    </div>\n",
              "  </div>\n"
            ],
            "application/vnd.google.colaboratory.intrinsic+json": {
              "type": "dataframe",
              "variable_name": "X_train",
              "summary": "{\n  \"name\": \"X_train\",\n  \"rows\": 119,\n  \"fields\": [\n    {\n      \"column\": \"alcohol\",\n      \"properties\": {\n        \"dtype\": \"number\",\n        \"std\": 0.7940871163691182,\n        \"min\": 11.03,\n        \"max\": 14.83,\n        \"num_unique_values\": 91,\n        \"samples\": [\n          14.75,\n          12.81,\n          12.16\n        ],\n        \"semantic_type\": \"\",\n        \"description\": \"\"\n      }\n    },\n    {\n      \"column\": \"malic_acid\",\n      \"properties\": {\n        \"dtype\": \"number\",\n        \"std\": 1.072827370621982,\n        \"min\": 0.74,\n        \"max\": 5.65,\n        \"num_unique_values\": 94,\n        \"samples\": [\n          1.64,\n          2.31,\n          1.01\n        ],\n        \"semantic_type\": \"\",\n        \"description\": \"\"\n      }\n    },\n    {\n      \"column\": \"ash\",\n      \"properties\": {\n        \"dtype\": \"number\",\n        \"std\": 0.29322764644909216,\n        \"min\": 1.36,\n        \"max\": 3.23,\n        \"num_unique_values\": 62,\n        \"samples\": [\n          2.56,\n          2.42,\n          2.43\n        ],\n        \"semantic_type\": \"\",\n        \"description\": \"\"\n      }\n    },\n    {\n      \"column\": \"alcalinity_of_ash\",\n      \"properties\": {\n        \"dtype\": \"number\",\n        \"std\": 3.210415369127514,\n        \"min\": 10.6,\n        \"max\": 30.0,\n        \"num_unique_values\": 49,\n        \"samples\": [\n          17.2,\n          17.6,\n          23.6\n        ],\n        \"semantic_type\": \"\",\n        \"description\": \"\"\n      }\n    },\n    {\n      \"column\": \"magnesium\",\n      \"properties\": {\n        \"dtype\": \"number\",\n        \"std\": 14.913103472360312,\n        \"min\": 70.0,\n        \"max\": 162.0,\n        \"num_unique_values\": 47,\n        \"samples\": [\n          104.0,\n          151.0,\n          93.0\n        ],\n        \"semantic_type\": \"\",\n        \"description\": \"\"\n      }\n    },\n    {\n      \"column\": \"total_phenols\",\n      \"properties\": {\n        \"dtype\": \"number\",\n        \"std\": 0.6004202582694715,\n        \"min\": 1.1,\n        \"max\": 3.52,\n        \"num_unique_values\": 75,\n        \"samples\": [\n          2.23,\n          1.63,\n          2.53\n        ],\n        \"semantic_type\": \"\",\n        \"description\": \"\"\n      }\n    },\n    {\n      \"column\": \"flavanoids\",\n      \"properties\": {\n        \"dtype\": \"number\",\n        \"std\": 0.9867741031300808,\n        \"min\": 0.47,\n        \"max\": 5.08,\n        \"num_unique_values\": 96,\n        \"samples\": [\n          0.49,\n          1.25,\n          2.55\n        ],\n        \"semantic_type\": \"\",\n        \"description\": \"\"\n      }\n    },\n    {\n      \"column\": \"nonflavanoid_phenols\",\n      \"properties\": {\n        \"dtype\": \"number\",\n        \"std\": 0.12103191832245322,\n        \"min\": 0.13,\n        \"max\": 0.66,\n        \"num_unique_values\": 36,\n        \"samples\": [\n          0.61,\n          0.27,\n          0.24\n        ],\n        \"semantic_type\": \"\",\n        \"description\": \"\"\n      }\n    },\n    {\n      \"column\": \"proanthocyanins\",\n      \"properties\": {\n        \"dtype\": \"number\",\n        \"std\": 0.6030431302561639,\n        \"min\": 0.41,\n        \"max\": 3.58,\n        \"num_unique_values\": 76,\n        \"samples\": [\n          1.4,\n          1.98,\n          0.42\n        ],\n        \"semantic_type\": \"\",\n        \"description\": \"\"\n      }\n    },\n    {\n      \"column\": \"color_intensity\",\n      \"properties\": {\n        \"dtype\": \"number\",\n        \"std\": 2.3736251239303034,\n        \"min\": 1.28,\n        \"max\": 13.0,\n        \"num_unique_values\": 93,\n        \"samples\": [\n          5.0,\n          7.65,\n          7.7\n        ],\n        \"semantic_type\": \"\",\n        \"description\": \"\"\n      }\n    },\n    {\n      \"column\": \"hue\",\n      \"properties\": {\n        \"dtype\": \"number\",\n        \"std\": 0.2333601227152247,\n        \"min\": 0.48,\n        \"max\": 1.71,\n        \"num_unique_values\": 65,\n        \"samples\": [\n          0.56,\n          0.82,\n          1.04\n        ],\n        \"semantic_type\": \"\",\n        \"description\": \"\"\n      }\n    },\n    {\n      \"column\": \"od280/od315_of_diluted_wines\",\n      \"properties\": {\n        \"dtype\": \"number\",\n        \"std\": 0.7123259213327389,\n        \"min\": 1.27,\n        \"max\": 4.0,\n        \"num_unique_values\": 91,\n        \"samples\": [\n          3.59,\n          1.86,\n          3.18\n        ],\n        \"semantic_type\": \"\",\n        \"description\": \"\"\n      }\n    },\n    {\n      \"column\": \"proline\",\n      \"properties\": {\n        \"dtype\": \"number\",\n        \"std\": 302.1491310959203,\n        \"min\": 278.0,\n        \"max\": 1515.0,\n        \"num_unique_values\": 91,\n        \"samples\": [\n          355.0,\n          560.0,\n          740.0\n        ],\n        \"semantic_type\": \"\",\n        \"description\": \"\"\n      }\n    }\n  ]\n}"
            }
          },
          "metadata": {},
          "execution_count": 261
        }
      ],
      "source": [
        "X_train"
      ]
    },
    {
      "cell_type": "markdown",
      "metadata": {
        "id": "_wMtxXo1gFQx"
      },
      "source": [
        "**Задача 1.3 (1 балл)** На тренировочной выборке обучите шесть классификаторов kNN, отличающихся только числом соседей. Для первого классификатора число соседей поставьте равным 1, для второго - 3, для третьего – 5, для четвертого – 10, для пятого – 15 и для шестого – 25 (обратите внимание на параметр `n_neighbours` класса `KNeighborsClassifier`). Для обучения используйте только два признака: `alcohol` и `magnesium` – и евклидово расстояние. Не забудьте масштабировать признаки, например, при помощи модуля `StandardScaler`.\n",
        "\n",
        "Выведите долю правильных ответов на тренировочной и тестовой выборках для каждого классификатора."
      ]
    },
    {
      "cell_type": "code",
      "execution_count": 262,
      "metadata": {
        "id": "6LHvC2Bt3ZwD"
      },
      "outputs": [],
      "source": [
        "from sklearn.neighbors import KNeighborsClassifier #импортируем класс KNeighborsClassifier\n",
        "from sklearn.preprocessing import StandardScaler #импортируем модуль StandardScaler для нормализации данных\n",
        "from sklearn.metrics import accuracy_score #импортируем функцию, считающую оценку точности предсказания в виде доли правильных ответов к размеру тестовой выборки"
      ]
    },
    {
      "cell_type": "markdown",
      "metadata": {
        "id": "rHEOqeWx76W1"
      },
      "source": [
        "Краткий обзор класса `KNeighborsClassifier`. При инициализации объекта передаются параметры:\n",
        "* первым аргументом передается натуральное число $k$ - *количество соседей* (**n_neighbors**);\n",
        "* вторым аргументом передаются веса (**weights**). Если ничего не передавать, то будут одинаковые веса - классический kNN;\n",
        "* третьим аргументом передаем **algorithm** - алгоритм для нахождения $k$ ближайших соседей: `‘auto’, ‘ball_tree’, ‘kd_tree’, ‘brute’`. Авто - самый хитрый :) Он попытается выбрать наиболее подходящий алгоритм на основе значений, переданных в fit method (метод обучения);\n",
        "* **leaf_size**. Следующий аргумент - натуральное число - размер *листа дерева* (**leaf_size**). Это дополнительный параметр для алгоритма BallTree и KDTree;\n",
        "* **p**. Параметр $p$ для метрики Минковского;\n",
        "* **metric**. Название (в формате `str`) метрики. По умолчанию - метрика Минковского.\n",
        "* **n_jobs** - количество параллельных процессов для поиска соседей. По умолчанию 1;\n",
        "\n"
      ]
    },
    {
      "cell_type": "markdown",
      "metadata": {
        "id": "tn46br_qLoF2"
      },
      "source": [
        "По итогу создался *объект класс*. Теперь можно использовать *методы класса*. Напомним, что объект создается с помощью специального метода `__init__()`, который есть в каждом классе. У каждого объекта класса есть *атрибуты*, которые передаются в методе `__init__` при инициализации. Так же у класса есть набор методов и функций. Напомним, что один из аргументов всегда `self`"
      ]
    },
    {
      "cell_type": "markdown",
      "metadata": {
        "id": "e1ptlnTLOs4l"
      },
      "source": [
        "Атрибуты класса `KNeighborsClassifier`, которые появляются **после применения метода** `fit` - обучения:\n",
        "* **classes_ : array of shape (n_classes,)** - класс меток видных классификатору;\n",
        "* **effective_metric_ : str or callble** - функция расстояния. Будет совпадать с параметром класса;\n",
        "* **effective_metric_params_ : dict** - параметры для метрики;\n",
        "* **n_features_in_ : int** - число фичей, видных в ходе обучения;\n",
        "* **feature_names_in_ : ndarray of shape `(n_features_in_,)`** - имена фичей видных в ходе обучения;\n",
        "* **n_samples_fit_ : int** - число объектов (samples) в обучающей выборке;\n",
        "* **outputs_2d_ : bool** - False если y’s shape is (n_samples, ) or (n_samples, 1) в ходе обучения в остальных случаях True."
      ]
    },
    {
      "cell_type": "markdown",
      "metadata": {
        "id": "iCybK0HvTrdE"
      },
      "source": [
        "Проверим это:"
      ]
    },
    {
      "cell_type": "markdown",
      "metadata": {
        "id": "OMq2gN0WVR2t"
      },
      "source": [
        "Теперь инициализуем объект класса:"
      ]
    },
    {
      "cell_type": "code",
      "execution_count": 263,
      "metadata": {
        "id": "BpBODTedTuxw"
      },
      "outputs": [],
      "source": [
        "kNN_1 = KNeighborsClassifier(n_neighbors=1, p=2)"
      ]
    },
    {
      "cell_type": "markdown",
      "metadata": {
        "id": "w-zzabCHfcmR"
      },
      "source": [
        "Вот список всех атрибутов объекта `kNN_1`, включая методы и встроенные атрибуты:"
      ]
    },
    {
      "cell_type": "code",
      "execution_count": 264,
      "metadata": {
        "id": "qkHDPUusgFQy"
      },
      "outputs": [],
      "source": [
        "#dir(kNN_1)"
      ]
    },
    {
      "cell_type": "markdown",
      "metadata": {
        "id": "PAbQVA5FhAl9"
      },
      "source": [
        "Убедимся, что весов нет"
      ]
    },
    {
      "cell_type": "code",
      "execution_count": 265,
      "metadata": {
        "colab": {
          "base_uri": "https://localhost:8080/",
          "height": 36
        },
        "id": "NZHIu6Zdg8y2",
        "outputId": "a7fa46ba-f6bf-488d-ad46-674ae358ccd0"
      },
      "outputs": [
        {
          "output_type": "execute_result",
          "data": {
            "text/plain": [
              "'uniform'"
            ],
            "application/vnd.google.colaboratory.intrinsic+json": {
              "type": "string"
            }
          },
          "metadata": {},
          "execution_count": 265
        }
      ],
      "source": [
        "kNN_1.weights"
      ]
    },
    {
      "cell_type": "markdown",
      "metadata": {
        "id": "NrZDfm1xhIGb"
      },
      "source": [
        "Сколько соседей:"
      ]
    },
    {
      "cell_type": "code",
      "execution_count": 266,
      "metadata": {
        "colab": {
          "base_uri": "https://localhost:8080/"
        },
        "id": "ERUxmzFWhLBA",
        "outputId": "e4c85f3c-d4df-443d-a454-36a666b7eedd"
      },
      "outputs": [
        {
          "output_type": "execute_result",
          "data": {
            "text/plain": [
              "1"
            ]
          },
          "metadata": {},
          "execution_count": 266
        }
      ],
      "source": [
        "kNN_1.n_neighbors"
      ]
    },
    {
      "cell_type": "markdown",
      "metadata": {
        "id": "_iyuQwrlhlW2"
      },
      "source": [
        "Какой алгоритм:"
      ]
    },
    {
      "cell_type": "code",
      "execution_count": 267,
      "metadata": {
        "colab": {
          "base_uri": "https://localhost:8080/",
          "height": 36
        },
        "id": "LSt9kiGuhrFC",
        "outputId": "73482df7-3b40-42ce-926a-4d7ef8b9207f"
      },
      "outputs": [
        {
          "output_type": "execute_result",
          "data": {
            "text/plain": [
              "'auto'"
            ],
            "application/vnd.google.colaboratory.intrinsic+json": {
              "type": "string"
            }
          },
          "metadata": {},
          "execution_count": 267
        }
      ],
      "source": [
        "kNN_1.algorithm"
      ]
    },
    {
      "cell_type": "markdown",
      "metadata": {
        "id": "VZfl57Y7jNpc"
      },
      "source": [
        "Метод `fit(X,y)` обучает классификатор на выборке. Возвращает обученный классификатор kNN."
      ]
    },
    {
      "cell_type": "markdown",
      "metadata": {
        "id": "vWfamVMgknIL"
      },
      "source": [
        "Нас попросили обучать только по столбцам `alcohol, magnesium`."
      ]
    },
    {
      "cell_type": "code",
      "execution_count": 268,
      "metadata": {
        "id": "IZSFdna3l70n"
      },
      "outputs": [],
      "source": [
        "X1_test, X1_train= X_test[['alcohol', 'magnesium']], X_train[['alcohol', 'magnesium']]"
      ]
    },
    {
      "cell_type": "markdown",
      "metadata": {
        "id": "qAKWI0rprX6N"
      },
      "source": [
        "Обучаем на обучающей выборке `X1_train`."
      ]
    },
    {
      "cell_type": "code",
      "execution_count": 269,
      "metadata": {
        "colab": {
          "base_uri": "https://localhost:8080/",
          "height": 74
        },
        "id": "793Ihkqgriih",
        "outputId": "45310365-8499-4a02-ed13-5c0a21c72b92"
      },
      "outputs": [
        {
          "output_type": "execute_result",
          "data": {
            "text/plain": [
              "KNeighborsClassifier(n_neighbors=1)"
            ],
            "text/html": [
              "<style>#sk-container-id-14 {color: black;}#sk-container-id-14 pre{padding: 0;}#sk-container-id-14 div.sk-toggleable {background-color: white;}#sk-container-id-14 label.sk-toggleable__label {cursor: pointer;display: block;width: 100%;margin-bottom: 0;padding: 0.3em;box-sizing: border-box;text-align: center;}#sk-container-id-14 label.sk-toggleable__label-arrow:before {content: \"▸\";float: left;margin-right: 0.25em;color: #696969;}#sk-container-id-14 label.sk-toggleable__label-arrow:hover:before {color: black;}#sk-container-id-14 div.sk-estimator:hover label.sk-toggleable__label-arrow:before {color: black;}#sk-container-id-14 div.sk-toggleable__content {max-height: 0;max-width: 0;overflow: hidden;text-align: left;background-color: #f0f8ff;}#sk-container-id-14 div.sk-toggleable__content pre {margin: 0.2em;color: black;border-radius: 0.25em;background-color: #f0f8ff;}#sk-container-id-14 input.sk-toggleable__control:checked~div.sk-toggleable__content {max-height: 200px;max-width: 100%;overflow: auto;}#sk-container-id-14 input.sk-toggleable__control:checked~label.sk-toggleable__label-arrow:before {content: \"▾\";}#sk-container-id-14 div.sk-estimator input.sk-toggleable__control:checked~label.sk-toggleable__label {background-color: #d4ebff;}#sk-container-id-14 div.sk-label input.sk-toggleable__control:checked~label.sk-toggleable__label {background-color: #d4ebff;}#sk-container-id-14 input.sk-hidden--visually {border: 0;clip: rect(1px 1px 1px 1px);clip: rect(1px, 1px, 1px, 1px);height: 1px;margin: -1px;overflow: hidden;padding: 0;position: absolute;width: 1px;}#sk-container-id-14 div.sk-estimator {font-family: monospace;background-color: #f0f8ff;border: 1px dotted black;border-radius: 0.25em;box-sizing: border-box;margin-bottom: 0.5em;}#sk-container-id-14 div.sk-estimator:hover {background-color: #d4ebff;}#sk-container-id-14 div.sk-parallel-item::after {content: \"\";width: 100%;border-bottom: 1px solid gray;flex-grow: 1;}#sk-container-id-14 div.sk-label:hover label.sk-toggleable__label {background-color: #d4ebff;}#sk-container-id-14 div.sk-serial::before {content: \"\";position: absolute;border-left: 1px solid gray;box-sizing: border-box;top: 0;bottom: 0;left: 50%;z-index: 0;}#sk-container-id-14 div.sk-serial {display: flex;flex-direction: column;align-items: center;background-color: white;padding-right: 0.2em;padding-left: 0.2em;position: relative;}#sk-container-id-14 div.sk-item {position: relative;z-index: 1;}#sk-container-id-14 div.sk-parallel {display: flex;align-items: stretch;justify-content: center;background-color: white;position: relative;}#sk-container-id-14 div.sk-item::before, #sk-container-id-14 div.sk-parallel-item::before {content: \"\";position: absolute;border-left: 1px solid gray;box-sizing: border-box;top: 0;bottom: 0;left: 50%;z-index: -1;}#sk-container-id-14 div.sk-parallel-item {display: flex;flex-direction: column;z-index: 1;position: relative;background-color: white;}#sk-container-id-14 div.sk-parallel-item:first-child::after {align-self: flex-end;width: 50%;}#sk-container-id-14 div.sk-parallel-item:last-child::after {align-self: flex-start;width: 50%;}#sk-container-id-14 div.sk-parallel-item:only-child::after {width: 0;}#sk-container-id-14 div.sk-dashed-wrapped {border: 1px dashed gray;margin: 0 0.4em 0.5em 0.4em;box-sizing: border-box;padding-bottom: 0.4em;background-color: white;}#sk-container-id-14 div.sk-label label {font-family: monospace;font-weight: bold;display: inline-block;line-height: 1.2em;}#sk-container-id-14 div.sk-label-container {text-align: center;}#sk-container-id-14 div.sk-container {/* jupyter's `normalize.less` sets `[hidden] { display: none; }` but bootstrap.min.css set `[hidden] { display: none !important; }` so we also need the `!important` here to be able to override the default hidden behavior on the sphinx rendered scikit-learn.org. See: https://github.com/scikit-learn/scikit-learn/issues/21755 */display: inline-block !important;position: relative;}#sk-container-id-14 div.sk-text-repr-fallback {display: none;}</style><div id=\"sk-container-id-14\" class=\"sk-top-container\"><div class=\"sk-text-repr-fallback\"><pre>KNeighborsClassifier(n_neighbors=1)</pre><b>In a Jupyter environment, please rerun this cell to show the HTML representation or trust the notebook. <br />On GitHub, the HTML representation is unable to render, please try loading this page with nbviewer.org.</b></div><div class=\"sk-container\" hidden><div class=\"sk-item\"><div class=\"sk-estimator sk-toggleable\"><input class=\"sk-toggleable__control sk-hidden--visually\" id=\"sk-estimator-id-14\" type=\"checkbox\" checked><label for=\"sk-estimator-id-14\" class=\"sk-toggleable__label sk-toggleable__label-arrow\">KNeighborsClassifier</label><div class=\"sk-toggleable__content\"><pre>KNeighborsClassifier(n_neighbors=1)</pre></div></div></div></div></div>"
            ]
          },
          "metadata": {},
          "execution_count": 269
        }
      ],
      "source": [
        "kNN_1.fit(X1_train, y_train)"
      ]
    },
    {
      "cell_type": "markdown",
      "metadata": {
        "id": "ER8lpMONtGhF"
      },
      "source": [
        "Смотрим на `dir`:"
      ]
    },
    {
      "cell_type": "code",
      "execution_count": 270,
      "metadata": {
        "id": "OecL7MugtFqT"
      },
      "outputs": [],
      "source": [
        "#dir(kNN_1)"
      ]
    },
    {
      "cell_type": "markdown",
      "metadata": {
        "id": "OfKxNDKcuCgr"
      },
      "source": [
        "Добавились новые атрибуты. Например, теперь появился атрибут `classes_`, `n_features_in_`, `feature_names_in_`, `n_samples_fit_`:"
      ]
    },
    {
      "cell_type": "code",
      "execution_count": 271,
      "metadata": {
        "colab": {
          "base_uri": "https://localhost:8080/"
        },
        "id": "igZFud3AuNzM",
        "outputId": "837f081d-b5a9-4edd-ac52-2c51a89e9067"
      },
      "outputs": [
        {
          "output_type": "execute_result",
          "data": {
            "text/plain": [
              "array([0, 1, 2])"
            ]
          },
          "metadata": {},
          "execution_count": 271
        }
      ],
      "source": [
        "kNN_1.classes_"
      ]
    },
    {
      "cell_type": "code",
      "execution_count": 272,
      "metadata": {
        "colab": {
          "base_uri": "https://localhost:8080/"
        },
        "id": "J-kPVYEbwDT6",
        "outputId": "b8360d17-8d1b-4124-a474-1ec69f7febe5"
      },
      "outputs": [
        {
          "output_type": "execute_result",
          "data": {
            "text/plain": [
              "2"
            ]
          },
          "metadata": {},
          "execution_count": 272
        }
      ],
      "source": [
        "kNN_1.n_features_in_"
      ]
    },
    {
      "cell_type": "code",
      "execution_count": 273,
      "metadata": {
        "colab": {
          "base_uri": "https://localhost:8080/"
        },
        "id": "NVDGh4iWwOKR",
        "outputId": "2eb86470-0edf-43f2-f8af-7b859679833a"
      },
      "outputs": [
        {
          "output_type": "execute_result",
          "data": {
            "text/plain": [
              "array(['alcohol', 'magnesium'], dtype=object)"
            ]
          },
          "metadata": {},
          "execution_count": 273
        }
      ],
      "source": [
        "kNN_1.feature_names_in_"
      ]
    },
    {
      "cell_type": "code",
      "execution_count": 274,
      "metadata": {
        "colab": {
          "base_uri": "https://localhost:8080/"
        },
        "id": "qoz9W3kzweCK",
        "outputId": "21529765-daa3-439f-82c6-1794e0beb720"
      },
      "outputs": [
        {
          "output_type": "execute_result",
          "data": {
            "text/plain": [
              "119"
            ]
          },
          "metadata": {},
          "execution_count": 274
        }
      ],
      "source": [
        "kNN_1.n_samples_fit_"
      ]
    },
    {
      "cell_type": "markdown",
      "metadata": {
        "id": "KitnFxXewxUM"
      },
      "source": [
        "Проверим на тестовой выборке `X1_test` насколько мы хорошо обучили классификатор `kNN_1`. Для этого используется функция `predict`:"
      ]
    },
    {
      "cell_type": "code",
      "execution_count": 275,
      "metadata": {
        "id": "OCQertV1xL02"
      },
      "outputs": [],
      "source": [
        "y1_pred = kNN_1.predict(X1_test)"
      ]
    },
    {
      "cell_type": "code",
      "execution_count": 276,
      "metadata": {
        "colab": {
          "base_uri": "https://localhost:8080/"
        },
        "id": "VPDecg36LWrB",
        "outputId": "41358d0a-9839-4e68-e7db-6554935006ff"
      },
      "outputs": [
        {
          "output_type": "execute_result",
          "data": {
            "text/plain": [
              "array([1, 0, 0, 2, 2, 2, 2, 2, 2, 1, 2, 1, 1, 0, 0, 1, 1, 0, 0, 0, 0, 2,\n",
              "       2, 2, 1, 0, 1, 0, 2, 2, 1, 0, 0, 2, 0, 2, 0, 2, 2, 0, 1, 2, 1, 0,\n",
              "       1, 2, 0, 2, 1, 0, 1, 1, 1, 1, 1, 2, 0, 1, 2])"
            ]
          },
          "metadata": {},
          "execution_count": 276
        }
      ],
      "source": [
        "y1_pred"
      ]
    },
    {
      "cell_type": "code",
      "execution_count": 277,
      "metadata": {
        "colab": {
          "base_uri": "https://localhost:8080/"
        },
        "id": "KMi5Zbs9yWXV",
        "outputId": "a6b518ae-5d54-44cf-f988-c6eb8e1f7904"
      },
      "outputs": [
        {
          "output_type": "execute_result",
          "data": {
            "text/plain": [
              "0.5423728813559322"
            ]
          },
          "metadata": {},
          "execution_count": 277
        }
      ],
      "source": [
        "accuracy_score(y_test, y1_pred)"
      ]
    },
    {
      "cell_type": "markdown",
      "metadata": {
        "id": "6Eo11inyL0p7"
      },
      "source": [
        "А теперь нормализуем данные с помощью класса `StandardScaler` и проверим что получится:"
      ]
    },
    {
      "cell_type": "code",
      "execution_count": 278,
      "metadata": {
        "id": "48UNBv0zOhY1"
      },
      "outputs": [],
      "source": [
        "scaler = StandardScaler() #инициализируем объект класса StandardScaler"
      ]
    },
    {
      "cell_type": "code",
      "execution_count": 279,
      "metadata": {
        "id": "1VcdAiB9O5Zf"
      },
      "outputs": [],
      "source": [
        "#dir(scaler)"
      ]
    },
    {
      "cell_type": "code",
      "execution_count": 280,
      "metadata": {
        "colab": {
          "base_uri": "https://localhost:8080/",
          "height": 74
        },
        "id": "rE3-2vzaPoMq",
        "outputId": "7faf004e-a495-4d9a-b186-46165cb3c749"
      },
      "outputs": [
        {
          "output_type": "execute_result",
          "data": {
            "text/plain": [
              "StandardScaler()"
            ],
            "text/html": [
              "<style>#sk-container-id-15 {color: black;}#sk-container-id-15 pre{padding: 0;}#sk-container-id-15 div.sk-toggleable {background-color: white;}#sk-container-id-15 label.sk-toggleable__label {cursor: pointer;display: block;width: 100%;margin-bottom: 0;padding: 0.3em;box-sizing: border-box;text-align: center;}#sk-container-id-15 label.sk-toggleable__label-arrow:before {content: \"▸\";float: left;margin-right: 0.25em;color: #696969;}#sk-container-id-15 label.sk-toggleable__label-arrow:hover:before {color: black;}#sk-container-id-15 div.sk-estimator:hover label.sk-toggleable__label-arrow:before {color: black;}#sk-container-id-15 div.sk-toggleable__content {max-height: 0;max-width: 0;overflow: hidden;text-align: left;background-color: #f0f8ff;}#sk-container-id-15 div.sk-toggleable__content pre {margin: 0.2em;color: black;border-radius: 0.25em;background-color: #f0f8ff;}#sk-container-id-15 input.sk-toggleable__control:checked~div.sk-toggleable__content {max-height: 200px;max-width: 100%;overflow: auto;}#sk-container-id-15 input.sk-toggleable__control:checked~label.sk-toggleable__label-arrow:before {content: \"▾\";}#sk-container-id-15 div.sk-estimator input.sk-toggleable__control:checked~label.sk-toggleable__label {background-color: #d4ebff;}#sk-container-id-15 div.sk-label input.sk-toggleable__control:checked~label.sk-toggleable__label {background-color: #d4ebff;}#sk-container-id-15 input.sk-hidden--visually {border: 0;clip: rect(1px 1px 1px 1px);clip: rect(1px, 1px, 1px, 1px);height: 1px;margin: -1px;overflow: hidden;padding: 0;position: absolute;width: 1px;}#sk-container-id-15 div.sk-estimator {font-family: monospace;background-color: #f0f8ff;border: 1px dotted black;border-radius: 0.25em;box-sizing: border-box;margin-bottom: 0.5em;}#sk-container-id-15 div.sk-estimator:hover {background-color: #d4ebff;}#sk-container-id-15 div.sk-parallel-item::after {content: \"\";width: 100%;border-bottom: 1px solid gray;flex-grow: 1;}#sk-container-id-15 div.sk-label:hover label.sk-toggleable__label {background-color: #d4ebff;}#sk-container-id-15 div.sk-serial::before {content: \"\";position: absolute;border-left: 1px solid gray;box-sizing: border-box;top: 0;bottom: 0;left: 50%;z-index: 0;}#sk-container-id-15 div.sk-serial {display: flex;flex-direction: column;align-items: center;background-color: white;padding-right: 0.2em;padding-left: 0.2em;position: relative;}#sk-container-id-15 div.sk-item {position: relative;z-index: 1;}#sk-container-id-15 div.sk-parallel {display: flex;align-items: stretch;justify-content: center;background-color: white;position: relative;}#sk-container-id-15 div.sk-item::before, #sk-container-id-15 div.sk-parallel-item::before {content: \"\";position: absolute;border-left: 1px solid gray;box-sizing: border-box;top: 0;bottom: 0;left: 50%;z-index: -1;}#sk-container-id-15 div.sk-parallel-item {display: flex;flex-direction: column;z-index: 1;position: relative;background-color: white;}#sk-container-id-15 div.sk-parallel-item:first-child::after {align-self: flex-end;width: 50%;}#sk-container-id-15 div.sk-parallel-item:last-child::after {align-self: flex-start;width: 50%;}#sk-container-id-15 div.sk-parallel-item:only-child::after {width: 0;}#sk-container-id-15 div.sk-dashed-wrapped {border: 1px dashed gray;margin: 0 0.4em 0.5em 0.4em;box-sizing: border-box;padding-bottom: 0.4em;background-color: white;}#sk-container-id-15 div.sk-label label {font-family: monospace;font-weight: bold;display: inline-block;line-height: 1.2em;}#sk-container-id-15 div.sk-label-container {text-align: center;}#sk-container-id-15 div.sk-container {/* jupyter's `normalize.less` sets `[hidden] { display: none; }` but bootstrap.min.css set `[hidden] { display: none !important; }` so we also need the `!important` here to be able to override the default hidden behavior on the sphinx rendered scikit-learn.org. See: https://github.com/scikit-learn/scikit-learn/issues/21755 */display: inline-block !important;position: relative;}#sk-container-id-15 div.sk-text-repr-fallback {display: none;}</style><div id=\"sk-container-id-15\" class=\"sk-top-container\"><div class=\"sk-text-repr-fallback\"><pre>StandardScaler()</pre><b>In a Jupyter environment, please rerun this cell to show the HTML representation or trust the notebook. <br />On GitHub, the HTML representation is unable to render, please try loading this page with nbviewer.org.</b></div><div class=\"sk-container\" hidden><div class=\"sk-item\"><div class=\"sk-estimator sk-toggleable\"><input class=\"sk-toggleable__control sk-hidden--visually\" id=\"sk-estimator-id-15\" type=\"checkbox\" checked><label for=\"sk-estimator-id-15\" class=\"sk-toggleable__label sk-toggleable__label-arrow\">StandardScaler</label><div class=\"sk-toggleable__content\"><pre>StandardScaler()</pre></div></div></div></div></div>"
            ]
          },
          "metadata": {},
          "execution_count": 280
        }
      ],
      "source": [
        "scaler.fit(X1_train) #Compute the mean and std to be used for later scaling."
      ]
    },
    {
      "cell_type": "code",
      "execution_count": 281,
      "metadata": {
        "id": "E-0ZBmGLPw5Y"
      },
      "outputs": [],
      "source": [
        "X1_scalered_train=scaler.transform(X1_train)"
      ]
    },
    {
      "cell_type": "markdown",
      "source": [
        "**Важный момент**: мы не переобучаем `scaler` заново. Нам нельзя подглядывать в тестовую выборку!"
      ],
      "metadata": {
        "id": "FwdJ0PkSAsPA"
      }
    },
    {
      "cell_type": "code",
      "execution_count": 282,
      "metadata": {
        "id": "sL__cfw8SkCw"
      },
      "outputs": [],
      "source": [
        "X1_scalered_test=scaler.transform(X1_test)"
      ]
    },
    {
      "cell_type": "markdown",
      "metadata": {
        "id": "ZsFMbNW5QpNK"
      },
      "source": [
        "переобучаем kNN_1"
      ]
    },
    {
      "cell_type": "code",
      "execution_count": 283,
      "metadata": {
        "colab": {
          "base_uri": "https://localhost:8080/",
          "height": 74
        },
        "id": "GHeZpygbQok2",
        "outputId": "ad79551b-9632-4cd3-b232-0dd91fbe7082"
      },
      "outputs": [
        {
          "output_type": "execute_result",
          "data": {
            "text/plain": [
              "KNeighborsClassifier(n_neighbors=1)"
            ],
            "text/html": [
              "<style>#sk-container-id-16 {color: black;}#sk-container-id-16 pre{padding: 0;}#sk-container-id-16 div.sk-toggleable {background-color: white;}#sk-container-id-16 label.sk-toggleable__label {cursor: pointer;display: block;width: 100%;margin-bottom: 0;padding: 0.3em;box-sizing: border-box;text-align: center;}#sk-container-id-16 label.sk-toggleable__label-arrow:before {content: \"▸\";float: left;margin-right: 0.25em;color: #696969;}#sk-container-id-16 label.sk-toggleable__label-arrow:hover:before {color: black;}#sk-container-id-16 div.sk-estimator:hover label.sk-toggleable__label-arrow:before {color: black;}#sk-container-id-16 div.sk-toggleable__content {max-height: 0;max-width: 0;overflow: hidden;text-align: left;background-color: #f0f8ff;}#sk-container-id-16 div.sk-toggleable__content pre {margin: 0.2em;color: black;border-radius: 0.25em;background-color: #f0f8ff;}#sk-container-id-16 input.sk-toggleable__control:checked~div.sk-toggleable__content {max-height: 200px;max-width: 100%;overflow: auto;}#sk-container-id-16 input.sk-toggleable__control:checked~label.sk-toggleable__label-arrow:before {content: \"▾\";}#sk-container-id-16 div.sk-estimator input.sk-toggleable__control:checked~label.sk-toggleable__label {background-color: #d4ebff;}#sk-container-id-16 div.sk-label input.sk-toggleable__control:checked~label.sk-toggleable__label {background-color: #d4ebff;}#sk-container-id-16 input.sk-hidden--visually {border: 0;clip: rect(1px 1px 1px 1px);clip: rect(1px, 1px, 1px, 1px);height: 1px;margin: -1px;overflow: hidden;padding: 0;position: absolute;width: 1px;}#sk-container-id-16 div.sk-estimator {font-family: monospace;background-color: #f0f8ff;border: 1px dotted black;border-radius: 0.25em;box-sizing: border-box;margin-bottom: 0.5em;}#sk-container-id-16 div.sk-estimator:hover {background-color: #d4ebff;}#sk-container-id-16 div.sk-parallel-item::after {content: \"\";width: 100%;border-bottom: 1px solid gray;flex-grow: 1;}#sk-container-id-16 div.sk-label:hover label.sk-toggleable__label {background-color: #d4ebff;}#sk-container-id-16 div.sk-serial::before {content: \"\";position: absolute;border-left: 1px solid gray;box-sizing: border-box;top: 0;bottom: 0;left: 50%;z-index: 0;}#sk-container-id-16 div.sk-serial {display: flex;flex-direction: column;align-items: center;background-color: white;padding-right: 0.2em;padding-left: 0.2em;position: relative;}#sk-container-id-16 div.sk-item {position: relative;z-index: 1;}#sk-container-id-16 div.sk-parallel {display: flex;align-items: stretch;justify-content: center;background-color: white;position: relative;}#sk-container-id-16 div.sk-item::before, #sk-container-id-16 div.sk-parallel-item::before {content: \"\";position: absolute;border-left: 1px solid gray;box-sizing: border-box;top: 0;bottom: 0;left: 50%;z-index: -1;}#sk-container-id-16 div.sk-parallel-item {display: flex;flex-direction: column;z-index: 1;position: relative;background-color: white;}#sk-container-id-16 div.sk-parallel-item:first-child::after {align-self: flex-end;width: 50%;}#sk-container-id-16 div.sk-parallel-item:last-child::after {align-self: flex-start;width: 50%;}#sk-container-id-16 div.sk-parallel-item:only-child::after {width: 0;}#sk-container-id-16 div.sk-dashed-wrapped {border: 1px dashed gray;margin: 0 0.4em 0.5em 0.4em;box-sizing: border-box;padding-bottom: 0.4em;background-color: white;}#sk-container-id-16 div.sk-label label {font-family: monospace;font-weight: bold;display: inline-block;line-height: 1.2em;}#sk-container-id-16 div.sk-label-container {text-align: center;}#sk-container-id-16 div.sk-container {/* jupyter's `normalize.less` sets `[hidden] { display: none; }` but bootstrap.min.css set `[hidden] { display: none !important; }` so we also need the `!important` here to be able to override the default hidden behavior on the sphinx rendered scikit-learn.org. See: https://github.com/scikit-learn/scikit-learn/issues/21755 */display: inline-block !important;position: relative;}#sk-container-id-16 div.sk-text-repr-fallback {display: none;}</style><div id=\"sk-container-id-16\" class=\"sk-top-container\"><div class=\"sk-text-repr-fallback\"><pre>KNeighborsClassifier(n_neighbors=1)</pre><b>In a Jupyter environment, please rerun this cell to show the HTML representation or trust the notebook. <br />On GitHub, the HTML representation is unable to render, please try loading this page with nbviewer.org.</b></div><div class=\"sk-container\" hidden><div class=\"sk-item\"><div class=\"sk-estimator sk-toggleable\"><input class=\"sk-toggleable__control sk-hidden--visually\" id=\"sk-estimator-id-16\" type=\"checkbox\" checked><label for=\"sk-estimator-id-16\" class=\"sk-toggleable__label sk-toggleable__label-arrow\">KNeighborsClassifier</label><div class=\"sk-toggleable__content\"><pre>KNeighborsClassifier(n_neighbors=1)</pre></div></div></div></div></div>"
            ]
          },
          "metadata": {},
          "execution_count": 283
        }
      ],
      "source": [
        "kNN_1.fit(X1_scalered_train, y_train)"
      ]
    },
    {
      "cell_type": "code",
      "execution_count": 284,
      "metadata": {
        "id": "K8XS3l-NQfWN"
      },
      "outputs": [],
      "source": [
        "y1_scalered_pred = kNN_1.predict(X1_scalered_test)"
      ]
    },
    {
      "cell_type": "code",
      "execution_count": 285,
      "metadata": {
        "colab": {
          "base_uri": "https://localhost:8080/"
        },
        "id": "zvkfh_j4Q48h",
        "outputId": "6826c22d-b3a9-4483-b7a6-cd3dcf2e4c5c"
      },
      "outputs": [
        {
          "output_type": "execute_result",
          "data": {
            "text/plain": [
              "0.576271186440678"
            ]
          },
          "metadata": {},
          "execution_count": 285
        }
      ],
      "source": [
        "accuracy_score(y_test, y1_scalered_pred)"
      ]
    },
    {
      "cell_type": "markdown",
      "metadata": {
        "id": "m3_JajYMT4JP"
      },
      "source": [
        "Для нормализованной выборки результат предсказания выше."
      ]
    },
    {
      "cell_type": "markdown",
      "metadata": {
        "id": "VEi7P9I0UwmR"
      },
      "source": [
        "\n",
        "\n",
        "---\n",
        "\n"
      ]
    },
    {
      "cell_type": "markdown",
      "metadata": {
        "id": "zcMavpYGUyH8"
      },
      "source": [
        "Промышленные вычисления: `kNN1, ..., kNN6`."
      ]
    },
    {
      "cell_type": "markdown",
      "metadata": {
        "id": "0DXdVqwWaFiG"
      },
      "source": [
        "Заводим список из всех нужных нам классификаторов с нужными параметрами:"
      ]
    },
    {
      "cell_type": "code",
      "execution_count": 286,
      "metadata": {
        "id": "zgDjNBfhYjYX"
      },
      "outputs": [],
      "source": [
        "kNN = []\n",
        "kNN_n = [1,3,5,10,15,25]\n",
        "for i in kNN_n:\n",
        "  kNN.append(KNeighborsClassifier(n_neighbors=i, p=2))"
      ]
    },
    {
      "cell_type": "markdown",
      "metadata": {
        "id": "rIRoKtD1aE6u"
      },
      "source": [
        "Теперь обучаем их на тренировочной (скалированной) выборке:"
      ]
    },
    {
      "cell_type": "code",
      "execution_count": 287,
      "metadata": {
        "id": "1lr6UpX3aVCp"
      },
      "outputs": [],
      "source": [
        "for cls in kNN:\n",
        "  cls.fit(X1_scalered_train, y_train)"
      ]
    },
    {
      "cell_type": "markdown",
      "metadata": {
        "id": "loOOwyLYae7i"
      },
      "source": [
        "Смотрим кто лучше обучился:"
      ]
    },
    {
      "cell_type": "code",
      "execution_count": 288,
      "metadata": {
        "colab": {
          "base_uri": "https://localhost:8080/"
        },
        "id": "jlKUEuWufPgq",
        "outputId": "d73949c1-b5e2-42d4-c6fd-046d89f4178a"
      },
      "outputs": [
        {
          "output_type": "stream",
          "name": "stdout",
          "text": [
            "n_neighbors, accuracy test, accuracy train\n",
            "1 0.576271186440678 0.9915966386554622\n",
            "3 0.6440677966101694 0.8235294117647058\n",
            "5 0.6610169491525424 0.7815126050420168\n",
            "10 0.6610169491525424 0.7899159663865546\n",
            "15 0.6779661016949152 0.7478991596638656\n",
            "25 0.6610169491525424 0.7142857142857143\n"
          ]
        }
      ],
      "source": [
        "print('n_neighbors, accuracy test, accuracy train')\n",
        "for i, n in enumerate(kNN_n):\n",
        "  print(n, accuracy_score(y_test, kNN[i].predict(X1_scalered_test)),accuracy_score(y_train, kNN[i].predict(X1_scalered_train)) )"
      ]
    },
    {
      "cell_type": "markdown",
      "metadata": {
        "id": "5hyn3Kv_h9CO"
      },
      "source": [
        "**Вывод**: чем больше число соседей `n_neighbors`, тем выше точность предсказания до `n_neighbors = 15` включительно. По обучающей выборке все время наблюдается падение. Некоторый баланс достигается на `n_neighbors = 15`."
      ]
    },
    {
      "cell_type": "markdown",
      "metadata": {
        "id": "9m2CSEaGVrgQ"
      },
      "source": [
        "\n",
        "\n",
        "---\n",
        "\n"
      ]
    },
    {
      "cell_type": "markdown",
      "metadata": {
        "id": "kV1qB23NgFQy"
      },
      "source": [
        "**Задача 1.4 (0 баллов)** Установите библиотеку `mlxtend` командой ниже. Библиотеку также можно установить из терминала при помощи `pip` или `conda`, как указано [здесь](http://rasbt.github.io/mlxtend/installation/)."
      ]
    },
    {
      "cell_type": "code",
      "execution_count": null,
      "metadata": {
        "id": "oh8XCW-lgFQy"
      },
      "outputs": [],
      "source": [
        "!pip install mlxtend"
      ]
    },
    {
      "cell_type": "markdown",
      "metadata": {
        "id": "GPp6UcyZgFQy"
      },
      "source": [
        "Если всё прошло успешно, то в выводе команды выше вы увидите сообщение вроде \"successfully installed\", а следующая ячейка выполнится без ошибок."
      ]
    },
    {
      "cell_type": "code",
      "execution_count": 290,
      "metadata": {
        "id": "PX5FraBQgFQy"
      },
      "outputs": [],
      "source": [
        "import mlxtend"
      ]
    },
    {
      "cell_type": "markdown",
      "metadata": {
        "id": "UbKw2dSVgFQy"
      },
      "source": [
        "**Задача 1.5 (1 балл)** Библиотека `mlxtend` позволяет достаточно просто визуализировать решающие поверхности обученных классификаторов. Изучите [документацию](http://rasbt.github.io/mlxtend/user_guide/plotting/plot_decision_regions/) библиотеки и найдите, как можно построить несколько графиков решающих поверхностей на сетке (decision regions grid). Постройте такую сетку графиков для обученных выше классификаторов.\n",
        "\n",
        "**Подсказки:**\n",
        "1. Вы можете использовать готовый код, приведённый в документации, и адаптировать его для нашего случая.\n",
        "2. Вам могут понадобиться дополнительные библиотеки, которые используются в примере из документации.\n",
        "3. Обратите внимание на то, как нужно изменить параметры `gridspec.GridSpec()` и `itertools.product()` для нашего числа классификаторов.\n",
        "4. В функции `plot_decision_region()` используйте `y_train` и нужные столбцы из `X_train`. Возможно, их придётся перевести в формат массива `numpy`.\n",
        "5. Если в задаче 1.3 вы сохраните обученные классификаторы в список, то не будет необходимости обучать их заново.\n",
        "6. Построение графика может занять некоторое время – придётся немного подождать!"
      ]
    },
    {
      "cell_type": "code",
      "execution_count": 291,
      "metadata": {
        "id": "MNkX2rnr70Oz",
        "colab": {
          "base_uri": "https://localhost:8080/",
          "height": 976
        },
        "outputId": "0a2c2941-d409-499a-998a-c1267ffbfd15"
      },
      "outputs": [
        {
          "output_type": "display_data",
          "data": {
            "text/plain": [
              "<Figure size 2500x1500 with 6 Axes>"
            ],
            "image/png": "[encoded data removed]"
          },
          "metadata": {}
        }
      ],
      "source": [
        "from mlxtend.plotting import plot_decision_regions\n",
        "import matplotlib.gridspec as gridspec\n",
        "import itertools\n",
        "gs = gridspec.GridSpec(2, 3)\n",
        "\n",
        "fig = plt.figure(figsize=(25,15))\n",
        "plt.suptitle(r\"Decision regions grids for different numbers of neighbors\", fontsize=15, fontweight='bold')\n",
        "\n",
        "for clf, n, grd in zip(kNN, enumerate(kNN_n), itertools.product([0, 1], [0, 1, 2])):\n",
        "\n",
        "    ax = plt.subplot(gs[grd[0], grd[1]])\n",
        "    fig = plot_decision_regions(X=X1_scalered_train, y=y_train, clf=clf)\n",
        "    plt.title('n_neighbors = '+ str(n))\n",
        "\n",
        "plt.show()\n"
      ]
    },
    {
      "cell_type": "markdown",
      "metadata": {
        "id": "dUEKOeVZgFQy"
      },
      "source": [
        "**Задача 1.6 (0.5 балла)** Прокомментируйте результаты, полученные в задачах 1.3 и 1.5. Какое число соседей оптимально использовать для обучения классификатора? Поясните ваш выбор при помощи описания геометрии данных и получаемой решающей поверхности. Какие из результатов явно говорят о **переобучении** модели? Почему?"
      ]
    },
    {
      "cell_type": "markdown",
      "metadata": {
        "id": "gsDTzJ9ZFhse"
      },
      "source": [
        "**Переобучение** (*overfitting*) — негативное явление, возникающее, когда алгоритм обучения вырабатывает предсказания, которые слишком близко или точно соответствуют конкретному набору данных и поэтому не подходят для применения алгоритма к дополнительным данным или будущим наблюдениям."
      ]
    },
    {
      "cell_type": "markdown",
      "metadata": {
        "id": "LP0SMQHeF0U0"
      },
      "source": [
        "**Недообучение** (*underfitting*) — негативное явление, при котором алгоритм обучения не обеспечивает достаточно малой величины средней ошибки на обучающей выборке. Недообучение возникает при использовании недостаточно сложных моделей."
      ]
    },
    {
      "cell_type": "markdown",
      "metadata": {
        "id": "XqxcPkyeHKym"
      },
      "source": [
        "Согласно посчитанной accuracy, модель `kNN1` переобучена, а `kNN6` недообучена. Оптимальное соотношение на `kNN5`."
      ]
    },
    {
      "cell_type": "markdown",
      "metadata": {
        "id": "Tn2jE_NaHkNd"
      },
      "source": [
        "Чтобы увидеть на картинке переобучение `kNN1`, мы заметим, что все красные треугольники попали в красную область. Это \"говорит о том, что мы слишком сильно верим в обучающую выборку и подгоняем под нее\". Появляются \"как будто бы лишние области, которые бы я сам не стал бы относить к красным\". Поэтому появляется большое число изломов. Недообучение `kNN6` можно пронаблюдать так: есть очень много зеленых и красных фигур, около которых стоило бы нарисовать соответствующие цвета."
      ]
    },
    {
      "cell_type": "markdown",
      "metadata": {
        "id": "ehRtcRN3kMgW"
      },
      "source": [
        "### Задание 2. KNN своими руками. 2 Балла"
      ]
    },
    {
      "cell_type": "markdown",
      "metadata": {
        "id": "Y38gBPr1ms8c"
      },
      "source": [
        "В данном задании мы попробуем реализовать алгоритм KNN своими руками. В данном случае мы попробуем сделать KNN для классификации.\n",
        "\n",
        "![image.png](data:image/png;base64,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)"
      ]
    },
    {
      "cell_type": "markdown",
      "metadata": {
        "id": "SMVXgk1yK2j3"
      },
      "source": [
        "Сначала мы напишем метрику Минковского в $\\mathbb{R}^{d}$ с параметром $p\\in \\mathbb{N}$."
      ]
    },
    {
      "cell_type": "code",
      "execution_count": 165,
      "metadata": {
        "id": "fovB4bfBLNw9"
      },
      "outputs": [],
      "source": [
        "def norm(X,p):\n",
        "  norm = 0\n",
        "  for i in range(len(X)):\n",
        "    norm += X[i]**p\n",
        "  return norm**(1/p)"
      ]
    },
    {
      "cell_type": "markdown",
      "metadata": {
        "id": "EVhedBO8Mg-n"
      },
      "source": [
        "тест:"
      ]
    },
    {
      "cell_type": "code",
      "execution_count": 166,
      "metadata": {
        "colab": {
          "base_uri": "https://localhost:8080/"
        },
        "id": "i2RcfQfpMjI3",
        "outputId": "d20f86e4-3948-401b-c132-48cec7af040a"
      },
      "outputs": [
        {
          "output_type": "execute_result",
          "data": {
            "text/plain": [
              "1.4142135623730951"
            ]
          },
          "metadata": {},
          "execution_count": 166
        }
      ],
      "source": [
        "norm([1,1,0], 2)"
      ]
    },
    {
      "cell_type": "code",
      "execution_count": 167,
      "metadata": {
        "id": "IJseaP-CMqAf"
      },
      "outputs": [],
      "source": [
        "def metric(X,Y,p):\n",
        "  return norm(X-Y,p)"
      ]
    },
    {
      "cell_type": "markdown",
      "metadata": {
        "id": "WG_tYsjJRa-U"
      },
      "source": [
        "Теперь напишем обычный индикатор $I[y^{i}_{u}=y^{i}]$:"
      ]
    },
    {
      "cell_type": "code",
      "execution_count": 168,
      "metadata": {
        "id": "A48rBJGOSCYV"
      },
      "outputs": [],
      "source": [
        "def indicator(y_u, y):\n",
        "  if y_u == y:\n",
        "    return int(1)\n",
        "  else:\n",
        "    return int(0)"
      ]
    },
    {
      "cell_type": "markdown",
      "metadata": {
        "id": "pD55ILVCSSvN"
      },
      "source": [
        "тест:"
      ]
    },
    {
      "cell_type": "code",
      "execution_count": 169,
      "metadata": {
        "colab": {
          "base_uri": "https://localhost:8080/"
        },
        "id": "XCS2zIArSXFk",
        "outputId": "80be1bc5-826b-41a1-e62e-4bc867c487a3"
      },
      "outputs": [
        {
          "output_type": "execute_result",
          "data": {
            "text/plain": [
              "2"
            ]
          },
          "metadata": {},
          "execution_count": 169
        }
      ],
      "source": [
        "indicator(1,2) + indicator(1,1) + indicator(2,2)"
      ]
    },
    {
      "cell_type": "markdown",
      "metadata": {
        "id": "kfFlir1iUC2y"
      },
      "source": [
        "Напишем функцию, которая суммирует индикаторы по всему массиву:"
      ]
    },
    {
      "cell_type": "code",
      "execution_count": 170,
      "metadata": {
        "id": "vze_hfIuUKMy"
      },
      "outputs": [],
      "source": [
        "def summ_ind(arr, y):\n",
        "  summ = 0\n",
        "  for i in range(len(arr)):\n",
        "    summ += indicator(arr[i],y)\n",
        "  return summ"
      ]
    },
    {
      "cell_type": "markdown",
      "metadata": {
        "id": "jQbeojNHShSM"
      },
      "source": [
        "\n",
        "\n",
        "---\n",
        "\n"
      ]
    },
    {
      "cell_type": "markdown",
      "metadata": {
        "id": "R4Gf7BHOtwCf"
      },
      "source": [
        "Реалиация класса `kNN`:"
      ]
    },
    {
      "cell_type": "code",
      "execution_count": 171,
      "metadata": {
        "id": "OIsIhp97mXIC"
      },
      "outputs": [],
      "source": [
        "import numpy as np\n",
        "\n",
        "class KNN:\n",
        "    def __init__(self, k:int, p:int):\n",
        "        self.k = k\n",
        "        self.p = p\n",
        "\n",
        "    def fit(self, X, y):\n",
        "        self.X_train = X\n",
        "        self.y_train = y\n",
        "\n",
        "    def predict_for_one(self, x):\n",
        "\n",
        "      dict_dist = {} # словарь, который каждому расстоянию от x до X_train ставит в соответствие y_train\n",
        "\n",
        "      top_k_unsorted = [] # список всех расстояний от x до X_train\n",
        "\n",
        "      for i in range(len(self.X_train)):\n",
        "\n",
        "          dist = metric(x,self.X_train[i], self.p)\n",
        "\n",
        "          top_k_unsorted.append(dist)\n",
        "\n",
        "          dict_dist[dist] = self.y_train[i]\n",
        "\n",
        "      top_k = np.sort(top_k_unsorted)[:self.k] # сортированный список всех расстояний от x до X_train. Взяли топ k самых маленьких расстояний\n",
        "\n",
        "      keys_top_k = [] # ключи top_k\n",
        "\n",
        "      for i in range(self.k):\n",
        "\n",
        "        keys_top_k.append(dict_dist.get(top_k[i]))\n",
        "\n",
        "      return self.find_best_y(keys_top_k)\n",
        "\n",
        "    def predict(self, X):\n",
        "        y_predict = []\n",
        "        for x in X:\n",
        "          y_predict.append(self.predict_for_one(x))\n",
        "        return np.array(y_predict)\n",
        "\n",
        "    def find_best_y(self, keys_top_k):\n",
        "      dict_y = {} # словарь, считающий суммарное вхождения y в массиве keys_top_k\n",
        "      for y in self.y_train:\n",
        "        dict_y[y] = summ_ind(keys_top_k,y)\n",
        "      best_y = max(dict_y, key=dict_y.get)\n",
        "      return best_y"
      ]
    },
    {
      "cell_type": "markdown",
      "metadata": {
        "id": "jvqT6jPewraq"
      },
      "source": [
        "Тесты:"
      ]
    },
    {
      "cell_type": "code",
      "execution_count": 172,
      "metadata": {
        "id": "Rd0NbTxGmWDE"
      },
      "outputs": [],
      "source": [
        "def test_knn(KNN):\n",
        "  knn = KNN(k=1, p=2)\n",
        "  X_train =  np.array([[1, 1], [2, 2]])\n",
        "  y_train =  np.array([0, 1])\n",
        "  X_test =  np.array([[1.5, 1.5]])\n",
        "  knn.fit(X_train, y_train)\n",
        "  assert knn.predict(X_test) == [1] or knn.predict(X_test) == [0]\n",
        "\n",
        "  knn = KNN(k=3,p=2)\n",
        "  X_train = np.array([[1, 1], [2, 2], [3, 3], [4, 4], [5, 5], [6, 6], [7, 7], [8, 8], [9, 9], [10, 10]])\n",
        "  y_train = np.array([0, 0, 0, 0, 1, 1, 1, 1, 1, 1])\n",
        "  X_test = np.array([[9.5, 9.5]])\n",
        "  knn.fit(X_train, y_train)\n",
        "  assert knn.predict(X_test) == [1]\n",
        "\n",
        "  knn = KNN(k=3,p=2)\n",
        "  X_train = np.array([[1, 1], [2, 2], [3, 3], [4, 4], [5, 5], [6, 6], [7, 7], [8, 8], [9, 9], [10, 10]])\n",
        "  y_train = np.array([0, 0, 0, 0, 1, 1, 1, 1, 1, 1])\n",
        "  X_test = np.array([[5.5, 5.5]])\n",
        "  knn.fit(X_train, y_train)\n",
        "  assert knn.predict(X_test) == [1]\n",
        "\n",
        "  knn = KNN(k=3,p=2)\n",
        "  X_train = np.array([[1, 1], [2, 2], [3, 3], [4, 4], [5, 5], [6, 6], [7, 7], [8, 8], [9, 9], [10, 10]])\n",
        "  y_train = np.array([0, 0, 0, 0, 1, 1, 1, 1, 1, 1])\n",
        "  X_test = np.array([[15, 15]])\n",
        "  knn.fit(X_train, y_train)\n",
        "  assert knn.predict(X_test) == [1]\n",
        "\n",
        "  knn = KNN(k=3,p=2)\n",
        "  X_train = np.array([[1, 1], [2, 2], [3, 3], [4, 4], [5, 5], [6, 6], [7, 7], [8, 8], [9, 9], [10, 10]])\n",
        "  y_train = np.array([0, 0, 0, 0, 1, 1, 1, 1, 1, 1])\n",
        "  X_test = np.array([[5, 5], [2, 2]])\n",
        "  knn.fit(X_train, y_train)\n",
        "  assert all(knn.predict(X_test) == [1, 0])"
      ]
    },
    {
      "cell_type": "code",
      "execution_count": 173,
      "metadata": {
        "id": "ZSLcovKGr7nB"
      },
      "outputs": [],
      "source": [
        "test_knn(KNN)"
      ]
    },
    {
      "cell_type": "markdown",
      "metadata": {
        "id": "MR4wuq73yoFs"
      },
      "source": [
        "# Задача линейной регрессии (linear regression)"
      ]
    },
    {
      "cell_type": "markdown",
      "metadata": {
        "id": "oUiIlyGGDUxG"
      },
      "source": [
        "brief remind:\n",
        "* задача регрессии $Y=\\mathbb{R}$;\n",
        "* фиксируем параметрическую модель $A=\\{g(x,\\theta)\\}$. Алгоритм $a(x)\\in A$;\n",
        "* $\\mathcal{L}(a,x)=(a(x)-y^{*}(x))^{2}$ - *квадратичная функция потерь*;\n",
        "* $\\mathrm{MSE}(a,X^{k}) = Q(a,X^{k})=\\frac{1}{k}\\sum^{k}_{i=1}(a(x_{i})-y_{i})^{2}$ - *функционал качества*;\n",
        "* Классический метод обучения $\\mu$, называемый *минимизацией эмпирического риска* (*empirical risk minimization, ERM*), заключается в том, чтобы среди всех $a(x)\\in A$ найти такой, что на обучающей выборке $X^{k}$ он доставляет минимальное отклонение по заранее выбранному функционалу качества $Q(a,X^{k})$:\n",
        "$$\\mu(X^{k}):=\\mathrm{arg}\\, \\mathrm{min}_{a\\in A}Q(a,X^{k}).$$"
      ]
    },
    {
      "cell_type": "markdown",
      "metadata": {
        "id": "r8cUTJrxJrtj"
      },
      "source": [
        "Пусть теперь $\\theta \\in \\mathbb{R}^{n}$. *Метод Наименьших Квадратов* (МНК) дает конкретный способ как считать $\\mu(X^{k})$. То есть действительно является методом обучения."
      ]
    },
    {
      "cell_type": "markdown",
      "metadata": {
        "id": "77BEqEaOLWos"
      },
      "source": [
        "Пусть каждому объекту $x\\in X$ соответсвует ровно $n$ признаков $f_{j}\\colon X \\to \\mathbb{R}$, $j=1,\\dots, n$."
      ]
    },
    {
      "cell_type": "markdown",
      "metadata": {
        "id": "lsFxs21cNN1Z"
      },
      "source": [
        "Выбираем *модель линейной регрессии* $g(x,\\theta) = \\sum^{n}_{i=1}\\theta_{i}f_{i}(x)$."
      ]
    },
    {
      "cell_type": "markdown",
      "metadata": {
        "id": "YZXoZ4WuN70J"
      },
      "source": [
        "Тогда функционал качества пишется так $$Q(g(x,\\theta), X^{k}) = \\frac{1}{k}\\sum^{k}_{i=1}\\Big{(}\\sum^{n}_{j=1}\\theta_{j}f_{j}(x_{i}) - y_{i} \\Big{)}^{2}.$$\n",
        "Нам нужно найти $\\theta$ при котором достигается ее наименьшее значение как функции от $\\theta\\in \\mathbb{R}^{n}$."
      ]
    },
    {
      "cell_type": "markdown",
      "metadata": {
        "id": "hXM7-lCBXWrk"
      },
      "source": [
        "Метод наименьших квадратов состоит в поиске $\\theta$ среди критических точек функции, найти которые можно, по определению, приравняв дифференциал к нулю."
      ]
    },
    {
      "cell_type": "markdown",
      "metadata": {
        "id": "gobCu_scZHep"
      },
      "source": [
        "Пусть $F(X)=\\big{(}f_{j}(x_{i})\\big{)}^{1 \\le j\\le n}_{1\\le i \\le k}$ - $(k\\times n)$ матрица признаков. Пусть $y=(y_{1},\\dots, y_{k})^{t}$ - столбец ответов и $\\theta = (\\theta_{1},\\dots, \\theta_{n})^{t}$ - столбец параметров. Тогда"
      ]
    },
    {
      "cell_type": "markdown",
      "metadata": {
        "id": "S7Bwwr76a5FN"
      },
      "source": [
        "$$Q(g(x,\\theta),X^{k}))=Q(\\theta) = \\frac{1}{k}||F(X) \\cdot \\theta - y||^{2}.$$"
      ]
    },
    {
      "cell_type": "markdown",
      "metadata": {
        "id": "768RiE1Fbr54"
      },
      "source": [
        "Уберем этот $1/k$. Он никак не влияет на вырожденность дифференциала. Это можно вот так переписать:"
      ]
    },
    {
      "cell_type": "markdown",
      "metadata": {
        "id": "XlF2NZEJc3Tn"
      },
      "source": [
        "$$||F(X) \\cdot \\theta - y||^{2} = (F(X) \\cdot \\theta - y)^{t}(F(X) \\cdot \\theta - y) = (\\theta^{t}F^{t}(X)-y^{t})(F(X) \\cdot \\theta - y)=$$"
      ]
    },
    {
      "cell_type": "markdown",
      "metadata": {
        "id": "fyc-6M8DeL9t"
      },
      "source": [
        "$$=\\theta^{t}F^{t}(X)F(X)\\theta - y^{t}F(X)\\theta - \\theta^{t}F^{t}(X)y+y^{t}y.$$"
      ]
    },
    {
      "cell_type": "markdown",
      "metadata": {
        "id": "WqAvRVyChEut"
      },
      "source": [
        "Если $\\theta_{0}$ - фиксированный параметр, а $\\theta = \\theta_{0}+h$, где $||h||\\to 0$, то"
      ]
    },
    {
      "cell_type": "markdown",
      "metadata": {
        "id": "hmPnRMeVkMc_"
      },
      "source": [
        "$$(\\theta_{0}+h)^{t}F^{t}(X)F(X)(\\theta_{0}+h)= \\theta_{0}^{t}F^{t}(X)F(X)\\theta_{0}+ \\theta_{0}^{t}F^{t}(X)F(X)h+$$"
      ]
    },
    {
      "cell_type": "markdown",
      "metadata": {
        "id": "I_PhOPRvkvAK"
      },
      "source": [
        "$$+h^{t}F^{t}(X)F(X)\\theta_{0} + h^{t}F^{t}(X)F(X)h.$$"
      ]
    },
    {
      "cell_type": "markdown",
      "metadata": {
        "id": "vfyXp5NLk6gy"
      },
      "source": [
        "и тогда"
      ]
    },
    {
      "cell_type": "markdown",
      "metadata": {
        "id": "w-QAa0kihYYT"
      },
      "source": [
        "$$||F(X)\\cdot \\theta - y||^2 = ||F(X)\\cdot \\theta_{0} - y||^2 + y^{t}F(X)h-h^{t}F^{t}(X)y + \\theta_{0}^{t}F^{t}(X)F(X)h + h^{t}F^{t}(X)F(X)\\theta_{0} +  o(h) = $$"
      ]
    },
    {
      "cell_type": "markdown",
      "metadata": {
        "id": "UjSZ4v_4lZIU"
      },
      "source": [
        "$$=||F(X)\\cdot \\theta_{0} - y||^2 + 2 \\Big{(} \\theta_{0}^{t}F^{t}(X)F(X)  - y^{t}F(X) \\Big{)} h + o(h) .$$"
      ]
    },
    {
      "cell_type": "markdown",
      "metadata": {
        "id": "iXZXiOulmJRN"
      },
      "source": [
        "Приравнивая дифференциал к нулю, получаем систему уравнений $F^{t}(X)F(X)\\theta_{0}=F^{t}(X)y$."
      ]
    },
    {
      "cell_type": "markdown",
      "metadata": {
        "id": "73afkINDqF8M"
      },
      "source": [
        "Если матрица $F^{t}(X)F(X)$ невырожденная, то имеется единственное решение $\\theta_{0}=\\big{(}F^{t}(X)F(X)\\big{)}^{-1}F^{t}(X)y$. Если же матрица вырожденная, то есть ненулевое ядро $\\mathrm{ker}\\, F^{t}(X)F(X)$ и тогда либо есть хотя бы одно решение и тогда их бесконечно много (т.к. основное поле $\\mathbb{R}$) либо же решений вообще нет. Как видно, это зависит лишь от признаков."
      ]
    },
    {
      "cell_type": "markdown",
      "metadata": {
        "id": "Dh3ByMTDvhZC"
      },
      "source": [
        "В случае невырожденности мы получаем наименьшее значение функции. Посмотрим на соответствующее наименьшее значение:"
      ]
    },
    {
      "cell_type": "markdown",
      "metadata": {
        "id": "y5WI_Lz3wkxK"
      },
      "source": [
        "$$Q(\\theta_{0}) = \\frac{1}{k}||F(X)\\theta_{0}-y||=\\frac{1}{k}||F(X) \\big{(}F^{t}(X)F(X) \\big{)}^{-1}F^{t}(X)y - y||^2 = \\frac{1}{k}||P(X)y - y ||^2 ,$$\n"
      ]
    },
    {
      "cell_type": "markdown",
      "metadata": {
        "id": "bcvg0y8DxdSE"
      },
      "source": [
        "где $P(X)$ - матрица ортогонального проектора на подпространство порожденного столбцами матрицы признаков $F(X)$. А это в точности полное признакове описание всех объектов. Итак, мы ортогонально спроецировали ответы $y$ на линейную оболочку признаков $F(X)$, потом померили расстояние между этой проекцией и исходным $y$ - это дает самое маленькое значение функционала качества."
      ]
    },
    {
      "cell_type": "markdown",
      "metadata": {
        "id": "LfcgnhCGEuNS"
      },
      "source": [
        "Интересная мысль и хэнбука яндекса:\n",
        "\n",
        "> Как известно из линейной алгебры, для вещественной матрицы $X$\n",
        " ранги матриц $X$\n",
        " и $X^{t}X$\n",
        " совпадают. Матрица $X^t X$\n",
        " невырожденна тогда и только тогда, когда её ранг равен числу её столбцов, что равно числу столбцов матрицы. Иными словами, формула регрессии поломается, только если столбцы матрицы $X$\n",
        " линейно зависимы. Столбцы матрицы $X$\n",
        " – это признаки. А если наши признаки линейно зависимы, то, наверное, что-то идёт не так и мы должны выкинуть часть из них, чтобы остались только линейно независимые.\n",
        "Другое дело, что зачастую признаки могут быть приближённо линейно зависимы, особенно если их много. Тогда матрица $X^t X$\n",
        " будет близка к вырожденной, и это, как мы дальше увидим, будет вести к разным, в том числе вычислительным проблемам.\n",
        "\n"
      ]
    },
    {
      "cell_type": "markdown",
      "metadata": {
        "id": "3fWYeu38KTrc"
      },
      "source": [
        "Проблема точного решения: если матрица близка к обратимой, то вычислительно у нас появляются проблемы. О них поподробнее:"
      ]
    },
    {
      "cell_type": "markdown",
      "metadata": {
        "id": "VK72W0FGR8SP"
      },
      "source": [
        "Пусть $\\Sigma(X) := F^{t}(X)F(X)$ - матрица, за которую мы переживаем. Она называется *ковариационной матрицей*. То есть $\\Sigma(X)$ - $(k\\times k)$ матрица Грама набора вектор-столбцов фичей. Если она близка к необратимой $\\iff$ вектор-столбцы фичей $X$ близки к тому чтобы оказаться в линейном пространстве меньшей размерности чем $n$, то говорят, что $\\Sigma(X)$ *плохо обусловлена*. Это называют **проблемой мультиколлинеарности**."
      ]
    },
    {
      "cell_type": "markdown",
      "metadata": {
        "id": "pVXqLEfJUqE1"
      },
      "source": [
        "*Число обусловленности* $\\mu(\\Sigma(X)):=\\frac{\\max_{||u||=1}||\\Sigma(X)u||}{\\min_{||u||=1}||\\Sigma(X)u||} = \\frac{\\text{максимальное с.ч.}}{\\text{минимальное с. ч.}}$. Чем больше число обусловленности тем хуже матрица обусловлена. Заметим, что $\\mu(\\Sigma^{-1}) = \\mu(\\Sigma)$."
      ]
    },
    {
      "cell_type": "markdown",
      "metadata": {
        "id": "CM10GJa6gvgi"
      },
      "source": [
        "Пусть $w=\\Sigma^{-1}(X)u$."
      ]
    },
    {
      "cell_type": "markdown",
      "metadata": {
        "id": "9N3AeJqOl00d"
      },
      "source": [
        "Если мы измеряем величину $\\xi=\\xi_{\\text{наст}}$, то у нас возникает измеряемое значение $\\xi_{\\text{изм}}$.\n",
        "* *Абсолютная погрешность* $\\Delta \\xi = |\\xi_{\\text{изм}} - \\xi_{\\text{наст}}|$;\n",
        "* *Относительная погрешность* $\\delta \\xi = \\frac{\\Delta \\xi}{\\xi_{\\text{наст}}}$."
      ]
    },
    {
      "cell_type": "markdown",
      "metadata": {
        "id": "jullRBkZqq4u"
      },
      "source": [
        "Посмотрим на относительную погрешность $w$:"
      ]
    },
    {
      "cell_type": "markdown",
      "metadata": {
        "id": "sEwMx1fbq4_3"
      },
      "source": [
        "$$\\delta w = \\frac{||\\Delta w||}{||w||} = \\frac{||w-w_{0}||}{||w||} = \\frac{||\\Sigma^{-1}u-\\Sigma^{-1}u_{0}||}{||\\Sigma^{-1}u||} = \\frac{||\\Sigma^{-1}(u-u_{0})||}{||\\Sigma^{-1}u||}\\le \\frac{\\lambda_{\\max}(\\Sigma^{-1})}{\\lambda_{\\min}(\\Sigma^{-1})}\\frac{||u-u_{0}||}{||u||}=\\mu(\\Sigma^{-1}) \\delta u = \\mu(\\Sigma) \\delta u.$$"
      ]
    },
    {
      "cell_type": "markdown",
      "metadata": {
        "id": "m5wk9eg9q9Al"
      },
      "source": [
        "С другой стороны, $\\delta u \\le \\mu(\\Sigma) \\delta w$. Тогда"
      ]
    },
    {
      "cell_type": "markdown",
      "metadata": {
        "id": "5Nx1kHa2rCBE"
      },
      "source": [
        "$$\\frac{1}{\\mu(\\Sigma)}\\delta u \\le \\delta w \\le \\mu(\\Sigma) \\delta u.$$\n"
      ]
    },
    {
      "cell_type": "markdown",
      "metadata": {
        "id": "F4B0gLeHsicx"
      },
      "source": [
        "Таким образом, если $\\Sigma$ хорошо обусловлена, то беря близкие $y$, мы получаем близкие значения на обратной матрице $\\Sigma^{-1}$. Но если плохо обусловлена, то оценка ничего не говорит. Чтобы точно подтвердить, что при плохой обусловленности мы получаем большую ошибку, можно воспользоваться **SVD разложением**."
      ]
    },
    {
      "cell_type": "markdown",
      "metadata": {
        "id": "QwS_t0Q2_w4l"
      },
      "source": [
        "> Каждая вещественная прямоугольная матрица $F\\in \\mathrm{Mat}_{m\\times n}(\\mathbb{R})$ раскладывается в произведение $F=T_{m}DT_{n}$, в котором матрицы $T_{m}\\in O(m)$, $T_{n}\\in O(n)$ ортогональны, а $m\\times n$-матрица $D=(d_{ij})$ диагональна и неотрицательна в том смысле, что $d_{ij} = 0$ при $i\\ne j$ и все $d_{ii}\\ge 0$. При этом ровно $\\mathrm{rk}\\, F$ элементов диагонали матрицы $D$ отличны от нуля, и они с точностью до перестановки\n",
        "диагональных элементов не зависят от выбора указанного разложения.\n",
        "\n"
      ]
    },
    {
      "cell_type": "markdown",
      "metadata": {
        "id": "EO1HOBNIDnkO"
      },
      "source": [
        "Разложим $F=T_{m}DT_{n}$. Тогда $F^{t}=T^{t}_{n}D^{t}T^{t}_{m}$. Получаем $$F^{t}F =T^{t}_{n}D^{t}T^{t}_{m} T_{m}DT_{n} = T^{t}_{n}D^{t}DT_{n}.$$"
      ]
    },
    {
      "cell_type": "markdown",
      "metadata": {
        "id": "b0Eybe6bIhnF"
      },
      "source": [
        "Значит,"
      ]
    },
    {
      "cell_type": "markdown",
      "metadata": {
        "id": "ahx76fPPIi_J"
      },
      "source": [
        "$$\\theta_{0}=\\big{(}F^{t}(X)F(X)\\big{)}^{-1}F^{t}(X)y = T^{-1}_{n}\\big{(}D^{t}D \\big{)}^{-1}(T^{t}_{n})^{-1}T^{t}_{n}D^{t}T^{t}_{m} = T^{t}_{n}\\big{(}D^{t}D \\big{)}^{-1}D^{t}T^{t}_{m}.$$"
      ]
    },
    {
      "cell_type": "markdown",
      "metadata": {
        "id": "JP0rw3IPJu7p"
      },
      "source": [
        "Найти $\\big{(}D^{t}D \\big{)}^{-1}D^{t}$ можно без обращений поскольку $D$ - диагональная."
      ]
    },
    {
      "cell_type": "markdown",
      "metadata": {
        "id": "sf7QifFzTbU_"
      },
      "source": [
        "Воронцов:"
      ]
    },
    {
      "cell_type": "markdown",
      "metadata": {
        "id": "ZBLy3BA6KDrc"
      },
      "source": [
        "\n",
        "\n",
        "\n",
        "> Итак, если есть сингулярное разложение, то обращать матрицы уже не нужно.\n",
        "Однако вычисление сингулярного разложения практически столь же трудоёмко, как\n",
        "и обращение. Эффективные численные алгоритмы, вычисляющие SVD, реализованы\n",
        "во многих стандартных математических пакетах\n",
        "\n"
      ]
    },
    {
      "cell_type": "markdown",
      "metadata": {
        "id": "-eg-Dby0KSP7"
      },
      "source": [
        "Записав формулу для $\\theta_{0}$ явно можно увидеть деление на корни к сингулярным числам, и квадрат нормы оптимального параметра $||\\theta_{0}||^2$ будет содержать деления на сингулярные числа, что увеличивает погрешность. Поэтому применять точное решение не всегда хорошая идея."
      ]
    },
    {
      "cell_type": "markdown",
      "metadata": {
        "id": "sBFm3K__LWEa"
      },
      "source": [
        "## Борьба с мультиколлинеарностью"
      ]
    },
    {
      "cell_type": "markdown",
      "metadata": {
        "id": "RmPkUduBOkUw"
      },
      "source": [
        "### Ridge-регрессия = легуризация второй метрики"
      ]
    },
    {
      "cell_type": "markdown",
      "metadata": {
        "id": "SGlgWqh7OnUR"
      },
      "source": [
        "Меняем функционал качества так, чтобы он учитывал большие значения $||\\theta||_{2}^2$ - т.е. штрафовал за них:"
      ]
    },
    {
      "cell_type": "markdown",
      "metadata": {
        "id": "Yf4ruWUEOz7B"
      },
      "source": [
        "$$Q(\\theta) := ||F\\theta - y||^2 + \\alpha ||\\theta||_{2}^2.$$"
      ]
    },
    {
      "cell_type": "markdown",
      "metadata": {
        "id": "jsWhejxFQwKj"
      },
      "source": [
        "Здесь $\\alpha \\ge 0 $ - гиперпараметр регулирезации. С его подбором тоже есть какая-то заморочка (попозже): хэндбук"
      ]
    },
    {
      "cell_type": "markdown",
      "metadata": {
        "id": "JH5-NC75ogcn"
      },
      "source": [
        "\n",
        "\n",
        "> Коэффициент $\\alpha$\n",
        " является гиперпараметром модели и достаточно сильно влияет на качество итогового решения. Его подбирают по логарифмической шкале (скажем, от `1e-2` до `1e+2`), используя для сравнения моделей с разными значениями $\\alpha$\n",
        " дополнительную валидационную выборку. При этом качество модели с подобранным коэффициентом регуляризации уже проверяют на тестовой выборке, чтобы исключить переобучение.\n",
        "\n"
      ]
    },
    {
      "cell_type": "markdown",
      "metadata": {
        "id": "4n89hbkgQYEf"
      },
      "source": [
        "Повторив мои вычисления выше для этого функционала мы получим такое точное решение $\\theta_{0}(\\alpha)$:"
      ]
    },
    {
      "cell_type": "markdown",
      "metadata": {
        "id": "siENYh8pQirH"
      },
      "source": [
        "$$\\theta_{0}(\\alpha) = \\big{(}F^{t}(X)F(X)+\\alpha E \\big{)}^{-1}F^{t}(X)y.$$"
      ]
    },
    {
      "cell_type": "markdown",
      "metadata": {
        "id": "G_aslPPXTLAI"
      },
      "source": [
        "Воронцов:"
      ]
    },
    {
      "cell_type": "markdown",
      "metadata": {
        "id": "PaoEN0wtS9N-"
      },
      "source": [
        "\n",
        "\n",
        "> Таким образом, перед обращением матрицы к ней добавляется «гребень» — диагональная матрица $\\alpha E$. Отсюда и название метода — *гребневая регрессия (ridge\n",
        "regression)*. При этом все её собственные значения увеличиваются на $\\alpha$ , а собственные\n",
        "векторы не изменяются. В результате матрица становится хорошо обусловленной,\n",
        "оставаясь в то же время «похожей» на исходную.\n",
        "\n"
      ]
    },
    {
      "cell_type": "markdown",
      "metadata": {
        "id": "UGYgbd9uo-zm"
      },
      "source": [
        "### Lasso-регрессия = легуризация первой метрики"
      ]
    },
    {
      "cell_type": "markdown",
      "metadata": {
        "id": "phwJMY5cqIuy"
      },
      "source": [
        "Вместо второй метрики ставим первую:"
      ]
    },
    {
      "cell_type": "markdown",
      "metadata": {
        "id": "-MUawcUApWPz"
      },
      "source": [
        "$$Q(\\theta):=||F\\theta - y||^{2}_{2} + \\alpha||\\theta||_{1}.$$"
      ]
    },
    {
      "cell_type": "markdown",
      "metadata": {
        "id": "7MSOJs7WqsZA"
      },
      "source": [
        "Возникает проблема: $||\\theta||_{1}$ не дифференцируема в нуле! Как искать оптимальный параметр $\\theta$? ⛪"
      ]
    },
    {
      "cell_type": "markdown",
      "metadata": {
        "id": "hIddrtCis8Pq"
      },
      "source": [
        "Будем смотреть на линии уровней функционалов ошибок лассо и ридж регрессий: возьму картинку из хэндбука яндекса (надеюсь никто не обидется): здесь $\\theta= w=(w_{1},w_{2})\\in \\mathbb{R}^{2}$."
      ]
    },
    {
      "cell_type": "markdown",
      "metadata": {
        "id": "GZJNnDvYt8ha"
      },
      "source": [
        "![loss&ridge.png](data:image/png;base64,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)"
      ]
    },
    {
      "cell_type": "markdown",
      "metadata": {
        "id": "b2_lDu-lKALW"
      },
      "source": [
        "**Замечание**: ромбик неправильно нарисован, потому что горизонатальные вершины должны попадать на ось $w_{1}$."
      ]
    },
    {
      "cell_type": "markdown",
      "metadata": {
        "id": "WtWJcvkL-8WA"
      },
      "source": [
        "Что тут происходит: концетрицеские эллипсы - линии уровня MSE, а концетрические ромбики - линии уровня нормы L1. Нам нужно найти такой $w\\in \\mathbb{R}^{2}$, чтобы суммарная потеря была наименьшей."
      ]
    },
    {
      "cell_type": "markdown",
      "metadata": {
        "id": "e4ITLegoA-b7"
      },
      "source": [
        "Если зафиксировать, что мы хотим $||w||_{1}=t$, то мы катаемся по ромбику и ясно, что нам нужно отправиться в вершину этого ромбика, где линии уровня касаются. Действительно, если пересекаются трансверсально, то можно проехать по линии уровня MSE и найти более оптимальную точку."
      ]
    },
    {
      "cell_type": "markdown",
      "metadata": {
        "id": "dk5-SQWSKX4S"
      },
      "source": [
        "Таким образом, мы выяснили, что нужно *занулять часть координат* (так выглядят вершины ромбиков в $\\mathbb{R}^{d}$). Вот иллюстрация (тоже из хэндбука):"
      ]
    },
    {
      "cell_type": "markdown",
      "metadata": {
        "id": "IjbH3lzcL4HI"
      },
      "source": [
        "![L2L1.png](data:image/png;base64,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)"
      ]
    },
    {
      "cell_type": "markdown",
      "metadata": {
        "id": "kA9orel5MGHH"
      },
      "source": [
        "Ссылка из хэндбука:"
      ]
    },
    {
      "cell_type": "markdown",
      "metadata": {
        "id": "UmlEiNw9MN1Z"
      },
      "source": [
        "\n",
        "\n",
        "> Заметим, что данное построение говорит о том, как выглядит оптимальное решение задачи, но ничего не говорит о способе, которым это решение можно найти. На самом деле, найти такой оптимум непросто: у $L_{1}$\n",
        " меры довольно плохая производная. Однако, способы есть. Можете на досуге прочитать, например, вот эту статью о том, как работало предсказание CTR в google в 2012 году. Там этой теме посвящается довольно много места. Кроме того, рекомендуем посмотреть про проксимальные методы в разделе этой книги про оптимизацию в ML.\n",
        "\n"
      ]
    },
    {
      "cell_type": "code",
      "execution_count": 174,
      "metadata": {
        "id": "YB0Ffc5CMaXb"
      },
      "outputs": [],
      "source": [
        "#https://static.googleusercontent.com/media/research.google.com/en//pubs/archive/41159.pdf"
      ]
    },
    {
      "cell_type": "markdown",
      "metadata": {
        "id": "QDqsBOH7Cfxt"
      },
      "source": [
        "# Задачи по линейной регресии"
      ]
    },
    {
      "cell_type": "markdown",
      "metadata": {
        "id": "TeRb5fnjgFQ1"
      },
      "source": [
        "### Задание 3: Линейная регрессия."
      ]
    },
    {
      "cell_type": "markdown",
      "metadata": {
        "id": "-b3qyhPBgFQ1"
      },
      "source": [
        "В этом задании мы рассмотрим различные аспекты построения линейной модели. Мы будем работать с одним из классических наборов данных в статистике, содержащим информацию о бриллиантах. Описание можно посмотреть [здесь](https://www.kaggle.com/shivam2503/diamonds)."
      ]
    },
    {
      "cell_type": "code",
      "execution_count": 175,
      "metadata": {
        "colab": {
          "base_uri": "https://localhost:8080/",
          "height": 206
        },
        "id": "LMxJH2wUgFQ1",
        "outputId": "9da7dc92-048e-4a58-d89e-29655a2aa683"
      },
      "outputs": [
        {
          "output_type": "execute_result",
          "data": {
            "text/plain": [
              "   Unnamed: 0  carat      cut color clarity  depth  table  price     x     y  \\\n",
              "0           1   0.23    Ideal     E     SI2   61.5   55.0    326  3.95  3.98   \n",
              "1           2   0.21  Premium     E     SI1   59.8   61.0    326  3.89  3.84   \n",
              "2           3   0.23     Good     E     VS1   56.9   65.0    327  4.05  4.07   \n",
              "3           4   0.29  Premium     I     VS2   62.4   58.0    334  4.20  4.23   \n",
              "4           5   0.31     Good     J     SI2   63.3   58.0    335  4.34  4.35   \n",
              "\n",
              "      z  \n",
              "0  2.43  \n",
              "1  2.31  \n",
              "2  2.31  \n",
              "3  2.63  \n",
              "4  2.75  "
            ],
            "text/html": [
              "\n",
              "  <div id=\"df-0e96d2c5-5edb-4356-87a7-bba483f428d7\" class=\"colab-df-container\">\n",
              "    <div>\n",
              "<style scoped>\n",
              "    .dataframe tbody tr th:only-of-type {\n",
              "        vertical-align: middle;\n",
              "    }\n",
              "\n",
              "    .dataframe tbody tr th {\n",
              "        vertical-align: top;\n",
              "    }\n",
              "\n",
              "    .dataframe thead th {\n",
              "        text-align: right;\n",
              "    }\n",
              "</style>\n",
              "<table border=\"1\" class=\"dataframe\">\n",
              "  <thead>\n",
              "    <tr style=\"text-align: right;\">\n",
              "      <th></th>\n",
              "      <th>Unnamed: 0</th>\n",
              "      <th>carat</th>\n",
              "      <th>cut</th>\n",
              "      <th>color</th>\n",
              "      <th>clarity</th>\n",
              "      <th>depth</th>\n",
              "      <th>table</th>\n",
              "      <th>price</th>\n",
              "      <th>x</th>\n",
              "      <th>y</th>\n",
              "      <th>z</th>\n",
              "    </tr>\n",
              "  </thead>\n",
              "  <tbody>\n",
              "    <tr>\n",
              "      <th>0</th>\n",
              "      <td>1</td>\n",
              "      <td>0.23</td>\n",
              "      <td>Ideal</td>\n",
              "      <td>E</td>\n",
              "      <td>SI2</td>\n",
              "      <td>61.5</td>\n",
              "      <td>55.0</td>\n",
              "      <td>326</td>\n",
              "      <td>3.95</td>\n",
              "      <td>3.98</td>\n",
              "      <td>2.43</td>\n",
              "    </tr>\n",
              "    <tr>\n",
              "      <th>1</th>\n",
              "      <td>2</td>\n",
              "      <td>0.21</td>\n",
              "      <td>Premium</td>\n",
              "      <td>E</td>\n",
              "      <td>SI1</td>\n",
              "      <td>59.8</td>\n",
              "      <td>61.0</td>\n",
              "      <td>326</td>\n",
              "      <td>3.89</td>\n",
              "      <td>3.84</td>\n",
              "      <td>2.31</td>\n",
              "    </tr>\n",
              "    <tr>\n",
              "      <th>2</th>\n",
              "      <td>3</td>\n",
              "      <td>0.23</td>\n",
              "      <td>Good</td>\n",
              "      <td>E</td>\n",
              "      <td>VS1</td>\n",
              "      <td>56.9</td>\n",
              "      <td>65.0</td>\n",
              "      <td>327</td>\n",
              "      <td>4.05</td>\n",
              "      <td>4.07</td>\n",
              "      <td>2.31</td>\n",
              "    </tr>\n",
              "    <tr>\n",
              "      <th>3</th>\n",
              "      <td>4</td>\n",
              "      <td>0.29</td>\n",
              "      <td>Premium</td>\n",
              "      <td>I</td>\n",
              "      <td>VS2</td>\n",
              "      <td>62.4</td>\n",
              "      <td>58.0</td>\n",
              "      <td>334</td>\n",
              "      <td>4.20</td>\n",
              "      <td>4.23</td>\n",
              "      <td>2.63</td>\n",
              "    </tr>\n",
              "    <tr>\n",
              "      <th>4</th>\n",
              "      <td>5</td>\n",
              "      <td>0.31</td>\n",
              "      <td>Good</td>\n",
              "      <td>J</td>\n",
              "      <td>SI2</td>\n",
              "      <td>63.3</td>\n",
              "      <td>58.0</td>\n",
              "      <td>335</td>\n",
              "      <td>4.34</td>\n",
              "      <td>4.35</td>\n",
              "      <td>2.75</td>\n",
              "    </tr>\n",
              "  </tbody>\n",
              "</table>\n",
              "</div>\n",
              "    <div class=\"colab-df-buttons\">\n",
              "\n",
              "  <div class=\"colab-df-container\">\n",
              "    <button class=\"colab-df-convert\" onclick=\"convertToInteractive('df-0e96d2c5-5edb-4356-87a7-bba483f428d7')\"\n",
              "            title=\"Convert this dataframe to an interactive table.\"\n",
              "            style=\"display:none;\">\n",
              "\n",
              "  <svg xmlns=\"http://www.w3.org/2000/svg\" height=\"24px\" viewBox=\"0 -960 960 960\">\n",
              "    <path d=\"M120-120v-720h720v720H120Zm60-500h600v-160H180v160Zm220 220h160v-160H400v160Zm0 220h160v-160H400v160ZM180-400h160v-160H180v160Zm440 0h160v-160H620v160ZM180-180h160v-160H180v160Zm440 0h160v-160H620v160Z\"/>\n",
              "  </svg>\n",
              "    </button>\n",
              "\n",
              "  <style>\n",
              "    .colab-df-container {\n",
              "      display:flex;\n",
              "      gap: 12px;\n",
              "    }\n",
              "\n",
              "    .colab-df-convert {\n",
              "      background-color: #E8F0FE;\n",
              "      border: none;\n",
              "      border-radius: 50%;\n",
              "      cursor: pointer;\n",
              "      display: none;\n",
              "      fill: #1967D2;\n",
              "      height: 32px;\n",
              "      padding: 0 0 0 0;\n",
              "      width: 32px;\n",
              "    }\n",
              "\n",
              "    .colab-df-convert:hover {\n",
              "      background-color: #E2EBFA;\n",
              "      box-shadow: 0px 1px 2px rgba(60, 64, 67, 0.3), 0px 1px 3px 1px rgba(60, 64, 67, 0.15);\n",
              "      fill: #174EA6;\n",
              "    }\n",
              "\n",
              "    .colab-df-buttons div {\n",
              "      margin-bottom: 4px;\n",
              "    }\n",
              "\n",
              "    [theme=dark] .colab-df-convert {\n",
              "      background-color: #3B4455;\n",
              "      fill: #D2E3FC;\n",
              "    }\n",
              "\n",
              "    [theme=dark] .colab-df-convert:hover {\n",
              "      background-color: #434B5C;\n",
              "      box-shadow: 0px 1px 3px 1px rgba(0, 0, 0, 0.15);\n",
              "      filter: drop-shadow(0px 1px 2px rgba(0, 0, 0, 0.3));\n",
              "      fill: #FFFFFF;\n",
              "    }\n",
              "  </style>\n",
              "\n",
              "    <script>\n",
              "      const buttonEl =\n",
              "        document.querySelector('#df-0e96d2c5-5edb-4356-87a7-bba483f428d7 button.colab-df-convert');\n",
              "      buttonEl.style.display =\n",
              "        google.colab.kernel.accessAllowed ? 'block' : 'none';\n",
              "\n",
              "      async function convertToInteractive(key) {\n",
              "        const element = document.querySelector('#df-0e96d2c5-5edb-4356-87a7-bba483f428d7');\n",
              "        const dataTable =\n",
              "          await google.colab.kernel.invokeFunction('convertToInteractive',\n",
              "                                                    [key], {});\n",
              "        if (!dataTable) return;\n",
              "\n",
              "        const docLinkHtml = 'Like what you see? Visit the ' +\n",
              "          '<a target=\"_blank\" href=https://colab.research.google.com/notebooks/data_table.ipynb>data table notebook</a>'\n",
              "          + ' to learn more about interactive tables.';\n",
              "        element.innerHTML = '';\n",
              "        dataTable['output_type'] = 'display_data';\n",
              "        await google.colab.output.renderOutput(dataTable, element);\n",
              "        const docLink = document.createElement('div');\n",
              "        docLink.innerHTML = docLinkHtml;\n",
              "        element.appendChild(docLink);\n",
              "      }\n",
              "    </script>\n",
              "  </div>\n",
              "\n",
              "\n",
              "<div id=\"df-93afbdbe-3278-4dc2-89b8-f390e5cc6759\">\n",
              "  <button class=\"colab-df-quickchart\" onclick=\"quickchart('df-93afbdbe-3278-4dc2-89b8-f390e5cc6759')\"\n",
              "            title=\"Suggest charts\"\n",
              "            style=\"display:none;\">\n",
              "\n",
              "<svg xmlns=\"http://www.w3.org/2000/svg\" height=\"24px\"viewBox=\"0 0 24 24\"\n",
              "     width=\"24px\">\n",
              "    <g>\n",
              "        <path d=\"M19 3H5c-1.1 0-2 .9-2 2v14c0 1.1.9 2 2 2h14c1.1 0 2-.9 2-2V5c0-1.1-.9-2-2-2zM9 17H7v-7h2v7zm4 0h-2V7h2v10zm4 0h-2v-4h2v4z\"/>\n",
              "    </g>\n",
              "</svg>\n",
              "  </button>\n",
              "\n",
              "<style>\n",
              "  .colab-df-quickchart {\n",
              "      --bg-color: #E8F0FE;\n",
              "      --fill-color: #1967D2;\n",
              "      --hover-bg-color: #E2EBFA;\n",
              "      --hover-fill-color: #174EA6;\n",
              "      --disabled-fill-color: #AAA;\n",
              "      --disabled-bg-color: #DDD;\n",
              "  }\n",
              "\n",
              "  [theme=dark] .colab-df-quickchart {\n",
              "      --bg-color: #3B4455;\n",
              "      --fill-color: #D2E3FC;\n",
              "      --hover-bg-color: #434B5C;\n",
              "      --hover-fill-color: #FFFFFF;\n",
              "      --disabled-bg-color: #3B4455;\n",
              "      --disabled-fill-color: #666;\n",
              "  }\n",
              "\n",
              "  .colab-df-quickchart {\n",
              "    background-color: var(--bg-color);\n",
              "    border: none;\n",
              "    border-radius: 50%;\n",
              "    cursor: pointer;\n",
              "    display: none;\n",
              "    fill: var(--fill-color);\n",
              "    height: 32px;\n",
              "    padding: 0;\n",
              "    width: 32px;\n",
              "  }\n",
              "\n",
              "  .colab-df-quickchart:hover {\n",
              "    background-color: var(--hover-bg-color);\n",
              "    box-shadow: 0 1px 2px rgba(60, 64, 67, 0.3), 0 1px 3px 1px rgba(60, 64, 67, 0.15);\n",
              "    fill: var(--button-hover-fill-color);\n",
              "  }\n",
              "\n",
              "  .colab-df-quickchart-complete:disabled,\n",
              "  .colab-df-quickchart-complete:disabled:hover {\n",
              "    background-color: var(--disabled-bg-color);\n",
              "    fill: var(--disabled-fill-color);\n",
              "    box-shadow: none;\n",
              "  }\n",
              "\n",
              "  .colab-df-spinner {\n",
              "    border: 2px solid var(--fill-color);\n",
              "    border-color: transparent;\n",
              "    border-bottom-color: var(--fill-color);\n",
              "    animation:\n",
              "      spin 1s steps(1) infinite;\n",
              "  }\n",
              "\n",
              "  @keyframes spin {\n",
              "    0% {\n",
              "      border-color: transparent;\n",
              "      border-bottom-color: var(--fill-color);\n",
              "      border-left-color: var(--fill-color);\n",
              "    }\n",
              "    20% {\n",
              "      border-color: transparent;\n",
              "      border-left-color: var(--fill-color);\n",
              "      border-top-color: var(--fill-color);\n",
              "    }\n",
              "    30% {\n",
              "      border-color: transparent;\n",
              "      border-left-color: var(--fill-color);\n",
              "      border-top-color: var(--fill-color);\n",
              "      border-right-color: var(--fill-color);\n",
              "    }\n",
              "    40% {\n",
              "      border-color: transparent;\n",
              "      border-right-color: var(--fill-color);\n",
              "      border-top-color: var(--fill-color);\n",
              "    }\n",
              "    60% {\n",
              "      border-color: transparent;\n",
              "      border-right-color: var(--fill-color);\n",
              "    }\n",
              "    80% {\n",
              "      border-color: transparent;\n",
              "      border-right-color: var(--fill-color);\n",
              "      border-bottom-color: var(--fill-color);\n",
              "    }\n",
              "    90% {\n",
              "      border-color: transparent;\n",
              "      border-bottom-color: var(--fill-color);\n",
              "    }\n",
              "  }\n",
              "</style>\n",
              "\n",
              "  <script>\n",
              "    async function quickchart(key) {\n",
              "      const quickchartButtonEl =\n",
              "        document.querySelector('#' + key + ' button');\n",
              "      quickchartButtonEl.disabled = true;  // To prevent multiple clicks.\n",
              "      quickchartButtonEl.classList.add('colab-df-spinner');\n",
              "      try {\n",
              "        const charts = await google.colab.kernel.invokeFunction(\n",
              "            'suggestCharts', [key], {});\n",
              "      } catch (error) {\n",
              "        console.error('Error during call to suggestCharts:', error);\n",
              "      }\n",
              "      quickchartButtonEl.classList.remove('colab-df-spinner');\n",
              "      quickchartButtonEl.classList.add('colab-df-quickchart-complete');\n",
              "    }\n",
              "    (() => {\n",
              "      let quickchartButtonEl =\n",
              "        document.querySelector('#df-93afbdbe-3278-4dc2-89b8-f390e5cc6759 button');\n",
              "      quickchartButtonEl.style.display =\n",
              "        google.colab.kernel.accessAllowed ? 'block' : 'none';\n",
              "    })();\n",
              "  </script>\n",
              "</div>\n",
              "    </div>\n",
              "  </div>\n"
            ],
            "application/vnd.google.colaboratory.intrinsic+json": {
              "type": "dataframe",
              "variable_name": "data",
              "summary": "{\n  \"name\": \"data\",\n  \"rows\": 53940,\n  \"fields\": [\n    {\n      \"column\": \"Unnamed: 0\",\n      \"properties\": {\n        \"dtype\": \"number\",\n        \"std\": 15571,\n        \"min\": 1,\n        \"max\": 53940,\n        \"num_unique_values\": 53940,\n        \"samples\": [\n          1389,\n          50053,\n          41646\n        ],\n        \"semantic_type\": \"\",\n        \"description\": \"\"\n      }\n    },\n    {\n      \"column\": \"carat\",\n      \"properties\": {\n        \"dtype\": \"number\",\n        \"std\": 0.4740112444054184,\n        \"min\": 0.2,\n        \"max\": 5.01,\n        \"num_unique_values\": 273,\n        \"samples\": [\n          0.77,\n          1.58,\n          0.65\n        ],\n        \"semantic_type\": \"\",\n        \"description\": \"\"\n      }\n    },\n    {\n      \"column\": \"cut\",\n      \"properties\": {\n        \"dtype\": \"category\",\n        \"num_unique_values\": 5,\n        \"samples\": [\n          \"Premium\",\n          \"Fair\",\n          \"Good\"\n        ],\n        \"semantic_type\": \"\",\n        \"description\": \"\"\n      }\n    },\n    {\n      \"column\": \"color\",\n      \"properties\": {\n        \"dtype\": \"category\",\n        \"num_unique_values\": 7,\n        \"samples\": [\n          \"E\",\n          \"I\",\n          \"G\"\n        ],\n        \"semantic_type\": \"\",\n        \"description\": \"\"\n      }\n    },\n    {\n      \"column\": \"clarity\",\n      \"properties\": {\n        \"dtype\": \"category\",\n        \"num_unique_values\": 8,\n        \"samples\": [\n          \"SI1\",\n          \"VVS1\",\n          \"SI2\"\n        ],\n        \"semantic_type\": \"\",\n        \"description\": \"\"\n      }\n    },\n    {\n      \"column\": \"depth\",\n      \"properties\": {\n        \"dtype\": \"number\",\n        \"std\": 1.432621318833661,\n        \"min\": 43.0,\n        \"max\": 79.0,\n        \"num_unique_values\": 184,\n        \"samples\": [\n          61.0,\n          62.9,\n          70.2\n        ],\n        \"semantic_type\": \"\",\n        \"description\": \"\"\n      }\n    },\n    {\n      \"column\": \"table\",\n      \"properties\": {\n        \"dtype\": \"number\",\n        \"std\": 2.2344905628213225,\n        \"min\": 43.0,\n        \"max\": 95.0,\n        \"num_unique_values\": 127,\n        \"samples\": [\n          54.8,\n          61.5,\n          57.6\n        ],\n        \"semantic_type\": \"\",\n        \"description\": \"\"\n      }\n    },\n    {\n      \"column\": \"price\",\n      \"properties\": {\n        \"dtype\": \"number\",\n        \"std\": 3989,\n        \"min\": 326,\n        \"max\": 18823,\n        \"num_unique_values\": 11602,\n        \"samples\": [\n          16368,\n          895,\n          748\n        ],\n        \"semantic_type\": \"\",\n        \"description\": \"\"\n      }\n    },\n    {\n      \"column\": \"x\",\n      \"properties\": {\n        \"dtype\": \"number\",\n        \"std\": 1.1217607467924928,\n        \"min\": 0.0,\n        \"max\": 10.74,\n        \"num_unique_values\": 554,\n        \"samples\": [\n          5.88,\n          5.69,\n          4.61\n        ],\n        \"semantic_type\": \"\",\n        \"description\": \"\"\n      }\n    },\n    {\n      \"column\": \"y\",\n      \"properties\": {\n        \"dtype\": \"number\",\n        \"std\": 1.1421346741235552,\n        \"min\": 0.0,\n        \"max\": 58.9,\n        \"num_unique_values\": 552,\n        \"samples\": [\n          5.33,\n          5.61,\n          5.25\n        ],\n        \"semantic_type\": \"\",\n        \"description\": \"\"\n      }\n    },\n    {\n      \"column\": \"z\",\n      \"properties\": {\n        \"dtype\": \"number\",\n        \"std\": 0.7056988469499941,\n        \"min\": 0.0,\n        \"max\": 31.8,\n        \"num_unique_values\": 375,\n        \"samples\": [\n          3.36,\n          2.45,\n          2.7\n        ],\n        \"semantic_type\": \"\",\n        \"description\": \"\"\n      }\n    }\n  ]\n}"
            }
          },
          "metadata": {},
          "execution_count": 175
        }
      ],
      "source": [
        "data = pd.read_csv('diamonds.csv')\n",
        "data.head(5)"
      ]
    },
    {
      "cell_type": "code",
      "execution_count": 176,
      "metadata": {
        "colab": {
          "base_uri": "https://localhost:8080/"
        },
        "id": "Z_tmvvqxNsFg",
        "outputId": "667ef27d-e5d3-46d8-fe7f-46170ea3fde0"
      },
      "outputs": [
        {
          "output_type": "execute_result",
          "data": {
            "text/plain": [
              "593340"
            ]
          },
          "metadata": {},
          "execution_count": 176
        }
      ],
      "source": [
        "data.size"
      ]
    },
    {
      "cell_type": "code",
      "execution_count": 177,
      "metadata": {
        "colab": {
          "base_uri": "https://localhost:8080/"
        },
        "id": "PRFtDmm2OC08",
        "outputId": "58cd160f-4405-444a-f4d7-a742a92d6198"
      },
      "outputs": [
        {
          "output_type": "execute_result",
          "data": {
            "text/plain": [
              "(53940, 11)"
            ]
          },
          "metadata": {},
          "execution_count": 177
        }
      ],
      "source": [
        "data.shape"
      ]
    },
    {
      "cell_type": "markdown",
      "metadata": {
        "id": "up0aSDWUgFQ1"
      },
      "source": [
        "Мы будем решать задачу предсказания цены бриллианта `price` в зависимости от его характеристик."
      ]
    },
    {
      "cell_type": "markdown",
      "metadata": {
        "id": "0miSmx6mgFQ1"
      },
      "source": [
        "**Задача 3.1 (0.2 балла)** Есть ли в наборе данных пропущенные значения? Если да, удалите их.\n",
        "Есть ли в наборе данных бессмысленные столбцы (признаки, не несущие дополнительной информации)? Если да, то удалите их."
      ]
    },
    {
      "cell_type": "code",
      "execution_count": 178,
      "metadata": {
        "colab": {
          "base_uri": "https://localhost:8080/"
        },
        "id": "Yb_iI9RigFQ1",
        "outputId": "8490cb12-c3cb-476c-f455-dd25c8cb4748"
      },
      "outputs": [
        {
          "output_type": "stream",
          "name": "stdout",
          "text": [
            "<class 'pandas.core.frame.DataFrame'>\n",
            "RangeIndex: 53940 entries, 0 to 53939\n",
            "Data columns (total 11 columns):\n",
            " #   Column      Non-Null Count  Dtype  \n",
            "---  ------      --------------  -----  \n",
            " 0   Unnamed: 0  53940 non-null  int64  \n",
            " 1   carat       53940 non-null  float64\n",
            " 2   cut         53940 non-null  object \n",
            " 3   color       53940 non-null  object \n",
            " 4   clarity     53940 non-null  object \n",
            " 5   depth       53940 non-null  float64\n",
            " 6   table       53940 non-null  float64\n",
            " 7   price       53940 non-null  int64  \n",
            " 8   x           53940 non-null  float64\n",
            " 9   y           53940 non-null  float64\n",
            " 10  z           53940 non-null  float64\n",
            "dtypes: float64(6), int64(2), object(3)\n",
            "memory usage: 4.5+ MB\n"
          ]
        }
      ],
      "source": [
        "data.info()"
      ]
    },
    {
      "cell_type": "markdown",
      "metadata": {
        "id": "cSCuDxAMOZnX"
      },
      "source": [
        "Заметим, что нулевой столбец является просто индексом. Поэтому мы удалим его."
      ]
    },
    {
      "cell_type": "code",
      "execution_count": 179,
      "metadata": {
        "id": "GRRcR9reOvyJ"
      },
      "outputs": [],
      "source": [
        "del data['Unnamed: 0']"
      ]
    },
    {
      "cell_type": "code",
      "execution_count": 180,
      "metadata": {
        "colab": {
          "base_uri": "https://localhost:8080/",
          "height": 423
        },
        "id": "BBq91FpxPJb8",
        "outputId": "af564420-3373-4b52-c45b-e7e5a792d885"
      },
      "outputs": [
        {
          "output_type": "execute_result",
          "data": {
            "text/plain": [
              "       carat        cut color clarity  depth  table  price     x     y     z\n",
              "0       0.23      Ideal     E     SI2   61.5   55.0    326  3.95  3.98  2.43\n",
              "1       0.21    Premium     E     SI1   59.8   61.0    326  3.89  3.84  2.31\n",
              "2       0.23       Good     E     VS1   56.9   65.0    327  4.05  4.07  2.31\n",
              "3       0.29    Premium     I     VS2   62.4   58.0    334  4.20  4.23  2.63\n",
              "4       0.31       Good     J     SI2   63.3   58.0    335  4.34  4.35  2.75\n",
              "...      ...        ...   ...     ...    ...    ...    ...   ...   ...   ...\n",
              "53935   0.72      Ideal     D     SI1   60.8   57.0   2757  5.75  5.76  3.50\n",
              "53936   0.72       Good     D     SI1   63.1   55.0   2757  5.69  5.75  3.61\n",
              "53937   0.70  Very Good     D     SI1   62.8   60.0   2757  5.66  5.68  3.56\n",
              "53938   0.86    Premium     H     SI2   61.0   58.0   2757  6.15  6.12  3.74\n",
              "53939   0.75      Ideal     D     SI2   62.2   55.0   2757  5.83  5.87  3.64\n",
              "\n",
              "[53940 rows x 10 columns]"
            ],
            "text/html": [
              "\n",
              "  <div id=\"df-9b158d38-8c29-4d21-b6e2-5ea5c3f67a02\" class=\"colab-df-container\">\n",
              "    <div>\n",
              "<style scoped>\n",
              "    .dataframe tbody tr th:only-of-type {\n",
              "        vertical-align: middle;\n",
              "    }\n",
              "\n",
              "    .dataframe tbody tr th {\n",
              "        vertical-align: top;\n",
              "    }\n",
              "\n",
              "    .dataframe thead th {\n",
              "        text-align: right;\n",
              "    }\n",
              "</style>\n",
              "<table border=\"1\" class=\"dataframe\">\n",
              "  <thead>\n",
              "    <tr style=\"text-align: right;\">\n",
              "      <th></th>\n",
              "      <th>carat</th>\n",
              "      <th>cut</th>\n",
              "      <th>color</th>\n",
              "      <th>clarity</th>\n",
              "      <th>depth</th>\n",
              "      <th>table</th>\n",
              "      <th>price</th>\n",
              "      <th>x</th>\n",
              "      <th>y</th>\n",
              "      <th>z</th>\n",
              "    </tr>\n",
              "  </thead>\n",
              "  <tbody>\n",
              "    <tr>\n",
              "      <th>0</th>\n",
              "      <td>0.23</td>\n",
              "      <td>Ideal</td>\n",
              "      <td>E</td>\n",
              "      <td>SI2</td>\n",
              "      <td>61.5</td>\n",
              "      <td>55.0</td>\n",
              "      <td>326</td>\n",
              "      <td>3.95</td>\n",
              "      <td>3.98</td>\n",
              "      <td>2.43</td>\n",
              "    </tr>\n",
              "    <tr>\n",
              "      <th>1</th>\n",
              "      <td>0.21</td>\n",
              "      <td>Premium</td>\n",
              "      <td>E</td>\n",
              "      <td>SI1</td>\n",
              "      <td>59.8</td>\n",
              "      <td>61.0</td>\n",
              "      <td>326</td>\n",
              "      <td>3.89</td>\n",
              "      <td>3.84</td>\n",
              "      <td>2.31</td>\n",
              "    </tr>\n",
              "    <tr>\n",
              "      <th>2</th>\n",
              "      <td>0.23</td>\n",
              "      <td>Good</td>\n",
              "      <td>E</td>\n",
              "      <td>VS1</td>\n",
              "      <td>56.9</td>\n",
              "      <td>65.0</td>\n",
              "      <td>327</td>\n",
              "      <td>4.05</td>\n",
              "      <td>4.07</td>\n",
              "      <td>2.31</td>\n",
              "    </tr>\n",
              "    <tr>\n",
              "      <th>3</th>\n",
              "      <td>0.29</td>\n",
              "      <td>Premium</td>\n",
              "      <td>I</td>\n",
              "      <td>VS2</td>\n",
              "      <td>62.4</td>\n",
              "      <td>58.0</td>\n",
              "      <td>334</td>\n",
              "      <td>4.20</td>\n",
              "      <td>4.23</td>\n",
              "      <td>2.63</td>\n",
              "    </tr>\n",
              "    <tr>\n",
              "      <th>4</th>\n",
              "      <td>0.31</td>\n",
              "      <td>Good</td>\n",
              "      <td>J</td>\n",
              "      <td>SI2</td>\n",
              "      <td>63.3</td>\n",
              "      <td>58.0</td>\n",
              "      <td>335</td>\n",
              "      <td>4.34</td>\n",
              "      <td>4.35</td>\n",
              "      <td>2.75</td>\n",
              "    </tr>\n",
              "    <tr>\n",
              "      <th>...</th>\n",
              "      <td>...</td>\n",
              "      <td>...</td>\n",
              "      <td>...</td>\n",
              "      <td>...</td>\n",
              "      <td>...</td>\n",
              "      <td>...</td>\n",
              "      <td>...</td>\n",
              "      <td>...</td>\n",
              "      <td>...</td>\n",
              "      <td>...</td>\n",
              "    </tr>\n",
              "    <tr>\n",
              "      <th>53935</th>\n",
              "      <td>0.72</td>\n",
              "      <td>Ideal</td>\n",
              "      <td>D</td>\n",
              "      <td>SI1</td>\n",
              "      <td>60.8</td>\n",
              "      <td>57.0</td>\n",
              "      <td>2757</td>\n",
              "      <td>5.75</td>\n",
              "      <td>5.76</td>\n",
              "      <td>3.50</td>\n",
              "    </tr>\n",
              "    <tr>\n",
              "      <th>53936</th>\n",
              "      <td>0.72</td>\n",
              "      <td>Good</td>\n",
              "      <td>D</td>\n",
              "      <td>SI1</td>\n",
              "      <td>63.1</td>\n",
              "      <td>55.0</td>\n",
              "      <td>2757</td>\n",
              "      <td>5.69</td>\n",
              "      <td>5.75</td>\n",
              "      <td>3.61</td>\n",
              "    </tr>\n",
              "    <tr>\n",
              "      <th>53937</th>\n",
              "      <td>0.70</td>\n",
              "      <td>Very Good</td>\n",
              "      <td>D</td>\n",
              "      <td>SI1</td>\n",
              "      <td>62.8</td>\n",
              "      <td>60.0</td>\n",
              "      <td>2757</td>\n",
              "      <td>5.66</td>\n",
              "      <td>5.68</td>\n",
              "      <td>3.56</td>\n",
              "    </tr>\n",
              "    <tr>\n",
              "      <th>53938</th>\n",
              "      <td>0.86</td>\n",
              "      <td>Premium</td>\n",
              "      <td>H</td>\n",
              "      <td>SI2</td>\n",
              "      <td>61.0</td>\n",
              "      <td>58.0</td>\n",
              "      <td>2757</td>\n",
              "      <td>6.15</td>\n",
              "      <td>6.12</td>\n",
              "      <td>3.74</td>\n",
              "    </tr>\n",
              "    <tr>\n",
              "      <th>53939</th>\n",
              "      <td>0.75</td>\n",
              "      <td>Ideal</td>\n",
              "      <td>D</td>\n",
              "      <td>SI2</td>\n",
              "      <td>62.2</td>\n",
              "      <td>55.0</td>\n",
              "      <td>2757</td>\n",
              "      <td>5.83</td>\n",
              "      <td>5.87</td>\n",
              "      <td>3.64</td>\n",
              "    </tr>\n",
              "  </tbody>\n",
              "</table>\n",
              "<p>53940 rows × 10 columns</p>\n",
              "</div>\n",
              "    <div class=\"colab-df-buttons\">\n",
              "\n",
              "  <div class=\"colab-df-container\">\n",
              "    <button class=\"colab-df-convert\" onclick=\"convertToInteractive('df-9b158d38-8c29-4d21-b6e2-5ea5c3f67a02')\"\n",
              "            title=\"Convert this dataframe to an interactive table.\"\n",
              "            style=\"display:none;\">\n",
              "\n",
              "  <svg xmlns=\"http://www.w3.org/2000/svg\" height=\"24px\" viewBox=\"0 -960 960 960\">\n",
              "    <path d=\"M120-120v-720h720v720H120Zm60-500h600v-160H180v160Zm220 220h160v-160H400v160Zm0 220h160v-160H400v160ZM180-400h160v-160H180v160Zm440 0h160v-160H620v160ZM180-180h160v-160H180v160Zm440 0h160v-160H620v160Z\"/>\n",
              "  </svg>\n",
              "    </button>\n",
              "\n",
              "  <style>\n",
              "    .colab-df-container {\n",
              "      display:flex;\n",
              "      gap: 12px;\n",
              "    }\n",
              "\n",
              "    .colab-df-convert {\n",
              "      background-color: #E8F0FE;\n",
              "      border: none;\n",
              "      border-radius: 50%;\n",
              "      cursor: pointer;\n",
              "      display: none;\n",
              "      fill: #1967D2;\n",
              "      height: 32px;\n",
              "      padding: 0 0 0 0;\n",
              "      width: 32px;\n",
              "    }\n",
              "\n",
              "    .colab-df-convert:hover {\n",
              "      background-color: #E2EBFA;\n",
              "      box-shadow: 0px 1px 2px rgba(60, 64, 67, 0.3), 0px 1px 3px 1px rgba(60, 64, 67, 0.15);\n",
              "      fill: #174EA6;\n",
              "    }\n",
              "\n",
              "    .colab-df-buttons div {\n",
              "      margin-bottom: 4px;\n",
              "    }\n",
              "\n",
              "    [theme=dark] .colab-df-convert {\n",
              "      background-color: #3B4455;\n",
              "      fill: #D2E3FC;\n",
              "    }\n",
              "\n",
              "    [theme=dark] .colab-df-convert:hover {\n",
              "      background-color: #434B5C;\n",
              "      box-shadow: 0px 1px 3px 1px rgba(0, 0, 0, 0.15);\n",
              "      filter: drop-shadow(0px 1px 2px rgba(0, 0, 0, 0.3));\n",
              "      fill: #FFFFFF;\n",
              "    }\n",
              "  </style>\n",
              "\n",
              "    <script>\n",
              "      const buttonEl =\n",
              "        document.querySelector('#df-9b158d38-8c29-4d21-b6e2-5ea5c3f67a02 button.colab-df-convert');\n",
              "      buttonEl.style.display =\n",
              "        google.colab.kernel.accessAllowed ? 'block' : 'none';\n",
              "\n",
              "      async function convertToInteractive(key) {\n",
              "        const element = document.querySelector('#df-9b158d38-8c29-4d21-b6e2-5ea5c3f67a02');\n",
              "        const dataTable =\n",
              "          await google.colab.kernel.invokeFunction('convertToInteractive',\n",
              "                                                    [key], {});\n",
              "        if (!dataTable) return;\n",
              "\n",
              "        const docLinkHtml = 'Like what you see? Visit the ' +\n",
              "          '<a target=\"_blank\" href=https://colab.research.google.com/notebooks/data_table.ipynb>data table notebook</a>'\n",
              "          + ' to learn more about interactive tables.';\n",
              "        element.innerHTML = '';\n",
              "        dataTable['output_type'] = 'display_data';\n",
              "        await google.colab.output.renderOutput(dataTable, element);\n",
              "        const docLink = document.createElement('div');\n",
              "        docLink.innerHTML = docLinkHtml;\n",
              "        element.appendChild(docLink);\n",
              "      }\n",
              "    </script>\n",
              "  </div>\n",
              "\n",
              "\n",
              "<div id=\"df-7e585d34-d667-49d3-8464-a96449799892\">\n",
              "  <button class=\"colab-df-quickchart\" onclick=\"quickchart('df-7e585d34-d667-49d3-8464-a96449799892')\"\n",
              "            title=\"Suggest charts\"\n",
              "            style=\"display:none;\">\n",
              "\n",
              "<svg xmlns=\"http://www.w3.org/2000/svg\" height=\"24px\"viewBox=\"0 0 24 24\"\n",
              "     width=\"24px\">\n",
              "    <g>\n",
              "        <path d=\"M19 3H5c-1.1 0-2 .9-2 2v14c0 1.1.9 2 2 2h14c1.1 0 2-.9 2-2V5c0-1.1-.9-2-2-2zM9 17H7v-7h2v7zm4 0h-2V7h2v10zm4 0h-2v-4h2v4z\"/>\n",
              "    </g>\n",
              "</svg>\n",
              "  </button>\n",
              "\n",
              "<style>\n",
              "  .colab-df-quickchart {\n",
              "      --bg-color: #E8F0FE;\n",
              "      --fill-color: #1967D2;\n",
              "      --hover-bg-color: #E2EBFA;\n",
              "      --hover-fill-color: #174EA6;\n",
              "      --disabled-fill-color: #AAA;\n",
              "      --disabled-bg-color: #DDD;\n",
              "  }\n",
              "\n",
              "  [theme=dark] .colab-df-quickchart {\n",
              "      --bg-color: #3B4455;\n",
              "      --fill-color: #D2E3FC;\n",
              "      --hover-bg-color: #434B5C;\n",
              "      --hover-fill-color: #FFFFFF;\n",
              "      --disabled-bg-color: #3B4455;\n",
              "      --disabled-fill-color: #666;\n",
              "  }\n",
              "\n",
              "  .colab-df-quickchart {\n",
              "    background-color: var(--bg-color);\n",
              "    border: none;\n",
              "    border-radius: 50%;\n",
              "    cursor: pointer;\n",
              "    display: none;\n",
              "    fill: var(--fill-color);\n",
              "    height: 32px;\n",
              "    padding: 0;\n",
              "    width: 32px;\n",
              "  }\n",
              "\n",
              "  .colab-df-quickchart:hover {\n",
              "    background-color: var(--hover-bg-color);\n",
              "    box-shadow: 0 1px 2px rgba(60, 64, 67, 0.3), 0 1px 3px 1px rgba(60, 64, 67, 0.15);\n",
              "    fill: var(--button-hover-fill-color);\n",
              "  }\n",
              "\n",
              "  .colab-df-quickchart-complete:disabled,\n",
              "  .colab-df-quickchart-complete:disabled:hover {\n",
              "    background-color: var(--disabled-bg-color);\n",
              "    fill: var(--disabled-fill-color);\n",
              "    box-shadow: none;\n",
              "  }\n",
              "\n",
              "  .colab-df-spinner {\n",
              "    border: 2px solid var(--fill-color);\n",
              "    border-color: transparent;\n",
              "    border-bottom-color: var(--fill-color);\n",
              "    animation:\n",
              "      spin 1s steps(1) infinite;\n",
              "  }\n",
              "\n",
              "  @keyframes spin {\n",
              "    0% {\n",
              "      border-color: transparent;\n",
              "      border-bottom-color: var(--fill-color);\n",
              "      border-left-color: var(--fill-color);\n",
              "    }\n",
              "    20% {\n",
              "      border-color: transparent;\n",
              "      border-left-color: var(--fill-color);\n",
              "      border-top-color: var(--fill-color);\n",
              "    }\n",
              "    30% {\n",
              "      border-color: transparent;\n",
              "      border-left-color: var(--fill-color);\n",
              "      border-top-color: var(--fill-color);\n",
              "      border-right-color: var(--fill-color);\n",
              "    }\n",
              "    40% {\n",
              "      border-color: transparent;\n",
              "      border-right-color: var(--fill-color);\n",
              "      border-top-color: var(--fill-color);\n",
              "    }\n",
              "    60% {\n",
              "      border-color: transparent;\n",
              "      border-right-color: var(--fill-color);\n",
              "    }\n",
              "    80% {\n",
              "      border-color: transparent;\n",
              "      border-right-color: var(--fill-color);\n",
              "      border-bottom-color: var(--fill-color);\n",
              "    }\n",
              "    90% {\n",
              "      border-color: transparent;\n",
              "      border-bottom-color: var(--fill-color);\n",
              "    }\n",
              "  }\n",
              "</style>\n",
              "\n",
              "  <script>\n",
              "    async function quickchart(key) {\n",
              "      const quickchartButtonEl =\n",
              "        document.querySelector('#' + key + ' button');\n",
              "      quickchartButtonEl.disabled = true;  // To prevent multiple clicks.\n",
              "      quickchartButtonEl.classList.add('colab-df-spinner');\n",
              "      try {\n",
              "        const charts = await google.colab.kernel.invokeFunction(\n",
              "            'suggestCharts', [key], {});\n",
              "      } catch (error) {\n",
              "        console.error('Error during call to suggestCharts:', error);\n",
              "      }\n",
              "      quickchartButtonEl.classList.remove('colab-df-spinner');\n",
              "      quickchartButtonEl.classList.add('colab-df-quickchart-complete');\n",
              "    }\n",
              "    (() => {\n",
              "      let quickchartButtonEl =\n",
              "        document.querySelector('#df-7e585d34-d667-49d3-8464-a96449799892 button');\n",
              "      quickchartButtonEl.style.display =\n",
              "        google.colab.kernel.accessAllowed ? 'block' : 'none';\n",
              "    })();\n",
              "  </script>\n",
              "</div>\n",
              "    </div>\n",
              "  </div>\n"
            ],
            "application/vnd.google.colaboratory.intrinsic+json": {
              "type": "dataframe",
              "variable_name": "data",
              "summary": "{\n  \"name\": \"data\",\n  \"rows\": 53940,\n  \"fields\": [\n    {\n      \"column\": \"carat\",\n      \"properties\": {\n        \"dtype\": \"number\",\n        \"std\": 0.4740112444054184,\n        \"min\": 0.2,\n        \"max\": 5.01,\n        \"num_unique_values\": 273,\n        \"samples\": [\n          0.77,\n          1.58,\n          0.65\n        ],\n        \"semantic_type\": \"\",\n        \"description\": \"\"\n      }\n    },\n    {\n      \"column\": \"cut\",\n      \"properties\": {\n        \"dtype\": \"category\",\n        \"num_unique_values\": 5,\n        \"samples\": [\n          \"Premium\",\n          \"Fair\",\n          \"Good\"\n        ],\n        \"semantic_type\": \"\",\n        \"description\": \"\"\n      }\n    },\n    {\n      \"column\": \"color\",\n      \"properties\": {\n        \"dtype\": \"category\",\n        \"num_unique_values\": 7,\n        \"samples\": [\n          \"E\",\n          \"I\",\n          \"G\"\n        ],\n        \"semantic_type\": \"\",\n        \"description\": \"\"\n      }\n    },\n    {\n      \"column\": \"clarity\",\n      \"properties\": {\n        \"dtype\": \"category\",\n        \"num_unique_values\": 8,\n        \"samples\": [\n          \"SI1\",\n          \"VVS1\",\n          \"SI2\"\n        ],\n        \"semantic_type\": \"\",\n        \"description\": \"\"\n      }\n    },\n    {\n      \"column\": \"depth\",\n      \"properties\": {\n        \"dtype\": \"number\",\n        \"std\": 1.432621318833661,\n        \"min\": 43.0,\n        \"max\": 79.0,\n        \"num_unique_values\": 184,\n        \"samples\": [\n          61.0,\n          62.9,\n          70.2\n        ],\n        \"semantic_type\": \"\",\n        \"description\": \"\"\n      }\n    },\n    {\n      \"column\": \"table\",\n      \"properties\": {\n        \"dtype\": \"number\",\n        \"std\": 2.2344905628213225,\n        \"min\": 43.0,\n        \"max\": 95.0,\n        \"num_unique_values\": 127,\n        \"samples\": [\n          54.8,\n          61.5,\n          57.6\n        ],\n        \"semantic_type\": \"\",\n        \"description\": \"\"\n      }\n    },\n    {\n      \"column\": \"price\",\n      \"properties\": {\n        \"dtype\": \"number\",\n        \"std\": 3989,\n        \"min\": 326,\n        \"max\": 18823,\n        \"num_unique_values\": 11602,\n        \"samples\": [\n          16368,\n          895,\n          748\n        ],\n        \"semantic_type\": \"\",\n        \"description\": \"\"\n      }\n    },\n    {\n      \"column\": \"x\",\n      \"properties\": {\n        \"dtype\": \"number\",\n        \"std\": 1.1217607467924928,\n        \"min\": 0.0,\n        \"max\": 10.74,\n        \"num_unique_values\": 554,\n        \"samples\": [\n          5.88,\n          5.69,\n          4.61\n        ],\n        \"semantic_type\": \"\",\n        \"description\": \"\"\n      }\n    },\n    {\n      \"column\": \"y\",\n      \"properties\": {\n        \"dtype\": \"number\",\n        \"std\": 1.1421346741235552,\n        \"min\": 0.0,\n        \"max\": 58.9,\n        \"num_unique_values\": 552,\n        \"samples\": [\n          5.33,\n          5.61,\n          5.25\n        ],\n        \"semantic_type\": \"\",\n        \"description\": \"\"\n      }\n    },\n    {\n      \"column\": \"z\",\n      \"properties\": {\n        \"dtype\": \"number\",\n        \"std\": 0.7056988469499941,\n        \"min\": 0.0,\n        \"max\": 31.8,\n        \"num_unique_values\": 375,\n        \"samples\": [\n          3.36,\n          2.45,\n          2.7\n        ],\n        \"semantic_type\": \"\",\n        \"description\": \"\"\n      }\n    }\n  ]\n}"
            }
          },
          "metadata": {},
          "execution_count": 180
        }
      ],
      "source": [
        "data"
      ]
    },
    {
      "cell_type": "markdown",
      "metadata": {
        "id": "qyTZyrrfgFQ1"
      },
      "source": [
        "**Задача 3.2 (0.1 балла)** Линейная регрессия основана на предположении о линейной связи между признаками и целевой переменной, а потому перед выбором переменных для включения в модель имеет смысл проверить, насколько эта связь выполняется. Для следующих пунктов нам также потребуются выборочные корреляции между признаками. Выведите матрицу выборочных корреляций между всеми вещественными признаками и целевой переменной (то есть в этой матрице будет $k+1$ строка, где $k$ – количество вещественных признаков).\n",
        "\n",
        "Какие вещественные признаки коррелируют с целевой переменной больше всего?"
      ]
    },
    {
      "cell_type": "code",
      "execution_count": 181,
      "metadata": {
        "id": "dJiOlnVkgFQ1"
      },
      "outputs": [],
      "source": [
        "X_real_features = data[['carat', 'depth', 'table', 'x', 'y', 'z']]"
      ]
    },
    {
      "cell_type": "code",
      "execution_count": 182,
      "metadata": {
        "id": "CIZjxDdxSJE2"
      },
      "outputs": [],
      "source": [
        "y_price_target = data[['price']]"
      ]
    },
    {
      "cell_type": "code",
      "execution_count": 183,
      "metadata": {
        "id": "MWt8cWYOhrRh"
      },
      "outputs": [],
      "source": [
        "Z_features_targets = data[['carat', 'depth', 'table', 'x', 'y', 'z', 'price']]"
      ]
    },
    {
      "cell_type": "code",
      "execution_count": 184,
      "metadata": {
        "colab": {
          "base_uri": "https://localhost:8080/",
          "height": 423
        },
        "id": "Woj3QiL5Rbem",
        "outputId": "b236717e-84a6-4840-858a-82157d4665bc"
      },
      "outputs": [
        {
          "output_type": "execute_result",
          "data": {
            "text/plain": [
              "       carat  depth  table     x     y     z\n",
              "0       0.23   61.5   55.0  3.95  3.98  2.43\n",
              "1       0.21   59.8   61.0  3.89  3.84  2.31\n",
              "2       0.23   56.9   65.0  4.05  4.07  2.31\n",
              "3       0.29   62.4   58.0  4.20  4.23  2.63\n",
              "4       0.31   63.3   58.0  4.34  4.35  2.75\n",
              "...      ...    ...    ...   ...   ...   ...\n",
              "53935   0.72   60.8   57.0  5.75  5.76  3.50\n",
              "53936   0.72   63.1   55.0  5.69  5.75  3.61\n",
              "53937   0.70   62.8   60.0  5.66  5.68  3.56\n",
              "53938   0.86   61.0   58.0  6.15  6.12  3.74\n",
              "53939   0.75   62.2   55.0  5.83  5.87  3.64\n",
              "\n",
              "[53940 rows x 6 columns]"
            ],
            "text/html": [
              "\n",
              "  <div id=\"df-7e6b695a-0d40-4219-a40a-af1469b055f5\" class=\"colab-df-container\">\n",
              "    <div>\n",
              "<style scoped>\n",
              "    .dataframe tbody tr th:only-of-type {\n",
              "        vertical-align: middle;\n",
              "    }\n",
              "\n",
              "    .dataframe tbody tr th {\n",
              "        vertical-align: top;\n",
              "    }\n",
              "\n",
              "    .dataframe thead th {\n",
              "        text-align: right;\n",
              "    }\n",
              "</style>\n",
              "<table border=\"1\" class=\"dataframe\">\n",
              "  <thead>\n",
              "    <tr style=\"text-align: right;\">\n",
              "      <th></th>\n",
              "      <th>carat</th>\n",
              "      <th>depth</th>\n",
              "      <th>table</th>\n",
              "      <th>x</th>\n",
              "      <th>y</th>\n",
              "      <th>z</th>\n",
              "    </tr>\n",
              "  </thead>\n",
              "  <tbody>\n",
              "    <tr>\n",
              "      <th>0</th>\n",
              "      <td>0.23</td>\n",
              "      <td>61.5</td>\n",
              "      <td>55.0</td>\n",
              "      <td>3.95</td>\n",
              "      <td>3.98</td>\n",
              "      <td>2.43</td>\n",
              "    </tr>\n",
              "    <tr>\n",
              "      <th>1</th>\n",
              "      <td>0.21</td>\n",
              "      <td>59.8</td>\n",
              "      <td>61.0</td>\n",
              "      <td>3.89</td>\n",
              "      <td>3.84</td>\n",
              "      <td>2.31</td>\n",
              "    </tr>\n",
              "    <tr>\n",
              "      <th>2</th>\n",
              "      <td>0.23</td>\n",
              "      <td>56.9</td>\n",
              "      <td>65.0</td>\n",
              "      <td>4.05</td>\n",
              "      <td>4.07</td>\n",
              "      <td>2.31</td>\n",
              "    </tr>\n",
              "    <tr>\n",
              "      <th>3</th>\n",
              "      <td>0.29</td>\n",
              "      <td>62.4</td>\n",
              "      <td>58.0</td>\n",
              "      <td>4.20</td>\n",
              "      <td>4.23</td>\n",
              "      <td>2.63</td>\n",
              "    </tr>\n",
              "    <tr>\n",
              "      <th>4</th>\n",
              "      <td>0.31</td>\n",
              "      <td>63.3</td>\n",
              "      <td>58.0</td>\n",
              "      <td>4.34</td>\n",
              "      <td>4.35</td>\n",
              "      <td>2.75</td>\n",
              "    </tr>\n",
              "    <tr>\n",
              "      <th>...</th>\n",
              "      <td>...</td>\n",
              "      <td>...</td>\n",
              "      <td>...</td>\n",
              "      <td>...</td>\n",
              "      <td>...</td>\n",
              "      <td>...</td>\n",
              "    </tr>\n",
              "    <tr>\n",
              "      <th>53935</th>\n",
              "      <td>0.72</td>\n",
              "      <td>60.8</td>\n",
              "      <td>57.0</td>\n",
              "      <td>5.75</td>\n",
              "      <td>5.76</td>\n",
              "      <td>3.50</td>\n",
              "    </tr>\n",
              "    <tr>\n",
              "      <th>53936</th>\n",
              "      <td>0.72</td>\n",
              "      <td>63.1</td>\n",
              "      <td>55.0</td>\n",
              "      <td>5.69</td>\n",
              "      <td>5.75</td>\n",
              "      <td>3.61</td>\n",
              "    </tr>\n",
              "    <tr>\n",
              "      <th>53937</th>\n",
              "      <td>0.70</td>\n",
              "      <td>62.8</td>\n",
              "      <td>60.0</td>\n",
              "      <td>5.66</td>\n",
              "      <td>5.68</td>\n",
              "      <td>3.56</td>\n",
              "    </tr>\n",
              "    <tr>\n",
              "      <th>53938</th>\n",
              "      <td>0.86</td>\n",
              "      <td>61.0</td>\n",
              "      <td>58.0</td>\n",
              "      <td>6.15</td>\n",
              "      <td>6.12</td>\n",
              "      <td>3.74</td>\n",
              "    </tr>\n",
              "    <tr>\n",
              "      <th>53939</th>\n",
              "      <td>0.75</td>\n",
              "      <td>62.2</td>\n",
              "      <td>55.0</td>\n",
              "      <td>5.83</td>\n",
              "      <td>5.87</td>\n",
              "      <td>3.64</td>\n",
              "    </tr>\n",
              "  </tbody>\n",
              "</table>\n",
              "<p>53940 rows × 6 columns</p>\n",
              "</div>\n",
              "    <div class=\"colab-df-buttons\">\n",
              "\n",
              "  <div class=\"colab-df-container\">\n",
              "    <button class=\"colab-df-convert\" onclick=\"convertToInteractive('df-7e6b695a-0d40-4219-a40a-af1469b055f5')\"\n",
              "            title=\"Convert this dataframe to an interactive table.\"\n",
              "            style=\"display:none;\">\n",
              "\n",
              "  <svg xmlns=\"http://www.w3.org/2000/svg\" height=\"24px\" viewBox=\"0 -960 960 960\">\n",
              "    <path d=\"M120-120v-720h720v720H120Zm60-500h600v-160H180v160Zm220 220h160v-160H400v160Zm0 220h160v-160H400v160ZM180-400h160v-160H180v160Zm440 0h160v-160H620v160ZM180-180h160v-160H180v160Zm440 0h160v-160H620v160Z\"/>\n",
              "  </svg>\n",
              "    </button>\n",
              "\n",
              "  <style>\n",
              "    .colab-df-container {\n",
              "      display:flex;\n",
              "      gap: 12px;\n",
              "    }\n",
              "\n",
              "    .colab-df-convert {\n",
              "      background-color: #E8F0FE;\n",
              "      border: none;\n",
              "      border-radius: 50%;\n",
              "      cursor: pointer;\n",
              "      display: none;\n",
              "      fill: #1967D2;\n",
              "      height: 32px;\n",
              "      padding: 0 0 0 0;\n",
              "      width: 32px;\n",
              "    }\n",
              "\n",
              "    .colab-df-convert:hover {\n",
              "      background-color: #E2EBFA;\n",
              "      box-shadow: 0px 1px 2px rgba(60, 64, 67, 0.3), 0px 1px 3px 1px rgba(60, 64, 67, 0.15);\n",
              "      fill: #174EA6;\n",
              "    }\n",
              "\n",
              "    .colab-df-buttons div {\n",
              "      margin-bottom: 4px;\n",
              "    }\n",
              "\n",
              "    [theme=dark] .colab-df-convert {\n",
              "      background-color: #3B4455;\n",
              "      fill: #D2E3FC;\n",
              "    }\n",
              "\n",
              "    [theme=dark] .colab-df-convert:hover {\n",
              "      background-color: #434B5C;\n",
              "      box-shadow: 0px 1px 3px 1px rgba(0, 0, 0, 0.15);\n",
              "      filter: drop-shadow(0px 1px 2px rgba(0, 0, 0, 0.3));\n",
              "      fill: #FFFFFF;\n",
              "    }\n",
              "  </style>\n",
              "\n",
              "    <script>\n",
              "      const buttonEl =\n",
              "        document.querySelector('#df-7e6b695a-0d40-4219-a40a-af1469b055f5 button.colab-df-convert');\n",
              "      buttonEl.style.display =\n",
              "        google.colab.kernel.accessAllowed ? 'block' : 'none';\n",
              "\n",
              "      async function convertToInteractive(key) {\n",
              "        const element = document.querySelector('#df-7e6b695a-0d40-4219-a40a-af1469b055f5');\n",
              "        const dataTable =\n",
              "          await google.colab.kernel.invokeFunction('convertToInteractive',\n",
              "                                                    [key], {});\n",
              "        if (!dataTable) return;\n",
              "\n",
              "        const docLinkHtml = 'Like what you see? Visit the ' +\n",
              "          '<a target=\"_blank\" href=https://colab.research.google.com/notebooks/data_table.ipynb>data table notebook</a>'\n",
              "          + ' to learn more about interactive tables.';\n",
              "        element.innerHTML = '';\n",
              "        dataTable['output_type'] = 'display_data';\n",
              "        await google.colab.output.renderOutput(dataTable, element);\n",
              "        const docLink = document.createElement('div');\n",
              "        docLink.innerHTML = docLinkHtml;\n",
              "        element.appendChild(docLink);\n",
              "      }\n",
              "    </script>\n",
              "  </div>\n",
              "\n",
              "\n",
              "<div id=\"df-2a5fb762-3194-4891-bad0-8c0fbd9b372d\">\n",
              "  <button class=\"colab-df-quickchart\" onclick=\"quickchart('df-2a5fb762-3194-4891-bad0-8c0fbd9b372d')\"\n",
              "            title=\"Suggest charts\"\n",
              "            style=\"display:none;\">\n",
              "\n",
              "<svg xmlns=\"http://www.w3.org/2000/svg\" height=\"24px\"viewBox=\"0 0 24 24\"\n",
              "     width=\"24px\">\n",
              "    <g>\n",
              "        <path d=\"M19 3H5c-1.1 0-2 .9-2 2v14c0 1.1.9 2 2 2h14c1.1 0 2-.9 2-2V5c0-1.1-.9-2-2-2zM9 17H7v-7h2v7zm4 0h-2V7h2v10zm4 0h-2v-4h2v4z\"/>\n",
              "    </g>\n",
              "</svg>\n",
              "  </button>\n",
              "\n",
              "<style>\n",
              "  .colab-df-quickchart {\n",
              "      --bg-color: #E8F0FE;\n",
              "      --fill-color: #1967D2;\n",
              "      --hover-bg-color: #E2EBFA;\n",
              "      --hover-fill-color: #174EA6;\n",
              "      --disabled-fill-color: #AAA;\n",
              "      --disabled-bg-color: #DDD;\n",
              "  }\n",
              "\n",
              "  [theme=dark] .colab-df-quickchart {\n",
              "      --bg-color: #3B4455;\n",
              "      --fill-color: #D2E3FC;\n",
              "      --hover-bg-color: #434B5C;\n",
              "      --hover-fill-color: #FFFFFF;\n",
              "      --disabled-bg-color: #3B4455;\n",
              "      --disabled-fill-color: #666;\n",
              "  }\n",
              "\n",
              "  .colab-df-quickchart {\n",
              "    background-color: var(--bg-color);\n",
              "    border: none;\n",
              "    border-radius: 50%;\n",
              "    cursor: pointer;\n",
              "    display: none;\n",
              "    fill: var(--fill-color);\n",
              "    height: 32px;\n",
              "    padding: 0;\n",
              "    width: 32px;\n",
              "  }\n",
              "\n",
              "  .colab-df-quickchart:hover {\n",
              "    background-color: var(--hover-bg-color);\n",
              "    box-shadow: 0 1px 2px rgba(60, 64, 67, 0.3), 0 1px 3px 1px rgba(60, 64, 67, 0.15);\n",
              "    fill: var(--button-hover-fill-color);\n",
              "  }\n",
              "\n",
              "  .colab-df-quickchart-complete:disabled,\n",
              "  .colab-df-quickchart-complete:disabled:hover {\n",
              "    background-color: var(--disabled-bg-color);\n",
              "    fill: var(--disabled-fill-color);\n",
              "    box-shadow: none;\n",
              "  }\n",
              "\n",
              "  .colab-df-spinner {\n",
              "    border: 2px solid var(--fill-color);\n",
              "    border-color: transparent;\n",
              "    border-bottom-color: var(--fill-color);\n",
              "    animation:\n",
              "      spin 1s steps(1) infinite;\n",
              "  }\n",
              "\n",
              "  @keyframes spin {\n",
              "    0% {\n",
              "      border-color: transparent;\n",
              "      border-bottom-color: var(--fill-color);\n",
              "      border-left-color: var(--fill-color);\n",
              "    }\n",
              "    20% {\n",
              "      border-color: transparent;\n",
              "      border-left-color: var(--fill-color);\n",
              "      border-top-color: var(--fill-color);\n",
              "    }\n",
              "    30% {\n",
              "      border-color: transparent;\n",
              "      border-left-color: var(--fill-color);\n",
              "      border-top-color: var(--fill-color);\n",
              "      border-right-color: var(--fill-color);\n",
              "    }\n",
              "    40% {\n",
              "      border-color: transparent;\n",
              "      border-right-color: var(--fill-color);\n",
              "      border-top-color: var(--fill-color);\n",
              "    }\n",
              "    60% {\n",
              "      border-color: transparent;\n",
              "      border-right-color: var(--fill-color);\n",
              "    }\n",
              "    80% {\n",
              "      border-color: transparent;\n",
              "      border-right-color: var(--fill-color);\n",
              "      border-bottom-color: var(--fill-color);\n",
              "    }\n",
              "    90% {\n",
              "      border-color: transparent;\n",
              "      border-bottom-color: var(--fill-color);\n",
              "    }\n",
              "  }\n",
              "</style>\n",
              "\n",
              "  <script>\n",
              "    async function quickchart(key) {\n",
              "      const quickchartButtonEl =\n",
              "        document.querySelector('#' + key + ' button');\n",
              "      quickchartButtonEl.disabled = true;  // To prevent multiple clicks.\n",
              "      quickchartButtonEl.classList.add('colab-df-spinner');\n",
              "      try {\n",
              "        const charts = await google.colab.kernel.invokeFunction(\n",
              "            'suggestCharts', [key], {});\n",
              "      } catch (error) {\n",
              "        console.error('Error during call to suggestCharts:', error);\n",
              "      }\n",
              "      quickchartButtonEl.classList.remove('colab-df-spinner');\n",
              "      quickchartButtonEl.classList.add('colab-df-quickchart-complete');\n",
              "    }\n",
              "    (() => {\n",
              "      let quickchartButtonEl =\n",
              "        document.querySelector('#df-2a5fb762-3194-4891-bad0-8c0fbd9b372d button');\n",
              "      quickchartButtonEl.style.display =\n",
              "        google.colab.kernel.accessAllowed ? 'block' : 'none';\n",
              "    })();\n",
              "  </script>\n",
              "</div>\n",
              "    </div>\n",
              "  </div>\n"
            ],
            "application/vnd.google.colaboratory.intrinsic+json": {
              "type": "dataframe",
              "variable_name": "X_real_features",
              "summary": "{\n  \"name\": \"X_real_features\",\n  \"rows\": 53940,\n  \"fields\": [\n    {\n      \"column\": \"carat\",\n      \"properties\": {\n        \"dtype\": \"number\",\n        \"std\": 0.4740112444054184,\n        \"min\": 0.2,\n        \"max\": 5.01,\n        \"num_unique_values\": 273,\n        \"samples\": [\n          0.77,\n          1.58,\n          0.65\n        ],\n        \"semantic_type\": \"\",\n        \"description\": \"\"\n      }\n    },\n    {\n      \"column\": \"depth\",\n      \"properties\": {\n        \"dtype\": \"number\",\n        \"std\": 1.432621318833661,\n        \"min\": 43.0,\n        \"max\": 79.0,\n        \"num_unique_values\": 184,\n        \"samples\": [\n          61.0,\n          62.9,\n          70.2\n        ],\n        \"semantic_type\": \"\",\n        \"description\": \"\"\n      }\n    },\n    {\n      \"column\": \"table\",\n      \"properties\": {\n        \"dtype\": \"number\",\n        \"std\": 2.2344905628213225,\n        \"min\": 43.0,\n        \"max\": 95.0,\n        \"num_unique_values\": 127,\n        \"samples\": [\n          54.8,\n          61.5,\n          57.6\n        ],\n        \"semantic_type\": \"\",\n        \"description\": \"\"\n      }\n    },\n    {\n      \"column\": \"x\",\n      \"properties\": {\n        \"dtype\": \"number\",\n        \"std\": 1.1217607467924928,\n        \"min\": 0.0,\n        \"max\": 10.74,\n        \"num_unique_values\": 554,\n        \"samples\": [\n          5.88,\n          5.69,\n          4.61\n        ],\n        \"semantic_type\": \"\",\n        \"description\": \"\"\n      }\n    },\n    {\n      \"column\": \"y\",\n      \"properties\": {\n        \"dtype\": \"number\",\n        \"std\": 1.1421346741235552,\n        \"min\": 0.0,\n        \"max\": 58.9,\n        \"num_unique_values\": 552,\n        \"samples\": [\n          5.33,\n          5.61,\n          5.25\n        ],\n        \"semantic_type\": \"\",\n        \"description\": \"\"\n      }\n    },\n    {\n      \"column\": \"z\",\n      \"properties\": {\n        \"dtype\": \"number\",\n        \"std\": 0.7056988469499941,\n        \"min\": 0.0,\n        \"max\": 31.8,\n        \"num_unique_values\": 375,\n        \"samples\": [\n          3.36,\n          2.45,\n          2.7\n        ],\n        \"semantic_type\": \"\",\n        \"description\": \"\"\n      }\n    }\n  ]\n}"
            }
          },
          "metadata": {},
          "execution_count": 184
        }
      ],
      "source": [
        "X_real_features"
      ]
    },
    {
      "cell_type": "code",
      "execution_count": 185,
      "metadata": {
        "colab": {
          "base_uri": "https://localhost:8080/",
          "height": 423
        },
        "id": "9szwwIFxSS93",
        "outputId": "0aa0c39f-0a81-45bd-8271-811a2da6d336"
      },
      "outputs": [
        {
          "output_type": "execute_result",
          "data": {
            "text/plain": [
              "       price\n",
              "0        326\n",
              "1        326\n",
              "2        327\n",
              "3        334\n",
              "4        335\n",
              "...      ...\n",
              "53935   2757\n",
              "53936   2757\n",
              "53937   2757\n",
              "53938   2757\n",
              "53939   2757\n",
              "\n",
              "[53940 rows x 1 columns]"
            ],
            "text/html": [
              "\n",
              "  <div id=\"df-e30f5d2a-6334-4d81-90bf-2e1bf81a2222\" class=\"colab-df-container\">\n",
              "    <div>\n",
              "<style scoped>\n",
              "    .dataframe tbody tr th:only-of-type {\n",
              "        vertical-align: middle;\n",
              "    }\n",
              "\n",
              "    .dataframe tbody tr th {\n",
              "        vertical-align: top;\n",
              "    }\n",
              "\n",
              "    .dataframe thead th {\n",
              "        text-align: right;\n",
              "    }\n",
              "</style>\n",
              "<table border=\"1\" class=\"dataframe\">\n",
              "  <thead>\n",
              "    <tr style=\"text-align: right;\">\n",
              "      <th></th>\n",
              "      <th>price</th>\n",
              "    </tr>\n",
              "  </thead>\n",
              "  <tbody>\n",
              "    <tr>\n",
              "      <th>0</th>\n",
              "      <td>326</td>\n",
              "    </tr>\n",
              "    <tr>\n",
              "      <th>1</th>\n",
              "      <td>326</td>\n",
              "    </tr>\n",
              "    <tr>\n",
              "      <th>2</th>\n",
              "      <td>327</td>\n",
              "    </tr>\n",
              "    <tr>\n",
              "      <th>3</th>\n",
              "      <td>334</td>\n",
              "    </tr>\n",
              "    <tr>\n",
              "      <th>4</th>\n",
              "      <td>335</td>\n",
              "    </tr>\n",
              "    <tr>\n",
              "      <th>...</th>\n",
              "      <td>...</td>\n",
              "    </tr>\n",
              "    <tr>\n",
              "      <th>53935</th>\n",
              "      <td>2757</td>\n",
              "    </tr>\n",
              "    <tr>\n",
              "      <th>53936</th>\n",
              "      <td>2757</td>\n",
              "    </tr>\n",
              "    <tr>\n",
              "      <th>53937</th>\n",
              "      <td>2757</td>\n",
              "    </tr>\n",
              "    <tr>\n",
              "      <th>53938</th>\n",
              "      <td>2757</td>\n",
              "    </tr>\n",
              "    <tr>\n",
              "      <th>53939</th>\n",
              "      <td>2757</td>\n",
              "    </tr>\n",
              "  </tbody>\n",
              "</table>\n",
              "<p>53940 rows × 1 columns</p>\n",
              "</div>\n",
              "    <div class=\"colab-df-buttons\">\n",
              "\n",
              "  <div class=\"colab-df-container\">\n",
              "    <button class=\"colab-df-convert\" onclick=\"convertToInteractive('df-e30f5d2a-6334-4d81-90bf-2e1bf81a2222')\"\n",
              "            title=\"Convert this dataframe to an interactive table.\"\n",
              "            style=\"display:none;\">\n",
              "\n",
              "  <svg xmlns=\"http://www.w3.org/2000/svg\" height=\"24px\" viewBox=\"0 -960 960 960\">\n",
              "    <path d=\"M120-120v-720h720v720H120Zm60-500h600v-160H180v160Zm220 220h160v-160H400v160Zm0 220h160v-160H400v160ZM180-400h160v-160H180v160Zm440 0h160v-160H620v160ZM180-180h160v-160H180v160Zm440 0h160v-160H620v160Z\"/>\n",
              "  </svg>\n",
              "    </button>\n",
              "\n",
              "  <style>\n",
              "    .colab-df-container {\n",
              "      display:flex;\n",
              "      gap: 12px;\n",
              "    }\n",
              "\n",
              "    .colab-df-convert {\n",
              "      background-color: #E8F0FE;\n",
              "      border: none;\n",
              "      border-radius: 50%;\n",
              "      cursor: pointer;\n",
              "      display: none;\n",
              "      fill: #1967D2;\n",
              "      height: 32px;\n",
              "      padding: 0 0 0 0;\n",
              "      width: 32px;\n",
              "    }\n",
              "\n",
              "    .colab-df-convert:hover {\n",
              "      background-color: #E2EBFA;\n",
              "      box-shadow: 0px 1px 2px rgba(60, 64, 67, 0.3), 0px 1px 3px 1px rgba(60, 64, 67, 0.15);\n",
              "      fill: #174EA6;\n",
              "    }\n",
              "\n",
              "    .colab-df-buttons div {\n",
              "      margin-bottom: 4px;\n",
              "    }\n",
              "\n",
              "    [theme=dark] .colab-df-convert {\n",
              "      background-color: #3B4455;\n",
              "      fill: #D2E3FC;\n",
              "    }\n",
              "\n",
              "    [theme=dark] .colab-df-convert:hover {\n",
              "      background-color: #434B5C;\n",
              "      box-shadow: 0px 1px 3px 1px rgba(0, 0, 0, 0.15);\n",
              "      filter: drop-shadow(0px 1px 2px rgba(0, 0, 0, 0.3));\n",
              "      fill: #FFFFFF;\n",
              "    }\n",
              "  </style>\n",
              "\n",
              "    <script>\n",
              "      const buttonEl =\n",
              "        document.querySelector('#df-e30f5d2a-6334-4d81-90bf-2e1bf81a2222 button.colab-df-convert');\n",
              "      buttonEl.style.display =\n",
              "        google.colab.kernel.accessAllowed ? 'block' : 'none';\n",
              "\n",
              "      async function convertToInteractive(key) {\n",
              "        const element = document.querySelector('#df-e30f5d2a-6334-4d81-90bf-2e1bf81a2222');\n",
              "        const dataTable =\n",
              "          await google.colab.kernel.invokeFunction('convertToInteractive',\n",
              "                                                    [key], {});\n",
              "        if (!dataTable) return;\n",
              "\n",
              "        const docLinkHtml = 'Like what you see? Visit the ' +\n",
              "          '<a target=\"_blank\" href=https://colab.research.google.com/notebooks/data_table.ipynb>data table notebook</a>'\n",
              "          + ' to learn more about interactive tables.';\n",
              "        element.innerHTML = '';\n",
              "        dataTable['output_type'] = 'display_data';\n",
              "        await google.colab.output.renderOutput(dataTable, element);\n",
              "        const docLink = document.createElement('div');\n",
              "        docLink.innerHTML = docLinkHtml;\n",
              "        element.appendChild(docLink);\n",
              "      }\n",
              "    </script>\n",
              "  </div>\n",
              "\n",
              "\n",
              "<div id=\"df-06d1d2e4-6025-468b-9985-0875ea76af18\">\n",
              "  <button class=\"colab-df-quickchart\" onclick=\"quickchart('df-06d1d2e4-6025-468b-9985-0875ea76af18')\"\n",
              "            title=\"Suggest charts\"\n",
              "            style=\"display:none;\">\n",
              "\n",
              "<svg xmlns=\"http://www.w3.org/2000/svg\" height=\"24px\"viewBox=\"0 0 24 24\"\n",
              "     width=\"24px\">\n",
              "    <g>\n",
              "        <path d=\"M19 3H5c-1.1 0-2 .9-2 2v14c0 1.1.9 2 2 2h14c1.1 0 2-.9 2-2V5c0-1.1-.9-2-2-2zM9 17H7v-7h2v7zm4 0h-2V7h2v10zm4 0h-2v-4h2v4z\"/>\n",
              "    </g>\n",
              "</svg>\n",
              "  </button>\n",
              "\n",
              "<style>\n",
              "  .colab-df-quickchart {\n",
              "      --bg-color: #E8F0FE;\n",
              "      --fill-color: #1967D2;\n",
              "      --hover-bg-color: #E2EBFA;\n",
              "      --hover-fill-color: #174EA6;\n",
              "      --disabled-fill-color: #AAA;\n",
              "      --disabled-bg-color: #DDD;\n",
              "  }\n",
              "\n",
              "  [theme=dark] .colab-df-quickchart {\n",
              "      --bg-color: #3B4455;\n",
              "      --fill-color: #D2E3FC;\n",
              "      --hover-bg-color: #434B5C;\n",
              "      --hover-fill-color: #FFFFFF;\n",
              "      --disabled-bg-color: #3B4455;\n",
              "      --disabled-fill-color: #666;\n",
              "  }\n",
              "\n",
              "  .colab-df-quickchart {\n",
              "    background-color: var(--bg-color);\n",
              "    border: none;\n",
              "    border-radius: 50%;\n",
              "    cursor: pointer;\n",
              "    display: none;\n",
              "    fill: var(--fill-color);\n",
              "    height: 32px;\n",
              "    padding: 0;\n",
              "    width: 32px;\n",
              "  }\n",
              "\n",
              "  .colab-df-quickchart:hover {\n",
              "    background-color: var(--hover-bg-color);\n",
              "    box-shadow: 0 1px 2px rgba(60, 64, 67, 0.3), 0 1px 3px 1px rgba(60, 64, 67, 0.15);\n",
              "    fill: var(--button-hover-fill-color);\n",
              "  }\n",
              "\n",
              "  .colab-df-quickchart-complete:disabled,\n",
              "  .colab-df-quickchart-complete:disabled:hover {\n",
              "    background-color: var(--disabled-bg-color);\n",
              "    fill: var(--disabled-fill-color);\n",
              "    box-shadow: none;\n",
              "  }\n",
              "\n",
              "  .colab-df-spinner {\n",
              "    border: 2px solid var(--fill-color);\n",
              "    border-color: transparent;\n",
              "    border-bottom-color: var(--fill-color);\n",
              "    animation:\n",
              "      spin 1s steps(1) infinite;\n",
              "  }\n",
              "\n",
              "  @keyframes spin {\n",
              "    0% {\n",
              "      border-color: transparent;\n",
              "      border-bottom-color: var(--fill-color);\n",
              "      border-left-color: var(--fill-color);\n",
              "    }\n",
              "    20% {\n",
              "      border-color: transparent;\n",
              "      border-left-color: var(--fill-color);\n",
              "      border-top-color: var(--fill-color);\n",
              "    }\n",
              "    30% {\n",
              "      border-color: transparent;\n",
              "      border-left-color: var(--fill-color);\n",
              "      border-top-color: var(--fill-color);\n",
              "      border-right-color: var(--fill-color);\n",
              "    }\n",
              "    40% {\n",
              "      border-color: transparent;\n",
              "      border-right-color: var(--fill-color);\n",
              "      border-top-color: var(--fill-color);\n",
              "    }\n",
              "    60% {\n",
              "      border-color: transparent;\n",
              "      border-right-color: var(--fill-color);\n",
              "    }\n",
              "    80% {\n",
              "      border-color: transparent;\n",
              "      border-right-color: var(--fill-color);\n",
              "      border-bottom-color: var(--fill-color);\n",
              "    }\n",
              "    90% {\n",
              "      border-color: transparent;\n",
              "      border-bottom-color: var(--fill-color);\n",
              "    }\n",
              "  }\n",
              "</style>\n",
              "\n",
              "  <script>\n",
              "    async function quickchart(key) {\n",
              "      const quickchartButtonEl =\n",
              "        document.querySelector('#' + key + ' button');\n",
              "      quickchartButtonEl.disabled = true;  // To prevent multiple clicks.\n",
              "      quickchartButtonEl.classList.add('colab-df-spinner');\n",
              "      try {\n",
              "        const charts = await google.colab.kernel.invokeFunction(\n",
              "            'suggestCharts', [key], {});\n",
              "      } catch (error) {\n",
              "        console.error('Error during call to suggestCharts:', error);\n",
              "      }\n",
              "      quickchartButtonEl.classList.remove('colab-df-spinner');\n",
              "      quickchartButtonEl.classList.add('colab-df-quickchart-complete');\n",
              "    }\n",
              "    (() => {\n",
              "      let quickchartButtonEl =\n",
              "        document.querySelector('#df-06d1d2e4-6025-468b-9985-0875ea76af18 button');\n",
              "      quickchartButtonEl.style.display =\n",
              "        google.colab.kernel.accessAllowed ? 'block' : 'none';\n",
              "    })();\n",
              "  </script>\n",
              "</div>\n",
              "    </div>\n",
              "  </div>\n"
            ],
            "application/vnd.google.colaboratory.intrinsic+json": {
              "type": "dataframe",
              "variable_name": "y_price_target",
              "summary": "{\n  \"name\": \"y_price_target\",\n  \"rows\": 53940,\n  \"fields\": [\n    {\n      \"column\": \"price\",\n      \"properties\": {\n        \"dtype\": \"number\",\n        \"std\": 3989,\n        \"min\": 326,\n        \"max\": 18823,\n        \"num_unique_values\": 11602,\n        \"samples\": [\n          16368,\n          895,\n          748\n        ],\n        \"semantic_type\": \"\",\n        \"description\": \"\"\n      }\n    }\n  ]\n}"
            }
          },
          "metadata": {},
          "execution_count": 185
        }
      ],
      "source": [
        "y_price_target"
      ]
    },
    {
      "cell_type": "markdown",
      "metadata": {
        "id": "TbvtH4uRfY0e"
      },
      "source": [
        "\n",
        "\n",
        "---\n",
        "\n"
      ]
    },
    {
      "cell_type": "markdown",
      "metadata": {
        "id": "9pfbJyDfTY3s"
      },
      "source": [
        "Пусть $X$ и $Y$ - случайные величины. Напомним, что такое *ковариация*: $$\\mathrm{cov}(X,Y)=E\\big{(}(X-E(X))(Y-E(Y)) \\big{)}.$$ Она измеряет насколько $X$ и $Y$ зависимы. Так же про ковариацию можно думать как о скалярном произведении случайных величин $X-E(X)$ и $Y-E(Y)$."
      ]
    },
    {
      "cell_type": "markdown",
      "metadata": {
        "id": "3dc19W6ObrPL"
      },
      "source": [
        "*Коэффициент кореляции Пирсона* $\\rho(X,Y)=\\frac{\\mathrm{cov}(X,Y)}{\\sqrt{D(X)}\\sqrt{D(Y)}}$. Его можно понимать как косинус угла скалярного произведения $\\mathrm{cov}(X,Y)$."
      ]
    },
    {
      "cell_type": "markdown",
      "metadata": {
        "id": "LSjV0C7Ojp8q"
      },
      "source": [
        "Пусть $X$ и $Y$ линейно зависимы и имеют нулевые средние. То есть $Y= X \\theta$. Тогда $\\mathrm{cov}(X,Y)=E(XY)=\\theta E(X^{2})=\\theta D(X)$ и  "
      ]
    },
    {
      "cell_type": "markdown",
      "metadata": {
        "id": "MEpVYSdhkac0"
      },
      "source": [
        "$$\\rho(X,Y)=\\frac{\\theta}{|\\theta|} \\cdot \\frac{D(X)}{|D(X)|}=\\mathrm{sign}\\big{(}D(X)\\big{)} \\mathrm{sign}(\\theta).$$"
      ]
    },
    {
      "cell_type": "markdown",
      "metadata": {
        "id": "w0H0zkfOlWx-"
      },
      "source": [
        "Если модуль кореляции \"близок\" к $1$, то зависимость \"близка\" к линейной."
      ]
    },
    {
      "cell_type": "markdown",
      "metadata": {
        "id": "s1nmde_N8xKb"
      },
      "source": [
        "Увеличим размерность. Рассмотрим в общем $F(X)\\theta = y$, то есть"
      ]
    },
    {
      "cell_type": "markdown",
      "metadata": {
        "id": "eKjMUvRD9DP1"
      },
      "source": [
        "$$f_{1}(x_{i})\\theta_{1}+\\dots+ f_{n}(x_{i})\\theta_{n} = y_{i},\\quad i=1,\\dots, k.$$"
      ]
    },
    {
      "cell_type": "markdown",
      "metadata": {
        "id": "b2pKk12V-Zk1"
      },
      "source": [
        "Напомним, что $i$ - номер объекта выборки."
      ]
    },
    {
      "cell_type": "markdown",
      "metadata": {
        "id": "ndAyJIamAISj"
      },
      "source": [
        "Другими словами, мы думаем про $X_{1}\\theta_{1}+\\dots + X_{n}\\theta_{n}=Y$, где $X_{j},Y$ - случайные величины."
      ]
    },
    {
      "cell_type": "markdown",
      "metadata": {
        "id": "lhE18Y3wBoeM"
      },
      "source": [
        "Предположим, что у нас есть такая линейная зависимость и все $X_{j},Y$ имеют нулевые средние. Тогда"
      ]
    },
    {
      "cell_type": "markdown",
      "metadata": {
        "id": "-QWBRKyKB32-"
      },
      "source": [
        "$$\\rho(X_{j}, Y) = \\frac{E(X_{j}Y)}{\\sqrt{D(X_{j})}\\sqrt{D(Y)}} = \\frac{\\sum^{n}_{s=1}\\theta_{s}E(X_{j}X_{s})}{\\sqrt{D(X_{j})\\sqrt{D(\\sum^{n}_{s=1}X_{s}\\theta_{s})}}}.$$"
      ]
    },
    {
      "cell_type": "markdown",
      "metadata": {
        "id": "B2StQNL5EFhc"
      },
      "source": [
        "Если $X_{\\alpha}$ и $X_{\\beta}$ независимы при $\\alpha \\ne \\beta$, то"
      ]
    },
    {
      "cell_type": "markdown",
      "metadata": {
        "id": "QaaZRa5EETfG"
      },
      "source": [
        "$$\\rho(X_{j},Y)=\\frac{\\theta_{j}D(X_{j})}{|\\theta_{j}||D(X_{j})|}.$$"
      ]
    },
    {
      "cell_type": "markdown",
      "metadata": {
        "id": "eF7zkxkeSF-4"
      },
      "source": [
        "Таким образом, если величины $X_{j}$ попарно независимы, то можно посчитать кореляцию для каждой пары $(X_{j},Y)$"
      ]
    },
    {
      "cell_type": "markdown",
      "metadata": {
        "id": "fb8ZVoAafbpl"
      },
      "source": [
        "\n",
        "\n",
        "---\n",
        "\n"
      ]
    },
    {
      "cell_type": "code",
      "execution_count": 186,
      "metadata": {
        "id": "SXiSoxEfhIif"
      },
      "outputs": [],
      "source": [
        "correlation_matrix = Z_features_targets.corr()"
      ]
    },
    {
      "cell_type": "code",
      "execution_count": 187,
      "metadata": {
        "id": "0tjQbST6rJPT"
      },
      "outputs": [],
      "source": [
        "import seaborn as sns"
      ]
    },
    {
      "cell_type": "code",
      "execution_count": 188,
      "metadata": {
        "colab": {
          "base_uri": "https://localhost:8080/",
          "height": 495
        },
        "id": "hXwt9SfQrMln",
        "outputId": "fc408782-b25e-4112-f06d-dd0b6ade1095"
      },
      "outputs": [
        {
          "output_type": "display_data",
          "data": {
            "text/plain": [
              "<Figure size 600x500 with 2 Axes>"
            ],
            "image/png": "[encoded data removed]"
          },
          "metadata": {}
        }
      ],
      "source": [
        "plt.figure(figsize=(6, 5))\n",
        "plt.suptitle(r\"Heat map of correlations\", fontsize=15, fontweight='bold')\n",
        "ax = sns.heatmap(correlation_matrix, vmin=-1, vmax=1,  annot=True, fmt=\"0.2f\") #строим тепловую карту корреляций\n",
        "plt.show()"
      ]
    },
    {
      "cell_type": "code",
      "execution_count": 189,
      "metadata": {
        "colab": {
          "base_uri": "https://localhost:8080/",
          "height": 269
        },
        "id": "XsHPu8gpiO67",
        "outputId": "48c006bf-6a55-4a37-92b4-a543a56c04d7"
      },
      "outputs": [
        {
          "output_type": "execute_result",
          "data": {
            "text/plain": [
              "          carat     depth     table         x         y         z     price\n",
              "carat  1.000000  0.028224  0.181618  0.975094  0.951722  0.953387  0.921591\n",
              "depth  0.028224  1.000000 -0.295779 -0.025289 -0.029341  0.094924 -0.010647\n",
              "table  0.181618 -0.295779  1.000000  0.195344  0.183760  0.150929  0.127134\n",
              "x      0.975094 -0.025289  0.195344  1.000000  0.974701  0.970772  0.884435\n",
              "y      0.951722 -0.029341  0.183760  0.974701  1.000000  0.952006  0.865421\n",
              "z      0.953387  0.094924  0.150929  0.970772  0.952006  1.000000  0.861249\n",
              "price  0.921591 -0.010647  0.127134  0.884435  0.865421  0.861249  1.000000"
            ],
            "text/html": [
              "\n",
              "  <div id=\"df-b5134925-57ca-445f-b99a-75693f525861\" class=\"colab-df-container\">\n",
              "    <div>\n",
              "<style scoped>\n",
              "    .dataframe tbody tr th:only-of-type {\n",
              "        vertical-align: middle;\n",
              "    }\n",
              "\n",
              "    .dataframe tbody tr th {\n",
              "        vertical-align: top;\n",
              "    }\n",
              "\n",
              "    .dataframe thead th {\n",
              "        text-align: right;\n",
              "    }\n",
              "</style>\n",
              "<table border=\"1\" class=\"dataframe\">\n",
              "  <thead>\n",
              "    <tr style=\"text-align: right;\">\n",
              "      <th></th>\n",
              "      <th>carat</th>\n",
              "      <th>depth</th>\n",
              "      <th>table</th>\n",
              "      <th>x</th>\n",
              "      <th>y</th>\n",
              "      <th>z</th>\n",
              "      <th>price</th>\n",
              "    </tr>\n",
              "  </thead>\n",
              "  <tbody>\n",
              "    <tr>\n",
              "      <th>carat</th>\n",
              "      <td>1.000000</td>\n",
              "      <td>0.028224</td>\n",
              "      <td>0.181618</td>\n",
              "      <td>0.975094</td>\n",
              "      <td>0.951722</td>\n",
              "      <td>0.953387</td>\n",
              "      <td>0.921591</td>\n",
              "    </tr>\n",
              "    <tr>\n",
              "      <th>depth</th>\n",
              "      <td>0.028224</td>\n",
              "      <td>1.000000</td>\n",
              "      <td>-0.295779</td>\n",
              "      <td>-0.025289</td>\n",
              "      <td>-0.029341</td>\n",
              "      <td>0.094924</td>\n",
              "      <td>-0.010647</td>\n",
              "    </tr>\n",
              "    <tr>\n",
              "      <th>table</th>\n",
              "      <td>0.181618</td>\n",
              "      <td>-0.295779</td>\n",
              "      <td>1.000000</td>\n",
              "      <td>0.195344</td>\n",
              "      <td>0.183760</td>\n",
              "      <td>0.150929</td>\n",
              "      <td>0.127134</td>\n",
              "    </tr>\n",
              "    <tr>\n",
              "      <th>x</th>\n",
              "      <td>0.975094</td>\n",
              "      <td>-0.025289</td>\n",
              "      <td>0.195344</td>\n",
              "      <td>1.000000</td>\n",
              "      <td>0.974701</td>\n",
              "      <td>0.970772</td>\n",
              "      <td>0.884435</td>\n",
              "    </tr>\n",
              "    <tr>\n",
              "      <th>y</th>\n",
              "      <td>0.951722</td>\n",
              "      <td>-0.029341</td>\n",
              "      <td>0.183760</td>\n",
              "      <td>0.974701</td>\n",
              "      <td>1.000000</td>\n",
              "      <td>0.952006</td>\n",
              "      <td>0.865421</td>\n",
              "    </tr>\n",
              "    <tr>\n",
              "      <th>z</th>\n",
              "      <td>0.953387</td>\n",
              "      <td>0.094924</td>\n",
              "      <td>0.150929</td>\n",
              "      <td>0.970772</td>\n",
              "      <td>0.952006</td>\n",
              "      <td>1.000000</td>\n",
              "      <td>0.861249</td>\n",
              "    </tr>\n",
              "    <tr>\n",
              "      <th>price</th>\n",
              "      <td>0.921591</td>\n",
              "      <td>-0.010647</td>\n",
              "      <td>0.127134</td>\n",
              "      <td>0.884435</td>\n",
              "      <td>0.865421</td>\n",
              "      <td>0.861249</td>\n",
              "      <td>1.000000</td>\n",
              "    </tr>\n",
              "  </tbody>\n",
              "</table>\n",
              "</div>\n",
              "    <div class=\"colab-df-buttons\">\n",
              "\n",
              "  <div class=\"colab-df-container\">\n",
              "    <button class=\"colab-df-convert\" onclick=\"convertToInteractive('df-b5134925-57ca-445f-b99a-75693f525861')\"\n",
              "            title=\"Convert this dataframe to an interactive table.\"\n",
              "            style=\"display:none;\">\n",
              "\n",
              "  <svg xmlns=\"http://www.w3.org/2000/svg\" height=\"24px\" viewBox=\"0 -960 960 960\">\n",
              "    <path d=\"M120-120v-720h720v720H120Zm60-500h600v-160H180v160Zm220 220h160v-160H400v160Zm0 220h160v-160H400v160ZM180-400h160v-160H180v160Zm440 0h160v-160H620v160ZM180-180h160v-160H180v160Zm440 0h160v-160H620v160Z\"/>\n",
              "  </svg>\n",
              "    </button>\n",
              "\n",
              "  <style>\n",
              "    .colab-df-container {\n",
              "      display:flex;\n",
              "      gap: 12px;\n",
              "    }\n",
              "\n",
              "    .colab-df-convert {\n",
              "      background-color: #E8F0FE;\n",
              "      border: none;\n",
              "      border-radius: 50%;\n",
              "      cursor: pointer;\n",
              "      display: none;\n",
              "      fill: #1967D2;\n",
              "      height: 32px;\n",
              "      padding: 0 0 0 0;\n",
              "      width: 32px;\n",
              "    }\n",
              "\n",
              "    .colab-df-convert:hover {\n",
              "      background-color: #E2EBFA;\n",
              "      box-shadow: 0px 1px 2px rgba(60, 64, 67, 0.3), 0px 1px 3px 1px rgba(60, 64, 67, 0.15);\n",
              "      fill: #174EA6;\n",
              "    }\n",
              "\n",
              "    .colab-df-buttons div {\n",
              "      margin-bottom: 4px;\n",
              "    }\n",
              "\n",
              "    [theme=dark] .colab-df-convert {\n",
              "      background-color: #3B4455;\n",
              "      fill: #D2E3FC;\n",
              "    }\n",
              "\n",
              "    [theme=dark] .colab-df-convert:hover {\n",
              "      background-color: #434B5C;\n",
              "      box-shadow: 0px 1px 3px 1px rgba(0, 0, 0, 0.15);\n",
              "      filter: drop-shadow(0px 1px 2px rgba(0, 0, 0, 0.3));\n",
              "      fill: #FFFFFF;\n",
              "    }\n",
              "  </style>\n",
              "\n",
              "    <script>\n",
              "      const buttonEl =\n",
              "        document.querySelector('#df-b5134925-57ca-445f-b99a-75693f525861 button.colab-df-convert');\n",
              "      buttonEl.style.display =\n",
              "        google.colab.kernel.accessAllowed ? 'block' : 'none';\n",
              "\n",
              "      async function convertToInteractive(key) {\n",
              "        const element = document.querySelector('#df-b5134925-57ca-445f-b99a-75693f525861');\n",
              "        const dataTable =\n",
              "          await google.colab.kernel.invokeFunction('convertToInteractive',\n",
              "                                                    [key], {});\n",
              "        if (!dataTable) return;\n",
              "\n",
              "        const docLinkHtml = 'Like what you see? Visit the ' +\n",
              "          '<a target=\"_blank\" href=https://colab.research.google.com/notebooks/data_table.ipynb>data table notebook</a>'\n",
              "          + ' to learn more about interactive tables.';\n",
              "        element.innerHTML = '';\n",
              "        dataTable['output_type'] = 'display_data';\n",
              "        await google.colab.output.renderOutput(dataTable, element);\n",
              "        const docLink = document.createElement('div');\n",
              "        docLink.innerHTML = docLinkHtml;\n",
              "        element.appendChild(docLink);\n",
              "      }\n",
              "    </script>\n",
              "  </div>\n",
              "\n",
              "\n",
              "<div id=\"df-aff41640-7cac-482a-9aa8-5ba3bf2a85e4\">\n",
              "  <button class=\"colab-df-quickchart\" onclick=\"quickchart('df-aff41640-7cac-482a-9aa8-5ba3bf2a85e4')\"\n",
              "            title=\"Suggest charts\"\n",
              "            style=\"display:none;\">\n",
              "\n",
              "<svg xmlns=\"http://www.w3.org/2000/svg\" height=\"24px\"viewBox=\"0 0 24 24\"\n",
              "     width=\"24px\">\n",
              "    <g>\n",
              "        <path d=\"M19 3H5c-1.1 0-2 .9-2 2v14c0 1.1.9 2 2 2h14c1.1 0 2-.9 2-2V5c0-1.1-.9-2-2-2zM9 17H7v-7h2v7zm4 0h-2V7h2v10zm4 0h-2v-4h2v4z\"/>\n",
              "    </g>\n",
              "</svg>\n",
              "  </button>\n",
              "\n",
              "<style>\n",
              "  .colab-df-quickchart {\n",
              "      --bg-color: #E8F0FE;\n",
              "      --fill-color: #1967D2;\n",
              "      --hover-bg-color: #E2EBFA;\n",
              "      --hover-fill-color: #174EA6;\n",
              "      --disabled-fill-color: #AAA;\n",
              "      --disabled-bg-color: #DDD;\n",
              "  }\n",
              "\n",
              "  [theme=dark] .colab-df-quickchart {\n",
              "      --bg-color: #3B4455;\n",
              "      --fill-color: #D2E3FC;\n",
              "      --hover-bg-color: #434B5C;\n",
              "      --hover-fill-color: #FFFFFF;\n",
              "      --disabled-bg-color: #3B4455;\n",
              "      --disabled-fill-color: #666;\n",
              "  }\n",
              "\n",
              "  .colab-df-quickchart {\n",
              "    background-color: var(--bg-color);\n",
              "    border: none;\n",
              "    border-radius: 50%;\n",
              "    cursor: pointer;\n",
              "    display: none;\n",
              "    fill: var(--fill-color);\n",
              "    height: 32px;\n",
              "    padding: 0;\n",
              "    width: 32px;\n",
              "  }\n",
              "\n",
              "  .colab-df-quickchart:hover {\n",
              "    background-color: var(--hover-bg-color);\n",
              "    box-shadow: 0 1px 2px rgba(60, 64, 67, 0.3), 0 1px 3px 1px rgba(60, 64, 67, 0.15);\n",
              "    fill: var(--button-hover-fill-color);\n",
              "  }\n",
              "\n",
              "  .colab-df-quickchart-complete:disabled,\n",
              "  .colab-df-quickchart-complete:disabled:hover {\n",
              "    background-color: var(--disabled-bg-color);\n",
              "    fill: var(--disabled-fill-color);\n",
              "    box-shadow: none;\n",
              "  }\n",
              "\n",
              "  .colab-df-spinner {\n",
              "    border: 2px solid var(--fill-color);\n",
              "    border-color: transparent;\n",
              "    border-bottom-color: var(--fill-color);\n",
              "    animation:\n",
              "      spin 1s steps(1) infinite;\n",
              "  }\n",
              "\n",
              "  @keyframes spin {\n",
              "    0% {\n",
              "      border-color: transparent;\n",
              "      border-bottom-color: var(--fill-color);\n",
              "      border-left-color: var(--fill-color);\n",
              "    }\n",
              "    20% {\n",
              "      border-color: transparent;\n",
              "      border-left-color: var(--fill-color);\n",
              "      border-top-color: var(--fill-color);\n",
              "    }\n",
              "    30% {\n",
              "      border-color: transparent;\n",
              "      border-left-color: var(--fill-color);\n",
              "      border-top-color: var(--fill-color);\n",
              "      border-right-color: var(--fill-color);\n",
              "    }\n",
              "    40% {\n",
              "      border-color: transparent;\n",
              "      border-right-color: var(--fill-color);\n",
              "      border-top-color: var(--fill-color);\n",
              "    }\n",
              "    60% {\n",
              "      border-color: transparent;\n",
              "      border-right-color: var(--fill-color);\n",
              "    }\n",
              "    80% {\n",
              "      border-color: transparent;\n",
              "      border-right-color: var(--fill-color);\n",
              "      border-bottom-color: var(--fill-color);\n",
              "    }\n",
              "    90% {\n",
              "      border-color: transparent;\n",
              "      border-bottom-color: var(--fill-color);\n",
              "    }\n",
              "  }\n",
              "</style>\n",
              "\n",
              "  <script>\n",
              "    async function quickchart(key) {\n",
              "      const quickchartButtonEl =\n",
              "        document.querySelector('#' + key + ' button');\n",
              "      quickchartButtonEl.disabled = true;  // To prevent multiple clicks.\n",
              "      quickchartButtonEl.classList.add('colab-df-spinner');\n",
              "      try {\n",
              "        const charts = await google.colab.kernel.invokeFunction(\n",
              "            'suggestCharts', [key], {});\n",
              "      } catch (error) {\n",
              "        console.error('Error during call to suggestCharts:', error);\n",
              "      }\n",
              "      quickchartButtonEl.classList.remove('colab-df-spinner');\n",
              "      quickchartButtonEl.classList.add('colab-df-quickchart-complete');\n",
              "    }\n",
              "    (() => {\n",
              "      let quickchartButtonEl =\n",
              "        document.querySelector('#df-aff41640-7cac-482a-9aa8-5ba3bf2a85e4 button');\n",
              "      quickchartButtonEl.style.display =\n",
              "        google.colab.kernel.accessAllowed ? 'block' : 'none';\n",
              "    })();\n",
              "  </script>\n",
              "</div>\n",
              "    </div>\n",
              "  </div>\n"
            ],
            "application/vnd.google.colaboratory.intrinsic+json": {
              "type": "dataframe",
              "variable_name": "correlation_matrix",
              "summary": "{\n  \"name\": \"correlation_matrix\",\n  \"rows\": 7,\n  \"fields\": [\n    {\n      \"column\": \"carat\",\n      \"properties\": {\n        \"dtype\": \"number\",\n        \"std\": 0.42043059408195754,\n        \"min\": 0.028224314279026518,\n        \"max\": 1.0,\n        \"num_unique_values\": 7,\n        \"samples\": [\n          1.0,\n          0.028224314279026518,\n          0.9533873805614275\n        ],\n        \"semantic_type\": \"\",\n        \"description\": \"\"\n      }\n    },\n    {\n      \"column\": \"depth\",\n      \"properties\": {\n        \"dtype\": \"number\",\n        \"std\": 0.4114884823700745,\n        \"min\": -0.2957785215265925,\n        \"max\": 1.0,\n        \"num_unique_values\": 7,\n        \"samples\": [\n          0.028224314279026518,\n          1.0,\n          0.09492388239528399\n        ],\n        \"semantic_type\": \"\",\n        \"description\": \"\"\n      }\n    },\n    {\n      \"column\": \"table\",\n      \"properties\": {\n        \"dtype\": \"number\",\n        \"std\": 0.3854035967450122,\n        \"min\": -0.2957785215265925,\n        \"max\": 1.0,\n        \"num_unique_values\": 7,\n        \"samples\": [\n          0.18161754651523193,\n          -0.2957785215265925,\n          0.15092869156479616\n        ],\n        \"semantic_type\": \"\",\n        \"description\": \"\"\n      }\n    },\n    {\n      \"column\": \"x\",\n      \"properties\": {\n        \"dtype\": \"number\",\n        \"std\": 0.4336643306849981,\n        \"min\": -0.025289246978973112,\n        \"max\": 1.0,\n        \"num_unique_values\": 7,\n        \"samples\": [\n          0.9750942267264254,\n          -0.025289246978973112,\n          0.9707717985774582\n        ],\n        \"semantic_type\": \"\",\n        \"description\": \"\"\n      }\n    },\n    {\n      \"column\": \"y\",\n      \"properties\": {\n        \"dtype\": \"number\",\n        \"std\": 0.4316898761092159,\n        \"min\": -0.029340670703632984,\n        \"max\": 1.0,\n        \"num_unique_values\": 7,\n        \"samples\": [\n          0.9517221990129883,\n          -0.029340670703632984,\n          0.9520057161562947\n        ],\n        \"semantic_type\": \"\",\n        \"description\": \"\"\n      }\n    },\n    {\n      \"column\": \"z\",\n      \"properties\": {\n        \"dtype\": \"number\",\n        \"std\": 0.4048943736343492,\n        \"min\": 0.09492388239528399,\n        \"max\": 1.0,\n        \"num_unique_values\": 7,\n        \"samples\": [\n          0.9533873805614275,\n          0.09492388239528399,\n          1.0\n        ],\n        \"semantic_type\": \"\",\n        \"description\": \"\"\n      }\n    },\n    {\n      \"column\": \"price\",\n      \"properties\": {\n        \"dtype\": \"number\",\n        \"std\": 0.4184679970625282,\n        \"min\": -0.010647404584155393,\n        \"max\": 1.0,\n        \"num_unique_values\": 7,\n        \"samples\": [\n          0.9215913011934687,\n          -0.010647404584155393,\n          0.8612494438514453\n        ],\n        \"semantic_type\": \"\",\n        \"description\": \"\"\n      }\n    }\n  ]\n}"
            }
          },
          "metadata": {},
          "execution_count": 189
        }
      ],
      "source": [
        "correlation_matrix"
      ]
    },
    {
      "cell_type": "markdown",
      "metadata": {
        "id": "SV9woByQjJiW"
      },
      "source": [
        "Мысли следующие: `price` \"приблизительно независим\" с `depth` и `table`, поэтому я бы не стал использовать эти признаки для обучения линейной регрессии. Еще видно, что `x,y,z` \"приблизительно линейно зависимы\" с `carat`. Поэтому из всех признаков я бы оставил только `carat`."
      ]
    },
    {
      "cell_type": "markdown",
      "metadata": {
        "id": "49JVZnTUgFQ2"
      },
      "source": [
        "**Задача 3.3 (0.1 балла)** Так как линейная модель складывает значения признаков с некоторыми весами, нам нужно аккуратно обработать категориальные признаки. Закодируйте категориальные переменные при помощи OneHot-кодирования."
      ]
    },
    {
      "cell_type": "code",
      "execution_count": 190,
      "metadata": {
        "id": "ezwcs7L31J3U"
      },
      "outputs": [],
      "source": [
        "cat_features = data[['cut',\t'color',\t'clarity']]"
      ]
    },
    {
      "cell_type": "code",
      "execution_count": 191,
      "metadata": {
        "id": "uujOkneZgFQ2"
      },
      "outputs": [],
      "source": [
        "encoded_features = encoder.fit_transform(cat_features).toarray()"
      ]
    },
    {
      "cell_type": "code",
      "execution_count": 192,
      "metadata": {
        "id": "9oqPsDLX5T-U"
      },
      "outputs": [],
      "source": [
        "encoded_df_features = pd.DataFrame(encoded_features)"
      ]
    },
    {
      "cell_type": "code",
      "execution_count": 193,
      "metadata": {
        "colab": {
          "base_uri": "https://localhost:8080/",
          "height": 423
        },
        "id": "9EIlWF3z7D9p",
        "outputId": "d674b2cf-6faf-4bc7-c0ab-e9572c85b04d"
      },
      "outputs": [
        {
          "output_type": "execute_result",
          "data": {
            "text/plain": [
              "        0    1    2    3    4    5    6    7    8    9    10   11   12   13  \\\n",
              "0      0.0  0.0  1.0  0.0  0.0  0.0  1.0  0.0  0.0  0.0  0.0  0.0  0.0  0.0   \n",
              "1      0.0  0.0  0.0  1.0  0.0  0.0  1.0  0.0  0.0  0.0  0.0  0.0  0.0  0.0   \n",
              "2      0.0  1.0  0.0  0.0  0.0  0.0  1.0  0.0  0.0  0.0  0.0  0.0  0.0  0.0   \n",
              "3      0.0  0.0  0.0  1.0  0.0  0.0  0.0  0.0  0.0  0.0  1.0  0.0  0.0  0.0   \n",
              "4      0.0  1.0  0.0  0.0  0.0  0.0  0.0  0.0  0.0  0.0  0.0  1.0  0.0  0.0   \n",
              "...    ...  ...  ...  ...  ...  ...  ...  ...  ...  ...  ...  ...  ...  ...   \n",
              "53935  0.0  0.0  1.0  0.0  0.0  1.0  0.0  0.0  0.0  0.0  0.0  0.0  0.0  0.0   \n",
              "53936  0.0  1.0  0.0  0.0  0.0  1.0  0.0  0.0  0.0  0.0  0.0  0.0  0.0  0.0   \n",
              "53937  0.0  0.0  0.0  0.0  1.0  1.0  0.0  0.0  0.0  0.0  0.0  0.0  0.0  0.0   \n",
              "53938  0.0  0.0  0.0  1.0  0.0  0.0  0.0  0.0  0.0  1.0  0.0  0.0  0.0  0.0   \n",
              "53939  0.0  0.0  1.0  0.0  0.0  1.0  0.0  0.0  0.0  0.0  0.0  0.0  0.0  0.0   \n",
              "\n",
              "        14   15   16   17   18   19  \n",
              "0      0.0  1.0  0.0  0.0  0.0  0.0  \n",
              "1      1.0  0.0  0.0  0.0  0.0  0.0  \n",
              "2      0.0  0.0  1.0  0.0  0.0  0.0  \n",
              "3      0.0  0.0  0.0  1.0  0.0  0.0  \n",
              "4      0.0  1.0  0.0  0.0  0.0  0.0  \n",
              "...    ...  ...  ...  ...  ...  ...  \n",
              "53935  1.0  0.0  0.0  0.0  0.0  0.0  \n",
              "53936  1.0  0.0  0.0  0.0  0.0  0.0  \n",
              "53937  1.0  0.0  0.0  0.0  0.0  0.0  \n",
              "53938  0.0  1.0  0.0  0.0  0.0  0.0  \n",
              "53939  0.0  1.0  0.0  0.0  0.0  0.0  \n",
              "\n",
              "[53940 rows x 20 columns]"
            ],
            "text/html": [
              "\n",
              "  <div id=\"df-a1b1df25-e8cd-4c8d-adb8-7fd66d939c66\" class=\"colab-df-container\">\n",
              "    <div>\n",
              "<style scoped>\n",
              "    .dataframe tbody tr th:only-of-type {\n",
              "        vertical-align: middle;\n",
              "    }\n",
              "\n",
              "    .dataframe tbody tr th {\n",
              "        vertical-align: top;\n",
              "    }\n",
              "\n",
              "    .dataframe thead th {\n",
              "        text-align: right;\n",
              "    }\n",
              "</style>\n",
              "<table border=\"1\" class=\"dataframe\">\n",
              "  <thead>\n",
              "    <tr style=\"text-align: right;\">\n",
              "      <th></th>\n",
              "      <th>0</th>\n",
              "      <th>1</th>\n",
              "      <th>2</th>\n",
              "      <th>3</th>\n",
              "      <th>4</th>\n",
              "      <th>5</th>\n",
              "      <th>6</th>\n",
              "      <th>7</th>\n",
              "      <th>8</th>\n",
              "      <th>9</th>\n",
              "      <th>10</th>\n",
              "      <th>11</th>\n",
              "      <th>12</th>\n",
              "      <th>13</th>\n",
              "      <th>14</th>\n",
              "      <th>15</th>\n",
              "      <th>16</th>\n",
              "      <th>17</th>\n",
              "      <th>18</th>\n",
              "      <th>19</th>\n",
              "    </tr>\n",
              "  </thead>\n",
              "  <tbody>\n",
              "    <tr>\n",
              "      <th>0</th>\n",
              "      <td>0.0</td>\n",
              "      <td>0.0</td>\n",
              "      <td>1.0</td>\n",
              "      <td>0.0</td>\n",
              "      <td>0.0</td>\n",
              "      <td>0.0</td>\n",
              "      <td>1.0</td>\n",
              "      <td>0.0</td>\n",
              "      <td>0.0</td>\n",
              "      <td>0.0</td>\n",
              "      <td>0.0</td>\n",
              "      <td>0.0</td>\n",
              "      <td>0.0</td>\n",
              "      <td>0.0</td>\n",
              "      <td>0.0</td>\n",
              "      <td>1.0</td>\n",
              "      <td>0.0</td>\n",
              "      <td>0.0</td>\n",
              "      <td>0.0</td>\n",
              "      <td>0.0</td>\n",
              "    </tr>\n",
              "    <tr>\n",
              "      <th>1</th>\n",
              "      <td>0.0</td>\n",
              "      <td>0.0</td>\n",
              "      <td>0.0</td>\n",
              "      <td>1.0</td>\n",
              "      <td>0.0</td>\n",
              "      <td>0.0</td>\n",
              "      <td>1.0</td>\n",
              "      <td>0.0</td>\n",
              "      <td>0.0</td>\n",
              "      <td>0.0</td>\n",
              "      <td>0.0</td>\n",
              "      <td>0.0</td>\n",
              "      <td>0.0</td>\n",
              "      <td>0.0</td>\n",
              "      <td>1.0</td>\n",
              "      <td>0.0</td>\n",
              "      <td>0.0</td>\n",
              "      <td>0.0</td>\n",
              "      <td>0.0</td>\n",
              "      <td>0.0</td>\n",
              "    </tr>\n",
              "    <tr>\n",
              "      <th>2</th>\n",
              "      <td>0.0</td>\n",
              "      <td>1.0</td>\n",
              "      <td>0.0</td>\n",
              "      <td>0.0</td>\n",
              "      <td>0.0</td>\n",
              "      <td>0.0</td>\n",
              "      <td>1.0</td>\n",
              "      <td>0.0</td>\n",
              "      <td>0.0</td>\n",
              "      <td>0.0</td>\n",
              "      <td>0.0</td>\n",
              "      <td>0.0</td>\n",
              "      <td>0.0</td>\n",
              "      <td>0.0</td>\n",
              "      <td>0.0</td>\n",
              "      <td>0.0</td>\n",
              "      <td>1.0</td>\n",
              "      <td>0.0</td>\n",
              "      <td>0.0</td>\n",
              "      <td>0.0</td>\n",
              "    </tr>\n",
              "    <tr>\n",
              "      <th>3</th>\n",
              "      <td>0.0</td>\n",
              "      <td>0.0</td>\n",
              "      <td>0.0</td>\n",
              "      <td>1.0</td>\n",
              "      <td>0.0</td>\n",
              "      <td>0.0</td>\n",
              "      <td>0.0</td>\n",
              "      <td>0.0</td>\n",
              "      <td>0.0</td>\n",
              "      <td>0.0</td>\n",
              "      <td>1.0</td>\n",
              "      <td>0.0</td>\n",
              "      <td>0.0</td>\n",
              "      <td>0.0</td>\n",
              "      <td>0.0</td>\n",
              "      <td>0.0</td>\n",
              "      <td>0.0</td>\n",
              "      <td>1.0</td>\n",
              "      <td>0.0</td>\n",
              "      <td>0.0</td>\n",
              "    </tr>\n",
              "    <tr>\n",
              "      <th>4</th>\n",
              "      <td>0.0</td>\n",
              "      <td>1.0</td>\n",
              "      <td>0.0</td>\n",
              "      <td>0.0</td>\n",
              "      <td>0.0</td>\n",
              "      <td>0.0</td>\n",
              "      <td>0.0</td>\n",
              "      <td>0.0</td>\n",
              "      <td>0.0</td>\n",
              "      <td>0.0</td>\n",
              "      <td>0.0</td>\n",
              "      <td>1.0</td>\n",
              "      <td>0.0</td>\n",
              "      <td>0.0</td>\n",
              "      <td>0.0</td>\n",
              "      <td>1.0</td>\n",
              "      <td>0.0</td>\n",
              "      <td>0.0</td>\n",
              "      <td>0.0</td>\n",
              "      <td>0.0</td>\n",
              "    </tr>\n",
              "    <tr>\n",
              "      <th>...</th>\n",
              "      <td>...</td>\n",
              "      <td>...</td>\n",
              "      <td>...</td>\n",
              "      <td>...</td>\n",
              "      <td>...</td>\n",
              "      <td>...</td>\n",
              "      <td>...</td>\n",
              "      <td>...</td>\n",
              "      <td>...</td>\n",
              "      <td>...</td>\n",
              "      <td>...</td>\n",
              "      <td>...</td>\n",
              "      <td>...</td>\n",
              "      <td>...</td>\n",
              "      <td>...</td>\n",
              "      <td>...</td>\n",
              "      <td>...</td>\n",
              "      <td>...</td>\n",
              "      <td>...</td>\n",
              "      <td>...</td>\n",
              "    </tr>\n",
              "    <tr>\n",
              "      <th>53935</th>\n",
              "      <td>0.0</td>\n",
              "      <td>0.0</td>\n",
              "      <td>1.0</td>\n",
              "      <td>0.0</td>\n",
              "      <td>0.0</td>\n",
              "      <td>1.0</td>\n",
              "      <td>0.0</td>\n",
              "      <td>0.0</td>\n",
              "      <td>0.0</td>\n",
              "      <td>0.0</td>\n",
              "      <td>0.0</td>\n",
              "      <td>0.0</td>\n",
              "      <td>0.0</td>\n",
              "      <td>0.0</td>\n",
              "      <td>1.0</td>\n",
              "      <td>0.0</td>\n",
              "      <td>0.0</td>\n",
              "      <td>0.0</td>\n",
              "      <td>0.0</td>\n",
              "      <td>0.0</td>\n",
              "    </tr>\n",
              "    <tr>\n",
              "      <th>53936</th>\n",
              "      <td>0.0</td>\n",
              "      <td>1.0</td>\n",
              "      <td>0.0</td>\n",
              "      <td>0.0</td>\n",
              "      <td>0.0</td>\n",
              "      <td>1.0</td>\n",
              "      <td>0.0</td>\n",
              "      <td>0.0</td>\n",
              "      <td>0.0</td>\n",
              "      <td>0.0</td>\n",
              "      <td>0.0</td>\n",
              "      <td>0.0</td>\n",
              "      <td>0.0</td>\n",
              "      <td>0.0</td>\n",
              "      <td>1.0</td>\n",
              "      <td>0.0</td>\n",
              "      <td>0.0</td>\n",
              "      <td>0.0</td>\n",
              "      <td>0.0</td>\n",
              "      <td>0.0</td>\n",
              "    </tr>\n",
              "    <tr>\n",
              "      <th>53937</th>\n",
              "      <td>0.0</td>\n",
              "      <td>0.0</td>\n",
              "      <td>0.0</td>\n",
              "      <td>0.0</td>\n",
              "      <td>1.0</td>\n",
              "      <td>1.0</td>\n",
              "      <td>0.0</td>\n",
              "      <td>0.0</td>\n",
              "      <td>0.0</td>\n",
              "      <td>0.0</td>\n",
              "      <td>0.0</td>\n",
              "      <td>0.0</td>\n",
              "      <td>0.0</td>\n",
              "      <td>0.0</td>\n",
              "      <td>1.0</td>\n",
              "      <td>0.0</td>\n",
              "      <td>0.0</td>\n",
              "      <td>0.0</td>\n",
              "      <td>0.0</td>\n",
              "      <td>0.0</td>\n",
              "    </tr>\n",
              "    <tr>\n",
              "      <th>53938</th>\n",
              "      <td>0.0</td>\n",
              "      <td>0.0</td>\n",
              "      <td>0.0</td>\n",
              "      <td>1.0</td>\n",
              "      <td>0.0</td>\n",
              "      <td>0.0</td>\n",
              "      <td>0.0</td>\n",
              "      <td>0.0</td>\n",
              "      <td>0.0</td>\n",
              "      <td>1.0</td>\n",
              "      <td>0.0</td>\n",
              "      <td>0.0</td>\n",
              "      <td>0.0</td>\n",
              "      <td>0.0</td>\n",
              "      <td>0.0</td>\n",
              "      <td>1.0</td>\n",
              "      <td>0.0</td>\n",
              "      <td>0.0</td>\n",
              "      <td>0.0</td>\n",
              "      <td>0.0</td>\n",
              "    </tr>\n",
              "    <tr>\n",
              "      <th>53939</th>\n",
              "      <td>0.0</td>\n",
              "      <td>0.0</td>\n",
              "      <td>1.0</td>\n",
              "      <td>0.0</td>\n",
              "      <td>0.0</td>\n",
              "      <td>1.0</td>\n",
              "      <td>0.0</td>\n",
              "      <td>0.0</td>\n",
              "      <td>0.0</td>\n",
              "      <td>0.0</td>\n",
              "      <td>0.0</td>\n",
              "      <td>0.0</td>\n",
              "      <td>0.0</td>\n",
              "      <td>0.0</td>\n",
              "      <td>0.0</td>\n",
              "      <td>1.0</td>\n",
              "      <td>0.0</td>\n",
              "      <td>0.0</td>\n",
              "      <td>0.0</td>\n",
              "      <td>0.0</td>\n",
              "    </tr>\n",
              "  </tbody>\n",
              "</table>\n",
              "<p>53940 rows × 20 columns</p>\n",
              "</div>\n",
              "    <div class=\"colab-df-buttons\">\n",
              "\n",
              "  <div class=\"colab-df-container\">\n",
              "    <button class=\"colab-df-convert\" onclick=\"convertToInteractive('df-a1b1df25-e8cd-4c8d-adb8-7fd66d939c66')\"\n",
              "            title=\"Convert this dataframe to an interactive table.\"\n",
              "            style=\"display:none;\">\n",
              "\n",
              "  <svg xmlns=\"http://www.w3.org/2000/svg\" height=\"24px\" viewBox=\"0 -960 960 960\">\n",
              "    <path d=\"M120-120v-720h720v720H120Zm60-500h600v-160H180v160Zm220 220h160v-160H400v160Zm0 220h160v-160H400v160ZM180-400h160v-160H180v160Zm440 0h160v-160H620v160ZM180-180h160v-160H180v160Zm440 0h160v-160H620v160Z\"/>\n",
              "  </svg>\n",
              "    </button>\n",
              "\n",
              "  <style>\n",
              "    .colab-df-container {\n",
              "      display:flex;\n",
              "      gap: 12px;\n",
              "    }\n",
              "\n",
              "    .colab-df-convert {\n",
              "      background-color: #E8F0FE;\n",
              "      border: none;\n",
              "      border-radius: 50%;\n",
              "      cursor: pointer;\n",
              "      display: none;\n",
              "      fill: #1967D2;\n",
              "      height: 32px;\n",
              "      padding: 0 0 0 0;\n",
              "      width: 32px;\n",
              "    }\n",
              "\n",
              "    .colab-df-convert:hover {\n",
              "      background-color: #E2EBFA;\n",
              "      box-shadow: 0px 1px 2px rgba(60, 64, 67, 0.3), 0px 1px 3px 1px rgba(60, 64, 67, 0.15);\n",
              "      fill: #174EA6;\n",
              "    }\n",
              "\n",
              "    .colab-df-buttons div {\n",
              "      margin-bottom: 4px;\n",
              "    }\n",
              "\n",
              "    [theme=dark] .colab-df-convert {\n",
              "      background-color: #3B4455;\n",
              "      fill: #D2E3FC;\n",
              "    }\n",
              "\n",
              "    [theme=dark] .colab-df-convert:hover {\n",
              "      background-color: #434B5C;\n",
              "      box-shadow: 0px 1px 3px 1px rgba(0, 0, 0, 0.15);\n",
              "      filter: drop-shadow(0px 1px 2px rgba(0, 0, 0, 0.3));\n",
              "      fill: #FFFFFF;\n",
              "    }\n",
              "  </style>\n",
              "\n",
              "    <script>\n",
              "      const buttonEl =\n",
              "        document.querySelector('#df-a1b1df25-e8cd-4c8d-adb8-7fd66d939c66 button.colab-df-convert');\n",
              "      buttonEl.style.display =\n",
              "        google.colab.kernel.accessAllowed ? 'block' : 'none';\n",
              "\n",
              "      async function convertToInteractive(key) {\n",
              "        const element = document.querySelector('#df-a1b1df25-e8cd-4c8d-adb8-7fd66d939c66');\n",
              "        const dataTable =\n",
              "          await google.colab.kernel.invokeFunction('convertToInteractive',\n",
              "                                                    [key], {});\n",
              "        if (!dataTable) return;\n",
              "\n",
              "        const docLinkHtml = 'Like what you see? Visit the ' +\n",
              "          '<a target=\"_blank\" href=https://colab.research.google.com/notebooks/data_table.ipynb>data table notebook</a>'\n",
              "          + ' to learn more about interactive tables.';\n",
              "        element.innerHTML = '';\n",
              "        dataTable['output_type'] = 'display_data';\n",
              "        await google.colab.output.renderOutput(dataTable, element);\n",
              "        const docLink = document.createElement('div');\n",
              "        docLink.innerHTML = docLinkHtml;\n",
              "        element.appendChild(docLink);\n",
              "      }\n",
              "    </script>\n",
              "  </div>\n",
              "\n",
              "\n",
              "<div id=\"df-a5bc2934-fa98-4418-9368-f7eeb7c9826a\">\n",
              "  <button class=\"colab-df-quickchart\" onclick=\"quickchart('df-a5bc2934-fa98-4418-9368-f7eeb7c9826a')\"\n",
              "            title=\"Suggest charts\"\n",
              "            style=\"display:none;\">\n",
              "\n",
              "<svg xmlns=\"http://www.w3.org/2000/svg\" height=\"24px\"viewBox=\"0 0 24 24\"\n",
              "     width=\"24px\">\n",
              "    <g>\n",
              "        <path d=\"M19 3H5c-1.1 0-2 .9-2 2v14c0 1.1.9 2 2 2h14c1.1 0 2-.9 2-2V5c0-1.1-.9-2-2-2zM9 17H7v-7h2v7zm4 0h-2V7h2v10zm4 0h-2v-4h2v4z\"/>\n",
              "    </g>\n",
              "</svg>\n",
              "  </button>\n",
              "\n",
              "<style>\n",
              "  .colab-df-quickchart {\n",
              "      --bg-color: #E8F0FE;\n",
              "      --fill-color: #1967D2;\n",
              "      --hover-bg-color: #E2EBFA;\n",
              "      --hover-fill-color: #174EA6;\n",
              "      --disabled-fill-color: #AAA;\n",
              "      --disabled-bg-color: #DDD;\n",
              "  }\n",
              "\n",
              "  [theme=dark] .colab-df-quickchart {\n",
              "      --bg-color: #3B4455;\n",
              "      --fill-color: #D2E3FC;\n",
              "      --hover-bg-color: #434B5C;\n",
              "      --hover-fill-color: #FFFFFF;\n",
              "      --disabled-bg-color: #3B4455;\n",
              "      --disabled-fill-color: #666;\n",
              "  }\n",
              "\n",
              "  .colab-df-quickchart {\n",
              "    background-color: var(--bg-color);\n",
              "    border: none;\n",
              "    border-radius: 50%;\n",
              "    cursor: pointer;\n",
              "    display: none;\n",
              "    fill: var(--fill-color);\n",
              "    height: 32px;\n",
              "    padding: 0;\n",
              "    width: 32px;\n",
              "  }\n",
              "\n",
              "  .colab-df-quickchart:hover {\n",
              "    background-color: var(--hover-bg-color);\n",
              "    box-shadow: 0 1px 2px rgba(60, 64, 67, 0.3), 0 1px 3px 1px rgba(60, 64, 67, 0.15);\n",
              "    fill: var(--button-hover-fill-color);\n",
              "  }\n",
              "\n",
              "  .colab-df-quickchart-complete:disabled,\n",
              "  .colab-df-quickchart-complete:disabled:hover {\n",
              "    background-color: var(--disabled-bg-color);\n",
              "    fill: var(--disabled-fill-color);\n",
              "    box-shadow: none;\n",
              "  }\n",
              "\n",
              "  .colab-df-spinner {\n",
              "    border: 2px solid var(--fill-color);\n",
              "    border-color: transparent;\n",
              "    border-bottom-color: var(--fill-color);\n",
              "    animation:\n",
              "      spin 1s steps(1) infinite;\n",
              "  }\n",
              "\n",
              "  @keyframes spin {\n",
              "    0% {\n",
              "      border-color: transparent;\n",
              "      border-bottom-color: var(--fill-color);\n",
              "      border-left-color: var(--fill-color);\n",
              "    }\n",
              "    20% {\n",
              "      border-color: transparent;\n",
              "      border-left-color: var(--fill-color);\n",
              "      border-top-color: var(--fill-color);\n",
              "    }\n",
              "    30% {\n",
              "      border-color: transparent;\n",
              "      border-left-color: var(--fill-color);\n",
              "      border-top-color: var(--fill-color);\n",
              "      border-right-color: var(--fill-color);\n",
              "    }\n",
              "    40% {\n",
              "      border-color: transparent;\n",
              "      border-right-color: var(--fill-color);\n",
              "      border-top-color: var(--fill-color);\n",
              "    }\n",
              "    60% {\n",
              "      border-color: transparent;\n",
              "      border-right-color: var(--fill-color);\n",
              "    }\n",
              "    80% {\n",
              "      border-color: transparent;\n",
              "      border-right-color: var(--fill-color);\n",
              "      border-bottom-color: var(--fill-color);\n",
              "    }\n",
              "    90% {\n",
              "      border-color: transparent;\n",
              "      border-bottom-color: var(--fill-color);\n",
              "    }\n",
              "  }\n",
              "</style>\n",
              "\n",
              "  <script>\n",
              "    async function quickchart(key) {\n",
              "      const quickchartButtonEl =\n",
              "        document.querySelector('#' + key + ' button');\n",
              "      quickchartButtonEl.disabled = true;  // To prevent multiple clicks.\n",
              "      quickchartButtonEl.classList.add('colab-df-spinner');\n",
              "      try {\n",
              "        const charts = await google.colab.kernel.invokeFunction(\n",
              "            'suggestCharts', [key], {});\n",
              "      } catch (error) {\n",
              "        console.error('Error during call to suggestCharts:', error);\n",
              "      }\n",
              "      quickchartButtonEl.classList.remove('colab-df-spinner');\n",
              "      quickchartButtonEl.classList.add('colab-df-quickchart-complete');\n",
              "    }\n",
              "    (() => {\n",
              "      let quickchartButtonEl =\n",
              "        document.querySelector('#df-a5bc2934-fa98-4418-9368-f7eeb7c9826a button');\n",
              "      quickchartButtonEl.style.display =\n",
              "        google.colab.kernel.accessAllowed ? 'block' : 'none';\n",
              "    })();\n",
              "  </script>\n",
              "</div>\n",
              "    </div>\n",
              "  </div>\n"
            ],
            "application/vnd.google.colaboratory.intrinsic+json": {
              "type": "dataframe",
              "variable_name": "encoded_df_features",
              "summary": "{\n  \"name\": \"encoded_df_features\",\n  \"rows\": 53940,\n  \"fields\": [\n    {\n      \"column\": 0,\n      \"properties\": {\n        \"dtype\": \"number\",\n        \"std\": 0.17016936921878179,\n        \"min\": 0.0,\n        \"max\": 1.0,\n        \"num_unique_values\": 2,\n        \"samples\": [\n          1.0,\n          0.0\n        ],\n        \"semantic_type\": \"\",\n        \"description\": \"\"\n      }\n    },\n    {\n      \"column\": 1,\n      \"properties\": {\n        \"dtype\": \"number\",\n        \"std\": 0.28754479918585113,\n        \"min\": 0.0,\n        \"max\": 1.0,\n        \"num_unique_values\": 2,\n        \"samples\": [\n          1.0,\n          0.0\n        ],\n        \"semantic_type\": \"\",\n        \"description\": \"\"\n      }\n    },\n    {\n      \"column\": 2,\n      \"properties\": {\n        \"dtype\": \"number\",\n        \"std\": 0.4898076534198911,\n        \"min\": 0.0,\n        \"max\": 1.0,\n        \"num_unique_values\": 2,\n        \"samples\": [\n          0.0,\n          1.0\n        ],\n        \"semantic_type\": \"\",\n        \"description\": \"\"\n      }\n    },\n    {\n      \"column\": 3,\n      \"properties\": {\n        \"dtype\": \"number\",\n        \"std\": 0.4362428572874416,\n        \"min\": 0.0,\n        \"max\": 1.0,\n        \"num_unique_values\": 2,\n        \"samples\": [\n          1.0,\n          0.0\n        ],\n        \"semantic_type\": \"\",\n        \"description\": \"\"\n      }\n    },\n    {\n      \"column\": 4,\n      \"properties\": {\n        \"dtype\": \"number\",\n        \"std\": 0.4169190467911795,\n        \"min\": 0.0,\n        \"max\": 1.0,\n        \"num_unique_values\": 2,\n        \"samples\": [\n          1.0,\n          0.0\n        ],\n        \"semantic_type\": \"\",\n        \"description\": \"\"\n      }\n    },\n    {\n      \"column\": 5,\n      \"properties\": {\n        \"dtype\": \"number\",\n        \"std\": 0.3314039288884584,\n        \"min\": 0.0,\n        \"max\": 1.0,\n        \"num_unique_values\": 2,\n        \"samples\": [\n          1.0,\n          0.0\n        ],\n        \"semantic_type\": \"\",\n        \"description\": \"\"\n      }\n    },\n    {\n      \"column\": 6,\n      \"properties\": {\n        \"dtype\": \"number\",\n        \"std\": 0.38554099167516914,\n        \"min\": 0.0,\n        \"max\": 1.0,\n        \"num_unique_values\": 2,\n        \"samples\": [\n          0.0,\n          1.0\n        ],\n        \"semantic_type\": \"\",\n        \"description\": \"\"\n      }\n    },\n    {\n      \"column\": 7,\n      \"properties\": {\n        \"dtype\": \"number\",\n        \"std\": 0.38158781058460817,\n        \"min\": 0.0,\n        \"max\": 1.0,\n        \"num_unique_values\": 2,\n        \"samples\": [\n          1.0,\n          0.0\n        ],\n        \"semantic_type\": \"\",\n        \"description\": \"\"\n      }\n    },\n    {\n      \"column\": 8,\n      \"properties\": {\n        \"dtype\": \"number\",\n        \"std\": 0.40684394153127224,\n        \"min\": 0.0,\n        \"max\": 1.0,\n        \"num_unique_values\": 2,\n        \"samples\": [\n          1.0,\n          0.0\n        ],\n        \"semantic_type\": \"\",\n        \"description\": \"\"\n      }\n    },\n    {\n      \"column\": 9,\n      \"properties\": {\n        \"dtype\": \"number\",\n        \"std\": 0.36090303945677954,\n        \"min\": 0.0,\n        \"max\": 1.0,\n        \"num_unique_values\": 2,\n        \"samples\": [\n          1.0,\n          0.0\n        ],\n        \"semantic_type\": \"\",\n        \"description\": \"\"\n      }\n    },\n    {\n      \"column\": 10,\n      \"properties\": {\n        \"dtype\": \"number\",\n        \"std\": 0.30069366973457223,\n        \"min\": 0.0,\n        \"max\": 1.0,\n        \"num_unique_values\": 2,\n        \"samples\": [\n          1.0,\n          0.0\n        ],\n        \"semantic_type\": \"\",\n        \"description\": \"\"\n      }\n    },\n    {\n      \"column\": 11,\n      \"properties\": {\n        \"dtype\": \"number\",\n        \"std\": 0.22214575847900364,\n        \"min\": 0.0,\n        \"max\": 1.0,\n        \"num_unique_values\": 2,\n        \"samples\": [\n          1.0,\n          0.0\n        ],\n        \"semantic_type\": \"\",\n        \"description\": \"\"\n      }\n    },\n    {\n      \"column\": 12,\n      \"properties\": {\n        \"dtype\": \"number\",\n        \"std\": 0.11640025239785622,\n        \"min\": 0.0,\n        \"max\": 1.0,\n        \"num_unique_values\": 2,\n        \"samples\": [\n          1.0,\n          0.0\n        ],\n        \"semantic_type\": \"\",\n        \"description\": \"\"\n      }\n    },\n    {\n      \"column\": 13,\n      \"properties\": {\n        \"dtype\": \"number\",\n        \"std\": 0.17912110325264088,\n        \"min\": 0.0,\n        \"max\": 1.0,\n        \"num_unique_values\": 2,\n        \"samples\": [\n          1.0,\n          0.0\n        ],\n        \"semantic_type\": \"\",\n        \"description\": \"\"\n      }\n    },\n    {\n      \"column\": 14,\n      \"properties\": {\n        \"dtype\": \"number\",\n        \"std\": 0.4284268428583914,\n        \"min\": 0.0,\n        \"max\": 1.0,\n        \"num_unique_values\": 2,\n        \"samples\": [\n          1.0,\n          0.0\n        ],\n        \"semantic_type\": \"\",\n        \"description\": \"\"\n      }\n    },\n    {\n      \"column\": 15,\n      \"properties\": {\n        \"dtype\": \"number\",\n        \"std\": 0.37602995479803925,\n        \"min\": 0.0,\n        \"max\": 1.0,\n        \"num_unique_values\": 2,\n        \"samples\": [\n          0.0,\n          1.0\n        ],\n        \"semantic_type\": \"\",\n        \"description\": \"\"\n      }\n    },\n    {\n      \"column\": 16,\n      \"properties\": {\n        \"dtype\": \"number\",\n        \"std\": 0.35852248729657665,\n        \"min\": 0.0,\n        \"max\": 1.0,\n        \"num_unique_values\": 2,\n        \"samples\": [\n          1.0,\n          0.0\n        ],\n        \"semantic_type\": \"\",\n        \"description\": \"\"\n      }\n    },\n    {\n      \"column\": 17,\n      \"properties\": {\n        \"dtype\": \"number\",\n        \"std\": 0.41906092451252497,\n        \"min\": 0.0,\n        \"max\": 1.0,\n        \"num_unique_values\": 2,\n        \"samples\": [\n          1.0,\n          0.0\n        ],\n        \"semantic_type\": \"\",\n        \"description\": \"\"\n      }\n    },\n    {\n      \"column\": 18,\n      \"properties\": {\n        \"dtype\": \"number\",\n        \"std\": 0.25133675378323084,\n        \"min\": 0.0,\n        \"max\": 1.0,\n        \"num_unique_values\": 2,\n        \"samples\": [\n          1.0,\n          0.0\n        ],\n        \"semantic_type\": \"\",\n        \"description\": \"\"\n      }\n    },\n    {\n      \"column\": 19,\n      \"properties\": {\n        \"dtype\": \"number\",\n        \"std\": 0.2917189344824042,\n        \"min\": 0.0,\n        \"max\": 1.0,\n        \"num_unique_values\": 2,\n        \"samples\": [\n          1.0,\n          0.0\n        ],\n        \"semantic_type\": \"\",\n        \"description\": \"\"\n      }\n    }\n  ]\n}"
            }
          },
          "metadata": {},
          "execution_count": 193
        }
      ],
      "source": [
        "encoded_df_features"
      ]
    },
    {
      "cell_type": "code",
      "execution_count": 194,
      "metadata": {
        "id": "UC3Unfyq6uYD"
      },
      "outputs": [],
      "source": [
        "df = pd.concat([X_real_features, encoded_df_features], axis= 1)"
      ]
    },
    {
      "cell_type": "code",
      "execution_count": 195,
      "metadata": {
        "colab": {
          "base_uri": "https://localhost:8080/",
          "height": 423
        },
        "id": "V0hRNQOb7Y4b",
        "outputId": "544a3dc0-a704-4428-b62a-df4caeb043e5"
      },
      "outputs": [
        {
          "output_type": "execute_result",
          "data": {
            "text/plain": [
              "       carat  depth  table     x     y     z    0    1    2    3  ...   10  \\\n",
              "0       0.23   61.5   55.0  3.95  3.98  2.43  0.0  0.0  1.0  0.0  ...  0.0   \n",
              "1       0.21   59.8   61.0  3.89  3.84  2.31  0.0  0.0  0.0  1.0  ...  0.0   \n",
              "2       0.23   56.9   65.0  4.05  4.07  2.31  0.0  1.0  0.0  0.0  ...  0.0   \n",
              "3       0.29   62.4   58.0  4.20  4.23  2.63  0.0  0.0  0.0  1.0  ...  1.0   \n",
              "4       0.31   63.3   58.0  4.34  4.35  2.75  0.0  1.0  0.0  0.0  ...  0.0   \n",
              "...      ...    ...    ...   ...   ...   ...  ...  ...  ...  ...  ...  ...   \n",
              "53935   0.72   60.8   57.0  5.75  5.76  3.50  0.0  0.0  1.0  0.0  ...  0.0   \n",
              "53936   0.72   63.1   55.0  5.69  5.75  3.61  0.0  1.0  0.0  0.0  ...  0.0   \n",
              "53937   0.70   62.8   60.0  5.66  5.68  3.56  0.0  0.0  0.0  0.0  ...  0.0   \n",
              "53938   0.86   61.0   58.0  6.15  6.12  3.74  0.0  0.0  0.0  1.0  ...  0.0   \n",
              "53939   0.75   62.2   55.0  5.83  5.87  3.64  0.0  0.0  1.0  0.0  ...  0.0   \n",
              "\n",
              "        11   12   13   14   15   16   17   18   19  \n",
              "0      0.0  0.0  0.0  0.0  1.0  0.0  0.0  0.0  0.0  \n",
              "1      0.0  0.0  0.0  1.0  0.0  0.0  0.0  0.0  0.0  \n",
              "2      0.0  0.0  0.0  0.0  0.0  1.0  0.0  0.0  0.0  \n",
              "3      0.0  0.0  0.0  0.0  0.0  0.0  1.0  0.0  0.0  \n",
              "4      1.0  0.0  0.0  0.0  1.0  0.0  0.0  0.0  0.0  \n",
              "...    ...  ...  ...  ...  ...  ...  ...  ...  ...  \n",
              "53935  0.0  0.0  0.0  1.0  0.0  0.0  0.0  0.0  0.0  \n",
              "53936  0.0  0.0  0.0  1.0  0.0  0.0  0.0  0.0  0.0  \n",
              "53937  0.0  0.0  0.0  1.0  0.0  0.0  0.0  0.0  0.0  \n",
              "53938  0.0  0.0  0.0  0.0  1.0  0.0  0.0  0.0  0.0  \n",
              "53939  0.0  0.0  0.0  0.0  1.0  0.0  0.0  0.0  0.0  \n",
              "\n",
              "[53940 rows x 26 columns]"
            ],
            "text/html": [
              "\n",
              "  <div id=\"df-a3336a6e-5873-40d8-b031-ecda1c93e37d\" class=\"colab-df-container\">\n",
              "    <div>\n",
              "<style scoped>\n",
              "    .dataframe tbody tr th:only-of-type {\n",
              "        vertical-align: middle;\n",
              "    }\n",
              "\n",
              "    .dataframe tbody tr th {\n",
              "        vertical-align: top;\n",
              "    }\n",
              "\n",
              "    .dataframe thead th {\n",
              "        text-align: right;\n",
              "    }\n",
              "</style>\n",
              "<table border=\"1\" class=\"dataframe\">\n",
              "  <thead>\n",
              "    <tr style=\"text-align: right;\">\n",
              "      <th></th>\n",
              "      <th>carat</th>\n",
              "      <th>depth</th>\n",
              "      <th>table</th>\n",
              "      <th>x</th>\n",
              "      <th>y</th>\n",
              "      <th>z</th>\n",
              "      <th>0</th>\n",
              "      <th>1</th>\n",
              "      <th>2</th>\n",
              "      <th>3</th>\n",
              "      <th>...</th>\n",
              "      <th>10</th>\n",
              "      <th>11</th>\n",
              "      <th>12</th>\n",
              "      <th>13</th>\n",
              "      <th>14</th>\n",
              "      <th>15</th>\n",
              "      <th>16</th>\n",
              "      <th>17</th>\n",
              "      <th>18</th>\n",
              "      <th>19</th>\n",
              "    </tr>\n",
              "  </thead>\n",
              "  <tbody>\n",
              "    <tr>\n",
              "      <th>0</th>\n",
              "      <td>0.23</td>\n",
              "      <td>61.5</td>\n",
              "      <td>55.0</td>\n",
              "      <td>3.95</td>\n",
              "      <td>3.98</td>\n",
              "      <td>2.43</td>\n",
              "      <td>0.0</td>\n",
              "      <td>0.0</td>\n",
              "      <td>1.0</td>\n",
              "      <td>0.0</td>\n",
              "      <td>...</td>\n",
              "      <td>0.0</td>\n",
              "      <td>0.0</td>\n",
              "      <td>0.0</td>\n",
              "      <td>0.0</td>\n",
              "      <td>0.0</td>\n",
              "      <td>1.0</td>\n",
              "      <td>0.0</td>\n",
              "      <td>0.0</td>\n",
              "      <td>0.0</td>\n",
              "      <td>0.0</td>\n",
              "    </tr>\n",
              "    <tr>\n",
              "      <th>1</th>\n",
              "      <td>0.21</td>\n",
              "      <td>59.8</td>\n",
              "      <td>61.0</td>\n",
              "      <td>3.89</td>\n",
              "      <td>3.84</td>\n",
              "      <td>2.31</td>\n",
              "      <td>0.0</td>\n",
              "      <td>0.0</td>\n",
              "      <td>0.0</td>\n",
              "      <td>1.0</td>\n",
              "      <td>...</td>\n",
              "      <td>0.0</td>\n",
              "      <td>0.0</td>\n",
              "      <td>0.0</td>\n",
              "      <td>0.0</td>\n",
              "      <td>1.0</td>\n",
              "      <td>0.0</td>\n",
              "      <td>0.0</td>\n",
              "      <td>0.0</td>\n",
              "      <td>0.0</td>\n",
              "      <td>0.0</td>\n",
              "    </tr>\n",
              "    <tr>\n",
              "      <th>2</th>\n",
              "      <td>0.23</td>\n",
              "      <td>56.9</td>\n",
              "      <td>65.0</td>\n",
              "      <td>4.05</td>\n",
              "      <td>4.07</td>\n",
              "      <td>2.31</td>\n",
              "      <td>0.0</td>\n",
              "      <td>1.0</td>\n",
              "      <td>0.0</td>\n",
              "      <td>0.0</td>\n",
              "      <td>...</td>\n",
              "      <td>0.0</td>\n",
              "      <td>0.0</td>\n",
              "      <td>0.0</td>\n",
              "      <td>0.0</td>\n",
              "      <td>0.0</td>\n",
              "      <td>0.0</td>\n",
              "      <td>1.0</td>\n",
              "      <td>0.0</td>\n",
              "      <td>0.0</td>\n",
              "      <td>0.0</td>\n",
              "    </tr>\n",
              "    <tr>\n",
              "      <th>3</th>\n",
              "      <td>0.29</td>\n",
              "      <td>62.4</td>\n",
              "      <td>58.0</td>\n",
              "      <td>4.20</td>\n",
              "      <td>4.23</td>\n",
              "      <td>2.63</td>\n",
              "      <td>0.0</td>\n",
              "      <td>0.0</td>\n",
              "      <td>0.0</td>\n",
              "      <td>1.0</td>\n",
              "      <td>...</td>\n",
              "      <td>1.0</td>\n",
              "      <td>0.0</td>\n",
              "      <td>0.0</td>\n",
              "      <td>0.0</td>\n",
              "      <td>0.0</td>\n",
              "      <td>0.0</td>\n",
              "      <td>0.0</td>\n",
              "      <td>1.0</td>\n",
              "      <td>0.0</td>\n",
              "      <td>0.0</td>\n",
              "    </tr>\n",
              "    <tr>\n",
              "      <th>4</th>\n",
              "      <td>0.31</td>\n",
              "      <td>63.3</td>\n",
              "      <td>58.0</td>\n",
              "      <td>4.34</td>\n",
              "      <td>4.35</td>\n",
              "      <td>2.75</td>\n",
              "      <td>0.0</td>\n",
              "      <td>1.0</td>\n",
              "      <td>0.0</td>\n",
              "      <td>0.0</td>\n",
              "      <td>...</td>\n",
              "      <td>0.0</td>\n",
              "      <td>1.0</td>\n",
              "      <td>0.0</td>\n",
              "      <td>0.0</td>\n",
              "      <td>0.0</td>\n",
              "      <td>1.0</td>\n",
              "      <td>0.0</td>\n",
              "      <td>0.0</td>\n",
              "      <td>0.0</td>\n",
              "      <td>0.0</td>\n",
              "    </tr>\n",
              "    <tr>\n",
              "      <th>...</th>\n",
              "      <td>...</td>\n",
              "      <td>...</td>\n",
              "      <td>...</td>\n",
              "      <td>...</td>\n",
              "      <td>...</td>\n",
              "      <td>...</td>\n",
              "      <td>...</td>\n",
              "      <td>...</td>\n",
              "      <td>...</td>\n",
              "      <td>...</td>\n",
              "      <td>...</td>\n",
              "      <td>...</td>\n",
              "      <td>...</td>\n",
              "      <td>...</td>\n",
              "      <td>...</td>\n",
              "      <td>...</td>\n",
              "      <td>...</td>\n",
              "      <td>...</td>\n",
              "      <td>...</td>\n",
              "      <td>...</td>\n",
              "      <td>...</td>\n",
              "    </tr>\n",
              "    <tr>\n",
              "      <th>53935</th>\n",
              "      <td>0.72</td>\n",
              "      <td>60.8</td>\n",
              "      <td>57.0</td>\n",
              "      <td>5.75</td>\n",
              "      <td>5.76</td>\n",
              "      <td>3.50</td>\n",
              "      <td>0.0</td>\n",
              "      <td>0.0</td>\n",
              "      <td>1.0</td>\n",
              "      <td>0.0</td>\n",
              "      <td>...</td>\n",
              "      <td>0.0</td>\n",
              "      <td>0.0</td>\n",
              "      <td>0.0</td>\n",
              "      <td>0.0</td>\n",
              "      <td>1.0</td>\n",
              "      <td>0.0</td>\n",
              "      <td>0.0</td>\n",
              "      <td>0.0</td>\n",
              "      <td>0.0</td>\n",
              "      <td>0.0</td>\n",
              "    </tr>\n",
              "    <tr>\n",
              "      <th>53936</th>\n",
              "      <td>0.72</td>\n",
              "      <td>63.1</td>\n",
              "      <td>55.0</td>\n",
              "      <td>5.69</td>\n",
              "      <td>5.75</td>\n",
              "      <td>3.61</td>\n",
              "      <td>0.0</td>\n",
              "      <td>1.0</td>\n",
              "      <td>0.0</td>\n",
              "      <td>0.0</td>\n",
              "      <td>...</td>\n",
              "      <td>0.0</td>\n",
              "      <td>0.0</td>\n",
              "      <td>0.0</td>\n",
              "      <td>0.0</td>\n",
              "      <td>1.0</td>\n",
              "      <td>0.0</td>\n",
              "      <td>0.0</td>\n",
              "      <td>0.0</td>\n",
              "      <td>0.0</td>\n",
              "      <td>0.0</td>\n",
              "    </tr>\n",
              "    <tr>\n",
              "      <th>53937</th>\n",
              "      <td>0.70</td>\n",
              "      <td>62.8</td>\n",
              "      <td>60.0</td>\n",
              "      <td>5.66</td>\n",
              "      <td>5.68</td>\n",
              "      <td>3.56</td>\n",
              "      <td>0.0</td>\n",
              "      <td>0.0</td>\n",
              "      <td>0.0</td>\n",
              "      <td>0.0</td>\n",
              "      <td>...</td>\n",
              "      <td>0.0</td>\n",
              "      <td>0.0</td>\n",
              "      <td>0.0</td>\n",
              "      <td>0.0</td>\n",
              "      <td>1.0</td>\n",
              "      <td>0.0</td>\n",
              "      <td>0.0</td>\n",
              "      <td>0.0</td>\n",
              "      <td>0.0</td>\n",
              "      <td>0.0</td>\n",
              "    </tr>\n",
              "    <tr>\n",
              "      <th>53938</th>\n",
              "      <td>0.86</td>\n",
              "      <td>61.0</td>\n",
              "      <td>58.0</td>\n",
              "      <td>6.15</td>\n",
              "      <td>6.12</td>\n",
              "      <td>3.74</td>\n",
              "      <td>0.0</td>\n",
              "      <td>0.0</td>\n",
              "      <td>0.0</td>\n",
              "      <td>1.0</td>\n",
              "      <td>...</td>\n",
              "      <td>0.0</td>\n",
              "      <td>0.0</td>\n",
              "      <td>0.0</td>\n",
              "      <td>0.0</td>\n",
              "      <td>0.0</td>\n",
              "      <td>1.0</td>\n",
              "      <td>0.0</td>\n",
              "      <td>0.0</td>\n",
              "      <td>0.0</td>\n",
              "      <td>0.0</td>\n",
              "    </tr>\n",
              "    <tr>\n",
              "      <th>53939</th>\n",
              "      <td>0.75</td>\n",
              "      <td>62.2</td>\n",
              "      <td>55.0</td>\n",
              "      <td>5.83</td>\n",
              "      <td>5.87</td>\n",
              "      <td>3.64</td>\n",
              "      <td>0.0</td>\n",
              "      <td>0.0</td>\n",
              "      <td>1.0</td>\n",
              "      <td>0.0</td>\n",
              "      <td>...</td>\n",
              "      <td>0.0</td>\n",
              "      <td>0.0</td>\n",
              "      <td>0.0</td>\n",
              "      <td>0.0</td>\n",
              "      <td>0.0</td>\n",
              "      <td>1.0</td>\n",
              "      <td>0.0</td>\n",
              "      <td>0.0</td>\n",
              "      <td>0.0</td>\n",
              "      <td>0.0</td>\n",
              "    </tr>\n",
              "  </tbody>\n",
              "</table>\n",
              "<p>53940 rows × 26 columns</p>\n",
              "</div>\n",
              "    <div class=\"colab-df-buttons\">\n",
              "\n",
              "  <div class=\"colab-df-container\">\n",
              "    <button class=\"colab-df-convert\" onclick=\"convertToInteractive('df-a3336a6e-5873-40d8-b031-ecda1c93e37d')\"\n",
              "            title=\"Convert this dataframe to an interactive table.\"\n",
              "            style=\"display:none;\">\n",
              "\n",
              "  <svg xmlns=\"http://www.w3.org/2000/svg\" height=\"24px\" viewBox=\"0 -960 960 960\">\n",
              "    <path d=\"M120-120v-720h720v720H120Zm60-500h600v-160H180v160Zm220 220h160v-160H400v160Zm0 220h160v-160H400v160ZM180-400h160v-160H180v160Zm440 0h160v-160H620v160ZM180-180h160v-160H180v160Zm440 0h160v-160H620v160Z\"/>\n",
              "  </svg>\n",
              "    </button>\n",
              "\n",
              "  <style>\n",
              "    .colab-df-container {\n",
              "      display:flex;\n",
              "      gap: 12px;\n",
              "    }\n",
              "\n",
              "    .colab-df-convert {\n",
              "      background-color: #E8F0FE;\n",
              "      border: none;\n",
              "      border-radius: 50%;\n",
              "      cursor: pointer;\n",
              "      display: none;\n",
              "      fill: #1967D2;\n",
              "      height: 32px;\n",
              "      padding: 0 0 0 0;\n",
              "      width: 32px;\n",
              "    }\n",
              "\n",
              "    .colab-df-convert:hover {\n",
              "      background-color: #E2EBFA;\n",
              "      box-shadow: 0px 1px 2px rgba(60, 64, 67, 0.3), 0px 1px 3px 1px rgba(60, 64, 67, 0.15);\n",
              "      fill: #174EA6;\n",
              "    }\n",
              "\n",
              "    .colab-df-buttons div {\n",
              "      margin-bottom: 4px;\n",
              "    }\n",
              "\n",
              "    [theme=dark] .colab-df-convert {\n",
              "      background-color: #3B4455;\n",
              "      fill: #D2E3FC;\n",
              "    }\n",
              "\n",
              "    [theme=dark] .colab-df-convert:hover {\n",
              "      background-color: #434B5C;\n",
              "      box-shadow: 0px 1px 3px 1px rgba(0, 0, 0, 0.15);\n",
              "      filter: drop-shadow(0px 1px 2px rgba(0, 0, 0, 0.3));\n",
              "      fill: #FFFFFF;\n",
              "    }\n",
              "  </style>\n",
              "\n",
              "    <script>\n",
              "      const buttonEl =\n",
              "        document.querySelector('#df-a3336a6e-5873-40d8-b031-ecda1c93e37d button.colab-df-convert');\n",
              "      buttonEl.style.display =\n",
              "        google.colab.kernel.accessAllowed ? 'block' : 'none';\n",
              "\n",
              "      async function convertToInteractive(key) {\n",
              "        const element = document.querySelector('#df-a3336a6e-5873-40d8-b031-ecda1c93e37d');\n",
              "        const dataTable =\n",
              "          await google.colab.kernel.invokeFunction('convertToInteractive',\n",
              "                                                    [key], {});\n",
              "        if (!dataTable) return;\n",
              "\n",
              "        const docLinkHtml = 'Like what you see? Visit the ' +\n",
              "          '<a target=\"_blank\" href=https://colab.research.google.com/notebooks/data_table.ipynb>data table notebook</a>'\n",
              "          + ' to learn more about interactive tables.';\n",
              "        element.innerHTML = '';\n",
              "        dataTable['output_type'] = 'display_data';\n",
              "        await google.colab.output.renderOutput(dataTable, element);\n",
              "        const docLink = document.createElement('div');\n",
              "        docLink.innerHTML = docLinkHtml;\n",
              "        element.appendChild(docLink);\n",
              "      }\n",
              "    </script>\n",
              "  </div>\n",
              "\n",
              "\n",
              "<div id=\"df-d402e5f7-2876-46f4-a427-7bbdeb7e625e\">\n",
              "  <button class=\"colab-df-quickchart\" onclick=\"quickchart('df-d402e5f7-2876-46f4-a427-7bbdeb7e625e')\"\n",
              "            title=\"Suggest charts\"\n",
              "            style=\"display:none;\">\n",
              "\n",
              "<svg xmlns=\"http://www.w3.org/2000/svg\" height=\"24px\"viewBox=\"0 0 24 24\"\n",
              "     width=\"24px\">\n",
              "    <g>\n",
              "        <path d=\"M19 3H5c-1.1 0-2 .9-2 2v14c0 1.1.9 2 2 2h14c1.1 0 2-.9 2-2V5c0-1.1-.9-2-2-2zM9 17H7v-7h2v7zm4 0h-2V7h2v10zm4 0h-2v-4h2v4z\"/>\n",
              "    </g>\n",
              "</svg>\n",
              "  </button>\n",
              "\n",
              "<style>\n",
              "  .colab-df-quickchart {\n",
              "      --bg-color: #E8F0FE;\n",
              "      --fill-color: #1967D2;\n",
              "      --hover-bg-color: #E2EBFA;\n",
              "      --hover-fill-color: #174EA6;\n",
              "      --disabled-fill-color: #AAA;\n",
              "      --disabled-bg-color: #DDD;\n",
              "  }\n",
              "\n",
              "  [theme=dark] .colab-df-quickchart {\n",
              "      --bg-color: #3B4455;\n",
              "      --fill-color: #D2E3FC;\n",
              "      --hover-bg-color: #434B5C;\n",
              "      --hover-fill-color: #FFFFFF;\n",
              "      --disabled-bg-color: #3B4455;\n",
              "      --disabled-fill-color: #666;\n",
              "  }\n",
              "\n",
              "  .colab-df-quickchart {\n",
              "    background-color: var(--bg-color);\n",
              "    border: none;\n",
              "    border-radius: 50%;\n",
              "    cursor: pointer;\n",
              "    display: none;\n",
              "    fill: var(--fill-color);\n",
              "    height: 32px;\n",
              "    padding: 0;\n",
              "    width: 32px;\n",
              "  }\n",
              "\n",
              "  .colab-df-quickchart:hover {\n",
              "    background-color: var(--hover-bg-color);\n",
              "    box-shadow: 0 1px 2px rgba(60, 64, 67, 0.3), 0 1px 3px 1px rgba(60, 64, 67, 0.15);\n",
              "    fill: var(--button-hover-fill-color);\n",
              "  }\n",
              "\n",
              "  .colab-df-quickchart-complete:disabled,\n",
              "  .colab-df-quickchart-complete:disabled:hover {\n",
              "    background-color: var(--disabled-bg-color);\n",
              "    fill: var(--disabled-fill-color);\n",
              "    box-shadow: none;\n",
              "  }\n",
              "\n",
              "  .colab-df-spinner {\n",
              "    border: 2px solid var(--fill-color);\n",
              "    border-color: transparent;\n",
              "    border-bottom-color: var(--fill-color);\n",
              "    animation:\n",
              "      spin 1s steps(1) infinite;\n",
              "  }\n",
              "\n",
              "  @keyframes spin {\n",
              "    0% {\n",
              "      border-color: transparent;\n",
              "      border-bottom-color: var(--fill-color);\n",
              "      border-left-color: var(--fill-color);\n",
              "    }\n",
              "    20% {\n",
              "      border-color: transparent;\n",
              "      border-left-color: var(--fill-color);\n",
              "      border-top-color: var(--fill-color);\n",
              "    }\n",
              "    30% {\n",
              "      border-color: transparent;\n",
              "      border-left-color: var(--fill-color);\n",
              "      border-top-color: var(--fill-color);\n",
              "      border-right-color: var(--fill-color);\n",
              "    }\n",
              "    40% {\n",
              "      border-color: transparent;\n",
              "      border-right-color: var(--fill-color);\n",
              "      border-top-color: var(--fill-color);\n",
              "    }\n",
              "    60% {\n",
              "      border-color: transparent;\n",
              "      border-right-color: var(--fill-color);\n",
              "    }\n",
              "    80% {\n",
              "      border-color: transparent;\n",
              "      border-right-color: var(--fill-color);\n",
              "      border-bottom-color: var(--fill-color);\n",
              "    }\n",
              "    90% {\n",
              "      border-color: transparent;\n",
              "      border-bottom-color: var(--fill-color);\n",
              "    }\n",
              "  }\n",
              "</style>\n",
              "\n",
              "  <script>\n",
              "    async function quickchart(key) {\n",
              "      const quickchartButtonEl =\n",
              "        document.querySelector('#' + key + ' button');\n",
              "      quickchartButtonEl.disabled = true;  // To prevent multiple clicks.\n",
              "      quickchartButtonEl.classList.add('colab-df-spinner');\n",
              "      try {\n",
              "        const charts = await google.colab.kernel.invokeFunction(\n",
              "            'suggestCharts', [key], {});\n",
              "      } catch (error) {\n",
              "        console.error('Error during call to suggestCharts:', error);\n",
              "      }\n",
              "      quickchartButtonEl.classList.remove('colab-df-spinner');\n",
              "      quickchartButtonEl.classList.add('colab-df-quickchart-complete');\n",
              "    }\n",
              "    (() => {\n",
              "      let quickchartButtonEl =\n",
              "        document.querySelector('#df-d402e5f7-2876-46f4-a427-7bbdeb7e625e button');\n",
              "      quickchartButtonEl.style.display =\n",
              "        google.colab.kernel.accessAllowed ? 'block' : 'none';\n",
              "    })();\n",
              "  </script>\n",
              "</div>\n",
              "    </div>\n",
              "  </div>\n"
            ],
            "application/vnd.google.colaboratory.intrinsic+json": {
              "type": "dataframe",
              "variable_name": "df"
            }
          },
          "metadata": {},
          "execution_count": 195
        }
      ],
      "source": [
        "df"
      ]
    },
    {
      "cell_type": "markdown",
      "metadata": {
        "id": "AP2Ejcg-gFQ2"
      },
      "source": [
        "**Задача 3.4 (0.2 балла)** Разделите выборку на тренировочную и тестовую. Долю тестовой выборки укажите равной 0.3. Не забудьте про параметр `stratify`."
      ]
    },
    {
      "cell_type": "code",
      "execution_count": 196,
      "metadata": {
        "id": "7Fx0sgtvgFQ2"
      },
      "outputs": [],
      "source": [
        "X_train, X_test, y_train, y_test = train_test_split(df, y_price_target, test_size=0.3, random_state=np.random.seed())"
      ]
    },
    {
      "cell_type": "markdown",
      "metadata": {
        "id": "rcUS-idKgFQ2"
      },
      "source": [
        "**Задача 3.5 (0.3 балла)** Зачастую при использовании линейных моделей вещественные признаки масштабируются. При этом оценки коэффициентов теряют прямую статистическую интерпретацию (\"при увеличении $X_1$ на 1, $y$ увеличивается на $w_1$\"), но приобретают свойства, полезные в задачах машинного обучения. В этой задаче масштабируйте вещественные признаки тренировочной и тестовой выборок при помощи модуля `StandardScaler`."
      ]
    },
    {
      "cell_type": "code",
      "execution_count": 197,
      "metadata": {
        "id": "lrzWDPivgFQ2"
      },
      "outputs": [],
      "source": [
        "X_train_float = X_train[['carat',\t'depth',\t'table',\t'x',\t'y',\t'z']]\n",
        "X_test_float = X_test[['carat',\t'depth',\t'table',\t'x',\t'y',\t'z']]\n",
        "X_train_cat = X_train[range(20)]\n",
        "X_test_cat = X_test[range(20)]"
      ]
    },
    {
      "cell_type": "code",
      "source": [
        "scaler.fit(X_train_float)"
      ],
      "metadata": {
        "colab": {
          "base_uri": "https://localhost:8080/",
          "height": 74
        },
        "id": "_t8S6lsw-WVl",
        "outputId": "9101d4ac-8768-4cd9-e3d3-dfee669488b0"
      },
      "execution_count": 198,
      "outputs": [
        {
          "output_type": "execute_result",
          "data": {
            "text/plain": [
              "StandardScaler()"
            ],
            "text/html": [
              "<style>#sk-container-id-10 {color: black;}#sk-container-id-10 pre{padding: 0;}#sk-container-id-10 div.sk-toggleable {background-color: white;}#sk-container-id-10 label.sk-toggleable__label {cursor: pointer;display: block;width: 100%;margin-bottom: 0;padding: 0.3em;box-sizing: border-box;text-align: center;}#sk-container-id-10 label.sk-toggleable__label-arrow:before {content: \"▸\";float: left;margin-right: 0.25em;color: #696969;}#sk-container-id-10 label.sk-toggleable__label-arrow:hover:before {color: black;}#sk-container-id-10 div.sk-estimator:hover label.sk-toggleable__label-arrow:before {color: black;}#sk-container-id-10 div.sk-toggleable__content {max-height: 0;max-width: 0;overflow: hidden;text-align: left;background-color: #f0f8ff;}#sk-container-id-10 div.sk-toggleable__content pre {margin: 0.2em;color: black;border-radius: 0.25em;background-color: #f0f8ff;}#sk-container-id-10 input.sk-toggleable__control:checked~div.sk-toggleable__content {max-height: 200px;max-width: 100%;overflow: auto;}#sk-container-id-10 input.sk-toggleable__control:checked~label.sk-toggleable__label-arrow:before {content: \"▾\";}#sk-container-id-10 div.sk-estimator input.sk-toggleable__control:checked~label.sk-toggleable__label {background-color: #d4ebff;}#sk-container-id-10 div.sk-label input.sk-toggleable__control:checked~label.sk-toggleable__label {background-color: #d4ebff;}#sk-container-id-10 input.sk-hidden--visually {border: 0;clip: rect(1px 1px 1px 1px);clip: rect(1px, 1px, 1px, 1px);height: 1px;margin: -1px;overflow: hidden;padding: 0;position: absolute;width: 1px;}#sk-container-id-10 div.sk-estimator {font-family: monospace;background-color: #f0f8ff;border: 1px dotted black;border-radius: 0.25em;box-sizing: border-box;margin-bottom: 0.5em;}#sk-container-id-10 div.sk-estimator:hover {background-color: #d4ebff;}#sk-container-id-10 div.sk-parallel-item::after {content: \"\";width: 100%;border-bottom: 1px solid gray;flex-grow: 1;}#sk-container-id-10 div.sk-label:hover label.sk-toggleable__label {background-color: #d4ebff;}#sk-container-id-10 div.sk-serial::before {content: \"\";position: absolute;border-left: 1px solid gray;box-sizing: border-box;top: 0;bottom: 0;left: 50%;z-index: 0;}#sk-container-id-10 div.sk-serial {display: flex;flex-direction: column;align-items: center;background-color: white;padding-right: 0.2em;padding-left: 0.2em;position: relative;}#sk-container-id-10 div.sk-item {position: relative;z-index: 1;}#sk-container-id-10 div.sk-parallel {display: flex;align-items: stretch;justify-content: center;background-color: white;position: relative;}#sk-container-id-10 div.sk-item::before, #sk-container-id-10 div.sk-parallel-item::before {content: \"\";position: absolute;border-left: 1px solid gray;box-sizing: border-box;top: 0;bottom: 0;left: 50%;z-index: -1;}#sk-container-id-10 div.sk-parallel-item {display: flex;flex-direction: column;z-index: 1;position: relative;background-color: white;}#sk-container-id-10 div.sk-parallel-item:first-child::after {align-self: flex-end;width: 50%;}#sk-container-id-10 div.sk-parallel-item:last-child::after {align-self: flex-start;width: 50%;}#sk-container-id-10 div.sk-parallel-item:only-child::after {width: 0;}#sk-container-id-10 div.sk-dashed-wrapped {border: 1px dashed gray;margin: 0 0.4em 0.5em 0.4em;box-sizing: border-box;padding-bottom: 0.4em;background-color: white;}#sk-container-id-10 div.sk-label label {font-family: monospace;font-weight: bold;display: inline-block;line-height: 1.2em;}#sk-container-id-10 div.sk-label-container {text-align: center;}#sk-container-id-10 div.sk-container {/* jupyter's `normalize.less` sets `[hidden] { display: none; }` but bootstrap.min.css set `[hidden] { display: none !important; }` so we also need the `!important` here to be able to override the default hidden behavior on the sphinx rendered scikit-learn.org. See: https://github.com/scikit-learn/scikit-learn/issues/21755 */display: inline-block !important;position: relative;}#sk-container-id-10 div.sk-text-repr-fallback {display: none;}</style><div id=\"sk-container-id-10\" class=\"sk-top-container\"><div class=\"sk-text-repr-fallback\"><pre>StandardScaler()</pre><b>In a Jupyter environment, please rerun this cell to show the HTML representation or trust the notebook. <br />On GitHub, the HTML representation is unable to render, please try loading this page with nbviewer.org.</b></div><div class=\"sk-container\" hidden><div class=\"sk-item\"><div class=\"sk-estimator sk-toggleable\"><input class=\"sk-toggleable__control sk-hidden--visually\" id=\"sk-estimator-id-10\" type=\"checkbox\" checked><label for=\"sk-estimator-id-10\" class=\"sk-toggleable__label sk-toggleable__label-arrow\">StandardScaler</label><div class=\"sk-toggleable__content\"><pre>StandardScaler()</pre></div></div></div></div></div>"
            ]
          },
          "metadata": {},
          "execution_count": 198
        }
      ]
    },
    {
      "cell_type": "code",
      "source": [
        "X_train_float_sc = scaler.transform(X_train_float)"
      ],
      "metadata": {
        "id": "BJ07Z32y_w3q"
      },
      "execution_count": 199,
      "outputs": []
    },
    {
      "cell_type": "code",
      "source": [
        "X_test_float_sc = scaler.transform(X_test_float)"
      ],
      "metadata": {
        "id": "rQ4KEGMwBL7T"
      },
      "execution_count": 200,
      "outputs": []
    },
    {
      "cell_type": "markdown",
      "source": [
        "Теперь все соединяем:"
      ],
      "metadata": {
        "id": "xTeclOeNBePn"
      }
    },
    {
      "cell_type": "code",
      "source": [
        "X_train_sc = np.concatenate((X_train_float_sc, X_train_cat), axis= 1)\n",
        "X_test_sc = np.concatenate((X_test_float_sc, X_test_cat), axis= 1)"
      ],
      "metadata": {
        "id": "6BZJhUMjBozV"
      },
      "execution_count": 201,
      "outputs": []
    },
    {
      "cell_type": "markdown",
      "metadata": {
        "id": "m7epyRtVgFQ2"
      },
      "source": [
        "**Задача 3.6 (0.2 балла)** Оцените линейную регрессию на тренировочной выборке. Выведите среднеквадратичную ошибку на тренировочной и тестовой выборках."
      ]
    },
    {
      "cell_type": "code",
      "execution_count": 202,
      "metadata": {
        "id": "j6JrJ6UfgFQ2"
      },
      "outputs": [],
      "source": [
        "from sklearn.linear_model import LinearRegression as LR"
      ]
    },
    {
      "cell_type": "markdown",
      "source": [
        "Обычная линейная регрессия методом наименьших квадратов.\n",
        "\n",
        "Линейная регрессия соответствует линейной модели с коэффициентами $w = (w_{1}, \\dots, w_{p})$, чтобы минимизировать остаточную сумму квадратов между наблюдаемыми таргетами в выборке и таргетами, предсказанными с помощью линейной аппроксимации."
      ],
      "metadata": {
        "id": "pgoLiF6GLCBm"
      }
    },
    {
      "cell_type": "markdown",
      "source": [
        "То есть функция потерь `MSE`."
      ],
      "metadata": {
        "id": "iOWu0uT3LU1l"
      }
    },
    {
      "cell_type": "markdown",
      "source": [
        "Краткий обзор класса `LinearRegression`. При инициализации объекта передаются параметры:\n",
        "* **fit_interceptbool, default=True**: Следует ли вычислять перехват для этой модели? Если установлено значение `False`, перехват не будет использоваться в расчетах (т.е. ожидается, что данные будут центрированы);\n",
        "* **copy_Xbool, default=True**: Если значение равно `True`, то `X` будет скопирован; в противном случае он может быть перезаписан;\n",
        "* **n_jobsint, default=None**: Количество заданий, используемых для вычисления. Это обеспечит ускорение только в случае достаточно больших задач, то есть, если, во-первых, `n_targets > 1`, а во-вторых, `X` является разреженным или если значение `positive` равно `True`. По умолчанию `None` означает 1;\n",
        "* **positivebool, default=False**: Если установлено значение `True`, коэффициенты должны быть положительными. Эта опция поддерживается только для плотных массивов."
      ],
      "metadata": {
        "id": "0z71ASlfDikq"
      }
    },
    {
      "cell_type": "markdown",
      "source": [
        "Самый главный метод - метод `fit(X,y,sample_weight=None)`. Можно передать веса."
      ],
      "metadata": {
        "id": "Ym9A36UcC_pv"
      }
    },
    {
      "cell_type": "code",
      "source": [
        "LR = LR().fit(X_train_sc, y_train)"
      ],
      "metadata": {
        "id": "BRCv7ge8HMB1"
      },
      "execution_count": 203,
      "outputs": []
    },
    {
      "cell_type": "markdown",
      "source": [
        "Появляются новые методы и атрибуты. О них постепенно."
      ],
      "metadata": {
        "id": "JowMgr1SHlNt"
      }
    },
    {
      "cell_type": "markdown",
      "source": [
        "* `score(X, y, sample_weight=None)` - дает *коэффициент детерминации* $R^2$. Он определяется так:"
      ],
      "metadata": {
        "id": "24lMIzyFIaEs"
      }
    },
    {
      "cell_type": "markdown",
      "source": [
        "$$R^2 = \\Big{(}1-\\frac{u}{v} \\Big{)},$$"
      ],
      "metadata": {
        "id": "el5JtNHQJAML"
      }
    },
    {
      "cell_type": "markdown",
      "source": [
        "где $u$ = `((y_true - y_pred)** 2).sum()` и $v$ = `((y_true - y_true.mean()) ** 2).sum()`. Максимальное значение = 1. Чем выше, тем лучше."
      ],
      "metadata": {
        "id": "-41RzrSHJNKW"
      }
    },
    {
      "cell_type": "code",
      "source": [
        "LR.score(X_train_sc, y_train)"
      ],
      "metadata": {
        "colab": {
          "base_uri": "https://localhost:8080/"
        },
        "id": "VP5X33p0L-A2",
        "outputId": "e6f72209-ad9a-4a91-8351-35b71899d120"
      },
      "execution_count": 204,
      "outputs": [
        {
          "output_type": "execute_result",
          "data": {
            "text/plain": [
              "0.9218487050423061"
            ]
          },
          "metadata": {},
          "execution_count": 204
        }
      ]
    },
    {
      "cell_type": "markdown",
      "source": [
        "Теперь мы импортируем `MSE`:"
      ],
      "metadata": {
        "id": "k798NqRgMvdU"
      }
    },
    {
      "cell_type": "code",
      "source": [
        "from sklearn.metrics import mean_squared_error as MSE"
      ],
      "metadata": {
        "id": "sVL3bPOEM3Jd"
      },
      "execution_count": 205,
      "outputs": []
    },
    {
      "cell_type": "markdown",
      "source": [
        "* Метод `predict(X)` дает вектор предсказательных таргетов по выборке `X`."
      ],
      "metadata": {
        "id": "mTpo8gifM9mw"
      }
    },
    {
      "cell_type": "code",
      "source": [
        "y_pred_test = LR.predict(X_test_sc)"
      ],
      "metadata": {
        "id": "jyMwJtMNNXlc"
      },
      "execution_count": 206,
      "outputs": []
    },
    {
      "cell_type": "code",
      "source": [
        "y_pred_train = LR.predict(X_train_sc)"
      ],
      "metadata": {
        "id": "AoiYzcAmNxE_"
      },
      "execution_count": 207,
      "outputs": []
    },
    {
      "cell_type": "markdown",
      "source": [
        "Мерим ошибки:"
      ],
      "metadata": {
        "id": "CG-z-PtiNfHP"
      }
    },
    {
      "cell_type": "code",
      "source": [
        "MSE(y_pred_train ,y_train)"
      ],
      "metadata": {
        "colab": {
          "base_uri": "https://localhost:8080/"
        },
        "id": "zMQpssy_NiP_",
        "outputId": "edcb9a27-1d75-4bca-9fd6-e61d102f1b75"
      },
      "execution_count": 208,
      "outputs": [
        {
          "output_type": "execute_result",
          "data": {
            "text/plain": [
              "1239071.4907141912"
            ]
          },
          "metadata": {},
          "execution_count": 208
        }
      ]
    },
    {
      "cell_type": "code",
      "source": [
        "MSE(y_pred_test, y_test)"
      ],
      "metadata": {
        "colab": {
          "base_uri": "https://localhost:8080/"
        },
        "id": "YVJozSOzN7k-",
        "outputId": "68efb5ea-b1d2-454e-beed-28b84a5f008f"
      },
      "execution_count": 209,
      "outputs": [
        {
          "output_type": "execute_result",
          "data": {
            "text/plain": [
              "1366462.082297609"
            ]
          },
          "metadata": {},
          "execution_count": 209
        }
      ]
    },
    {
      "cell_type": "markdown",
      "source": [
        "**Вывод**: ошибки примерно совпадают. Значит, мы неплохо обучили модель."
      ],
      "metadata": {
        "id": "zJTp9gPHOfZW"
      }
    },
    {
      "cell_type": "markdown",
      "metadata": {
        "id": "dN17tJ7LgFQ2"
      },
      "source": [
        "**Задача 3.7 (0.2 балла)** Изучите [документацию](https://scikit-learn.org/stable/modules/generated/sklearn.linear_model.LinearRegression.html) модуля `LinearRegression` и выведите полученные оценки коэффициентов. Назовите вещественные переменные, оценки коэффициентов которых по модулю на порядок превышают оценки прочих вещественных переменных."
      ]
    },
    {
      "cell_type": "code",
      "execution_count": 210,
      "metadata": {
        "id": "yCjyJCiNgFQ2"
      },
      "outputs": [],
      "source": [
        "w =np.array(LR.coef_[0])"
      ]
    },
    {
      "cell_type": "code",
      "source": [
        "values = df.columns.values.tolist()"
      ],
      "metadata": {
        "id": "06IuZoWUg80v"
      },
      "execution_count": 211,
      "outputs": []
    },
    {
      "cell_type": "code",
      "source": [
        "dict = {} # словарь: модуль коэффициента -> название фичи\n",
        "\n",
        "for i in range(len(w)):\n",
        "  w[i] = np.abs(w[i])\n",
        "  dict[w[i]] = values[i]"
      ],
      "metadata": {
        "id": "nPumJcRygkV8"
      },
      "execution_count": 212,
      "outputs": []
    },
    {
      "cell_type": "code",
      "source": [
        "w = np.sort(w)"
      ],
      "metadata": {
        "id": "DrY_L1GQcdxg"
      },
      "execution_count": 213,
      "outputs": []
    },
    {
      "cell_type": "code",
      "source": [
        "for i in range(len(w)):\n",
        "  print(w[i], dict[w[i]])"
      ],
      "metadata": {
        "colab": {
          "base_uri": "https://localhost:8080/"
        },
        "id": "e45WJERgqrno",
        "outputId": "8c3f3fe3-0c44-40b5-b62b-18ecd8d653ea"
      },
      "execution_count": 214,
      "outputs": [
        {
          "output_type": "stream",
          "name": "stdout",
          "text": [
            "7.210567706144123 y\n",
            "12.418867304425566 1\n",
            "26.1475662797626 z\n",
            "65.81319702641002 table\n",
            "98.69737049464493 depth\n",
            "129.6874192039854 14\n",
            "143.97564313132682 4\n",
            "157.1222679248667 9\n",
            "174.23874172635558 3\n",
            "243.58904703875015 2\n",
            "358.62473188477566 8\n",
            "462.54475304663305 17\n",
            "549.3845645920101 0\n",
            "563.2705689686051 7\n",
            "628.2286237160808 10\n",
            "629.2525008969475 6\n",
            "783.434330601926 16\n",
            "826.5424687688388 5\n",
            "1112.4962878610322 15\n",
            "1145.062768564129 19\n",
            "1175.5679542821858 18\n",
            "1217.7460149425 x\n",
            "1486.9678360699065 13\n",
            "1592.3393788782182 11\n",
            "3811.3939354997597 12\n",
            "5412.793515212078 carat\n"
          ]
        }
      ]
    },
    {
      "cell_type": "markdown",
      "source": [
        "По модулю сравнительно больше вес перед `carat`."
      ],
      "metadata": {
        "id": "a9cTifQOrxwH"
      }
    },
    {
      "cell_type": "markdown",
      "metadata": {
        "id": "zWzWm834gFQ2"
      },
      "source": [
        "**Задача 3.8 (0.4 балла)** Как можно заметить из анализа корреляционной матрицы в задаче 3.3, между некоторыми признаками имеется сильная корреляция, что может быть индикатором проблемы *мультиколлинеарности*. Различия в порядке коэффициентов, выявленные в предыдущей задаче также намекают на её присутствие. Как известно, для решения этой проблемы можно либо исключить некоторые признаки из модели, либо использовать регуляризацию. Мы воспользуемся вторым вариантом.\n",
        "\n",
        "Вспомним, что смысл регуляризации заключается в том, чтобы изменить функцию потерь так, чтобы устранить проблемы, появляющиеся из-за мультиколлинеарности. При L1-регуляризации предлагается минимизировать следующую функцию потерь:\n",
        "\n",
        "$$\n",
        "\\|y - X\\hat{w}\\|^2 + \\alpha\\sum_{i=1}^k|w_i|\n",
        "$$\n",
        "\n",
        "Такая модель называется Lasso-регрессией.\n",
        "\n",
        "При L2-регуляризации предлагается минимизировать следующую функцию потерь:\n",
        "\n",
        "$$\n",
        "\\|y - X\\hat{w}\\|^2 + \\alpha\\|w\\|^2\n",
        "$$\n",
        "\n",
        "Такая модель называется Ridge-регрессией.\n",
        "\n",
        "Обучите Lasso-регрессию и Ridge-регрессию, уставновив гиперпараметр регуляризации равным 10. Для этого используйте модули `Lasso` и `Ridge` из `sklearn`. Сильно ли уменьшились веса? Сделайте вывод о том, насколько сильно проблема мультиколлинеарности проявлялась в изначальной регрессии."
      ]
    },
    {
      "cell_type": "markdown",
      "source": [
        "\n",
        "\n",
        "---\n",
        "\n"
      ],
      "metadata": {
        "id": "L7DDVFIr0TYp"
      }
    },
    {
      "cell_type": "code",
      "execution_count": 215,
      "metadata": {
        "id": "AeA2LWLagFQ2"
      },
      "outputs": [],
      "source": [
        "from sklearn.linear_model import Ridge"
      ]
    },
    {
      "cell_type": "code",
      "source": [
        "Rg = Ridge(alpha = 10) # инициализация"
      ],
      "metadata": {
        "id": "9SFl2p2lu5qO"
      },
      "execution_count": 216,
      "outputs": []
    },
    {
      "cell_type": "code",
      "source": [
        "Rg.fit(X_train_sc, y_train) # обучаем"
      ],
      "metadata": {
        "colab": {
          "base_uri": "https://localhost:8080/",
          "height": 74
        },
        "id": "lRy4PjQ8vKWg",
        "outputId": "dff6b403-e3f7-4c81-de37-811209944cbb"
      },
      "execution_count": 217,
      "outputs": [
        {
          "output_type": "execute_result",
          "data": {
            "text/plain": [
              "Ridge(alpha=10)"
            ],
            "text/html": [
              "<style>#sk-container-id-11 {color: black;}#sk-container-id-11 pre{padding: 0;}#sk-container-id-11 div.sk-toggleable {background-color: white;}#sk-container-id-11 label.sk-toggleable__label {cursor: pointer;display: block;width: 100%;margin-bottom: 0;padding: 0.3em;box-sizing: border-box;text-align: center;}#sk-container-id-11 label.sk-toggleable__label-arrow:before {content: \"▸\";float: left;margin-right: 0.25em;color: #696969;}#sk-container-id-11 label.sk-toggleable__label-arrow:hover:before {color: black;}#sk-container-id-11 div.sk-estimator:hover label.sk-toggleable__label-arrow:before {color: black;}#sk-container-id-11 div.sk-toggleable__content {max-height: 0;max-width: 0;overflow: hidden;text-align: left;background-color: #f0f8ff;}#sk-container-id-11 div.sk-toggleable__content pre {margin: 0.2em;color: black;border-radius: 0.25em;background-color: #f0f8ff;}#sk-container-id-11 input.sk-toggleable__control:checked~div.sk-toggleable__content {max-height: 200px;max-width: 100%;overflow: auto;}#sk-container-id-11 input.sk-toggleable__control:checked~label.sk-toggleable__label-arrow:before {content: \"▾\";}#sk-container-id-11 div.sk-estimator input.sk-toggleable__control:checked~label.sk-toggleable__label {background-color: #d4ebff;}#sk-container-id-11 div.sk-label input.sk-toggleable__control:checked~label.sk-toggleable__label {background-color: #d4ebff;}#sk-container-id-11 input.sk-hidden--visually {border: 0;clip: rect(1px 1px 1px 1px);clip: rect(1px, 1px, 1px, 1px);height: 1px;margin: -1px;overflow: hidden;padding: 0;position: absolute;width: 1px;}#sk-container-id-11 div.sk-estimator {font-family: monospace;background-color: #f0f8ff;border: 1px dotted black;border-radius: 0.25em;box-sizing: border-box;margin-bottom: 0.5em;}#sk-container-id-11 div.sk-estimator:hover {background-color: #d4ebff;}#sk-container-id-11 div.sk-parallel-item::after {content: \"\";width: 100%;border-bottom: 1px solid gray;flex-grow: 1;}#sk-container-id-11 div.sk-label:hover label.sk-toggleable__label {background-color: #d4ebff;}#sk-container-id-11 div.sk-serial::before {content: \"\";position: absolute;border-left: 1px solid gray;box-sizing: border-box;top: 0;bottom: 0;left: 50%;z-index: 0;}#sk-container-id-11 div.sk-serial {display: flex;flex-direction: column;align-items: center;background-color: white;padding-right: 0.2em;padding-left: 0.2em;position: relative;}#sk-container-id-11 div.sk-item {position: relative;z-index: 1;}#sk-container-id-11 div.sk-parallel {display: flex;align-items: stretch;justify-content: center;background-color: white;position: relative;}#sk-container-id-11 div.sk-item::before, #sk-container-id-11 div.sk-parallel-item::before {content: \"\";position: absolute;border-left: 1px solid gray;box-sizing: border-box;top: 0;bottom: 0;left: 50%;z-index: -1;}#sk-container-id-11 div.sk-parallel-item {display: flex;flex-direction: column;z-index: 1;position: relative;background-color: white;}#sk-container-id-11 div.sk-parallel-item:first-child::after {align-self: flex-end;width: 50%;}#sk-container-id-11 div.sk-parallel-item:last-child::after {align-self: flex-start;width: 50%;}#sk-container-id-11 div.sk-parallel-item:only-child::after {width: 0;}#sk-container-id-11 div.sk-dashed-wrapped {border: 1px dashed gray;margin: 0 0.4em 0.5em 0.4em;box-sizing: border-box;padding-bottom: 0.4em;background-color: white;}#sk-container-id-11 div.sk-label label {font-family: monospace;font-weight: bold;display: inline-block;line-height: 1.2em;}#sk-container-id-11 div.sk-label-container {text-align: center;}#sk-container-id-11 div.sk-container {/* jupyter's `normalize.less` sets `[hidden] { display: none; }` but bootstrap.min.css set `[hidden] { display: none !important; }` so we also need the `!important` here to be able to override the default hidden behavior on the sphinx rendered scikit-learn.org. See: https://github.com/scikit-learn/scikit-learn/issues/21755 */display: inline-block !important;position: relative;}#sk-container-id-11 div.sk-text-repr-fallback {display: none;}</style><div id=\"sk-container-id-11\" class=\"sk-top-container\"><div class=\"sk-text-repr-fallback\"><pre>Ridge(alpha=10)</pre><b>In a Jupyter environment, please rerun this cell to show the HTML representation or trust the notebook. <br />On GitHub, the HTML representation is unable to render, please try loading this page with nbviewer.org.</b></div><div class=\"sk-container\" hidden><div class=\"sk-item\"><div class=\"sk-estimator sk-toggleable\"><input class=\"sk-toggleable__control sk-hidden--visually\" id=\"sk-estimator-id-11\" type=\"checkbox\" checked><label for=\"sk-estimator-id-11\" class=\"sk-toggleable__label sk-toggleable__label-arrow\">Ridge</label><div class=\"sk-toggleable__content\"><pre>Ridge(alpha=10)</pre></div></div></div></div></div>"
            ]
          },
          "metadata": {},
          "execution_count": 217
        }
      ]
    },
    {
      "cell_type": "code",
      "source": [
        "y_pred_test = Rg.predict(X_test_sc)"
      ],
      "metadata": {
        "id": "4KWOahY3vwMj"
      },
      "execution_count": 218,
      "outputs": []
    },
    {
      "cell_type": "code",
      "source": [
        "y_pred_train = Rg.predict(X_train_sc)"
      ],
      "metadata": {
        "id": "yXOOtyCUwT2_"
      },
      "execution_count": 219,
      "outputs": []
    },
    {
      "cell_type": "markdown",
      "source": [
        "Ошибки:"
      ],
      "metadata": {
        "id": "C2HXdDG4wgMU"
      }
    },
    {
      "cell_type": "code",
      "source": [
        "MSE(y_pred_train ,y_train)"
      ],
      "metadata": {
        "colab": {
          "base_uri": "https://localhost:8080/"
        },
        "id": "moNQT_liwed_",
        "outputId": "fd774168-c7bb-477a-c821-dd87eb043fbd"
      },
      "execution_count": 220,
      "outputs": [
        {
          "output_type": "execute_result",
          "data": {
            "text/plain": [
              "1239243.646233521"
            ]
          },
          "metadata": {},
          "execution_count": 220
        }
      ]
    },
    {
      "cell_type": "code",
      "source": [
        "MSE(y_pred_test ,y_test)"
      ],
      "metadata": {
        "colab": {
          "base_uri": "https://localhost:8080/"
        },
        "id": "GIgsKRlswkSQ",
        "outputId": "d3e49689-e121-406f-fb72-e8f4fe4db37c"
      },
      "execution_count": 221,
      "outputs": [
        {
          "output_type": "execute_result",
          "data": {
            "text/plain": [
              "1365580.5128413737"
            ]
          },
          "metadata": {},
          "execution_count": 221
        }
      ]
    },
    {
      "cell_type": "code",
      "source": [
        "w =np.array(Rg.coef_[0])\n",
        "\n",
        "dict = {} # словарь: модуль коэффициента -> название фичи\n",
        "\n",
        "for i in range(len(w)):\n",
        "  w[i] = np.abs(w[i])\n",
        "  dict[w[i]] = values[i]\n",
        "\n",
        "w = np.sort(w)\n",
        "\n",
        "for i in range(len(w)):\n",
        "  print(w[i], dict[w[i]])"
      ],
      "metadata": {
        "colab": {
          "base_uri": "https://localhost:8080/"
        },
        "id": "t9OoroNFyFaA",
        "outputId": "e75e1ff7-59bc-40c7-bf5d-8c3bb3cf290e"
      },
      "execution_count": 222,
      "outputs": [
        {
          "output_type": "stream",
          "name": "stdout",
          "text": [
            "4.418331239832401 y\n",
            "12.259849827646285 1\n",
            "29.935340886869163 z\n",
            "66.18062179661072 table\n",
            "97.03586385517556 depth\n",
            "138.30189947163004 14\n",
            "145.75124487542467 4\n",
            "157.52147938133643 9\n",
            "174.76179821204386 3\n",
            "244.65977490020208 2\n",
            "356.8867154807518 8\n",
            "453.64277203561045 17\n",
            "552.9129681606894 0\n",
            "559.3602279537612 7\n",
            "625.0376825070877 10\n",
            "625.4040859137557 6\n",
            "772.9212513600977 16\n",
            "821.5559075625682 5\n",
            "1116.864136820361 15\n",
            "1134.0267541855058 19\n",
            "1163.4504242900443 18\n",
            "1172.7863716247662 x\n",
            "1467.0766674589556 13\n",
            "1580.6477750209283 11\n",
            "3735.9518330378073 12\n",
            "5370.645622301831 carat\n"
          ]
        }
      ]
    },
    {
      "cell_type": "markdown",
      "source": [
        "Ридж регрессия не дает практически никаких изменений в сравнении с обычной."
      ],
      "metadata": {
        "id": "AohEy9hYyx_M"
      }
    },
    {
      "cell_type": "markdown",
      "source": [
        "\n",
        "\n",
        "---\n",
        "\n"
      ],
      "metadata": {
        "id": "pfjQQNjw0XAA"
      }
    },
    {
      "cell_type": "code",
      "source": [
        "from sklearn.linear_model import Lasso"
      ],
      "metadata": {
        "id": "uQMemyxS0YpR"
      },
      "execution_count": 223,
      "outputs": []
    },
    {
      "cell_type": "code",
      "source": [
        "La = Lasso(alpha = 10) # инициализация"
      ],
      "metadata": {
        "id": "PyBNV_vh0mB_"
      },
      "execution_count": 224,
      "outputs": []
    },
    {
      "cell_type": "code",
      "source": [
        "La.fit(X_train_sc, y_train) # обучаем"
      ],
      "metadata": {
        "colab": {
          "base_uri": "https://localhost:8080/",
          "height": 74
        },
        "id": "EHTimIkj0usR",
        "outputId": "8cc69a2b-a080-42b6-ff85-0b3487331a28"
      },
      "execution_count": 225,
      "outputs": [
        {
          "output_type": "execute_result",
          "data": {
            "text/plain": [
              "Lasso(alpha=10)"
            ],
            "text/html": [
              "<style>#sk-container-id-12 {color: black;}#sk-container-id-12 pre{padding: 0;}#sk-container-id-12 div.sk-toggleable {background-color: white;}#sk-container-id-12 label.sk-toggleable__label {cursor: pointer;display: block;width: 100%;margin-bottom: 0;padding: 0.3em;box-sizing: border-box;text-align: center;}#sk-container-id-12 label.sk-toggleable__label-arrow:before {content: \"▸\";float: left;margin-right: 0.25em;color: #696969;}#sk-container-id-12 label.sk-toggleable__label-arrow:hover:before {color: black;}#sk-container-id-12 div.sk-estimator:hover label.sk-toggleable__label-arrow:before {color: black;}#sk-container-id-12 div.sk-toggleable__content {max-height: 0;max-width: 0;overflow: hidden;text-align: left;background-color: #f0f8ff;}#sk-container-id-12 div.sk-toggleable__content pre {margin: 0.2em;color: black;border-radius: 0.25em;background-color: #f0f8ff;}#sk-container-id-12 input.sk-toggleable__control:checked~div.sk-toggleable__content {max-height: 200px;max-width: 100%;overflow: auto;}#sk-container-id-12 input.sk-toggleable__control:checked~label.sk-toggleable__label-arrow:before {content: \"▾\";}#sk-container-id-12 div.sk-estimator input.sk-toggleable__control:checked~label.sk-toggleable__label {background-color: #d4ebff;}#sk-container-id-12 div.sk-label input.sk-toggleable__control:checked~label.sk-toggleable__label {background-color: #d4ebff;}#sk-container-id-12 input.sk-hidden--visually {border: 0;clip: rect(1px 1px 1px 1px);clip: rect(1px, 1px, 1px, 1px);height: 1px;margin: -1px;overflow: hidden;padding: 0;position: absolute;width: 1px;}#sk-container-id-12 div.sk-estimator {font-family: monospace;background-color: #f0f8ff;border: 1px dotted black;border-radius: 0.25em;box-sizing: border-box;margin-bottom: 0.5em;}#sk-container-id-12 div.sk-estimator:hover {background-color: #d4ebff;}#sk-container-id-12 div.sk-parallel-item::after {content: \"\";width: 100%;border-bottom: 1px solid gray;flex-grow: 1;}#sk-container-id-12 div.sk-label:hover label.sk-toggleable__label {background-color: #d4ebff;}#sk-container-id-12 div.sk-serial::before {content: \"\";position: absolute;border-left: 1px solid gray;box-sizing: border-box;top: 0;bottom: 0;left: 50%;z-index: 0;}#sk-container-id-12 div.sk-serial {display: flex;flex-direction: column;align-items: center;background-color: white;padding-right: 0.2em;padding-left: 0.2em;position: relative;}#sk-container-id-12 div.sk-item {position: relative;z-index: 1;}#sk-container-id-12 div.sk-parallel {display: flex;align-items: stretch;justify-content: center;background-color: white;position: relative;}#sk-container-id-12 div.sk-item::before, #sk-container-id-12 div.sk-parallel-item::before {content: \"\";position: absolute;border-left: 1px solid gray;box-sizing: border-box;top: 0;bottom: 0;left: 50%;z-index: -1;}#sk-container-id-12 div.sk-parallel-item {display: flex;flex-direction: column;z-index: 1;position: relative;background-color: white;}#sk-container-id-12 div.sk-parallel-item:first-child::after {align-self: flex-end;width: 50%;}#sk-container-id-12 div.sk-parallel-item:last-child::after {align-self: flex-start;width: 50%;}#sk-container-id-12 div.sk-parallel-item:only-child::after {width: 0;}#sk-container-id-12 div.sk-dashed-wrapped {border: 1px dashed gray;margin: 0 0.4em 0.5em 0.4em;box-sizing: border-box;padding-bottom: 0.4em;background-color: white;}#sk-container-id-12 div.sk-label label {font-family: monospace;font-weight: bold;display: inline-block;line-height: 1.2em;}#sk-container-id-12 div.sk-label-container {text-align: center;}#sk-container-id-12 div.sk-container {/* jupyter's `normalize.less` sets `[hidden] { display: none; }` but bootstrap.min.css set `[hidden] { display: none !important; }` so we also need the `!important` here to be able to override the default hidden behavior on the sphinx rendered scikit-learn.org. See: https://github.com/scikit-learn/scikit-learn/issues/21755 */display: inline-block !important;position: relative;}#sk-container-id-12 div.sk-text-repr-fallback {display: none;}</style><div id=\"sk-container-id-12\" class=\"sk-top-container\"><div class=\"sk-text-repr-fallback\"><pre>Lasso(alpha=10)</pre><b>In a Jupyter environment, please rerun this cell to show the HTML representation or trust the notebook. <br />On GitHub, the HTML representation is unable to render, please try loading this page with nbviewer.org.</b></div><div class=\"sk-container\" hidden><div class=\"sk-item\"><div class=\"sk-estimator sk-toggleable\"><input class=\"sk-toggleable__control sk-hidden--visually\" id=\"sk-estimator-id-12\" type=\"checkbox\" checked><label for=\"sk-estimator-id-12\" class=\"sk-toggleable__label sk-toggleable__label-arrow\">Lasso</label><div class=\"sk-toggleable__content\"><pre>Lasso(alpha=10)</pre></div></div></div></div></div>"
            ]
          },
          "metadata": {},
          "execution_count": 225
        }
      ]
    },
    {
      "cell_type": "code",
      "source": [
        "y_pred_test = La.predict(X_test_sc)"
      ],
      "metadata": {
        "id": "YX9w6Noa06b4"
      },
      "execution_count": 226,
      "outputs": []
    },
    {
      "cell_type": "code",
      "source": [
        "y_pred_train = La.predict(X_train_sc)"
      ],
      "metadata": {
        "id": "gPBhvA5H1DYr"
      },
      "execution_count": 227,
      "outputs": []
    },
    {
      "cell_type": "markdown",
      "source": [
        "Ошибки:"
      ],
      "metadata": {
        "id": "qGf2t2rN1JdG"
      }
    },
    {
      "cell_type": "code",
      "source": [
        "MSE(y_pred_train ,y_train)"
      ],
      "metadata": {
        "colab": {
          "base_uri": "https://localhost:8080/"
        },
        "id": "xUFKZg-R1N08",
        "outputId": "efb051fd-cb71-4617-fd1d-3f8d3b138424"
      },
      "execution_count": 228,
      "outputs": [
        {
          "output_type": "execute_result",
          "data": {
            "text/plain": [
              "1277054.6568209478"
            ]
          },
          "metadata": {},
          "execution_count": 228
        }
      ]
    },
    {
      "cell_type": "code",
      "source": [
        "MSE(y_pred_test ,y_test)"
      ],
      "metadata": {
        "colab": {
          "base_uri": "https://localhost:8080/"
        },
        "id": "whx8wIZ61R4d",
        "outputId": "6dd462a5-1bd9-490b-f882-6a588eb13305"
      },
      "execution_count": 229,
      "outputs": [
        {
          "output_type": "execute_result",
          "data": {
            "text/plain": [
              "1397281.6022950525"
            ]
          },
          "metadata": {},
          "execution_count": 229
        }
      ]
    },
    {
      "cell_type": "code",
      "source": [
        "w =np.array(La.coef_)\n",
        "\n",
        "dict = {} # словарь: модуль коэффициента -> название фичи\n",
        "\n",
        "for i in range(len(w)):\n",
        "  w[i] = np.abs(w[i])\n",
        "  dict[w[i]] = values[i]\n",
        "\n",
        "w = np.sort(w)\n",
        "\n",
        "for i in range(len(w)):\n",
        "  print(w[i], dict[w[i]])"
      ],
      "metadata": {
        "colab": {
          "base_uri": "https://localhost:8080/"
        },
        "id": "vGQeKGjk1b3J",
        "outputId": "cb9b673c-3bdc-47ab-d8df-937719fd177a"
      },
      "execution_count": 230,
      "outputs": [
        {
          "output_type": "stream",
          "name": "stdout",
          "text": [
            "0.0 8\n",
            "0.0 8\n",
            "0.0 8\n",
            "0.0 8\n",
            "19.816535940916133 17\n",
            "23.307294640457197 z\n",
            "42.30109820658184 1\n",
            "80.12082916791424 2\n",
            "85.55711062664645 table\n",
            "104.50068852875968 7\n",
            "107.38241402212913 depth\n",
            "160.9907774683484 6\n",
            "162.44154313060528 16\n",
            "316.6647321313155 5\n",
            "405.48700938547483 0\n",
            "455.88323041587 9\n",
            "488.39984718226486 18\n",
            "509.77462872942647 19\n",
            "622.4300390757895 14\n",
            "623.0280776656675 13\n",
            "790.6313177607166 x\n",
            "860.0282642608898 10\n",
            "1545.3907223707556 15\n",
            "1706.0397827395184 11\n",
            "3543.740917253556 12\n",
            "4916.0107773478 carat\n"
          ]
        }
      ]
    },
    {
      "cell_type": "markdown",
      "source": [
        "Видим, что `carat` уменьшился на 10%. Остальные параметры стали \"более равномерно распределены\"."
      ],
      "metadata": {
        "id": "3QH0gqsi3BNN"
      }
    },
    {
      "cell_type": "markdown",
      "metadata": {
        "id": "DftPGQdkgFQ3"
      },
      "source": [
        "**Задача 3.9 (0.4 балла)** Lasso-регрессию можно использовать для отбора наиболее информативных признаков. Для следующих значений параметра регуляриазции $\\alpha$: 0.1, 1, 10, 100, 200 –  обучите Lasso- и Ridge-регрессии и постройте график измненения евклидовой нормы весов (`np.linalg.norm()` от вектора оценок коэффициентов) в зависимости от параметра $\\alpha$. Как известно, норма является численной характеристикой величины вектора, а потому по норме можно судить о том, насколько большие элементы содержит вектор оценок коэффициентов.\n",
        "\n",
        "Какой метод агрессивнее уменьшает веса? Поясните, почему Lasso-регрессию часто используют для отбора признаков."
      ]
    },
    {
      "cell_type": "code",
      "execution_count": null,
      "metadata": {
        "id": "lT_Vob-2gFQ3"
      },
      "outputs": [],
      "source": [
        "alpha = [0.1, 1, 10, 100, 200]\n",
        "\n",
        "ridge_norms = []\n",
        "lasso_norms = []\n",
        "\n",
        "for i in alpha:\n",
        "  ridge = Ridge(alpha = i)\n",
        "  ridge.fit(X_train_sc, y_train)\n",
        "  ridge_norm = np.linalg.norm(ridge.coef_)\n",
        "  ridge_norms.append(ridge_norm)\n",
        "\n",
        "  lasso = Lasso(alpha = i)\n",
        "  lasso.fit(X_train_sc, y_train)\n",
        "  lasso_norm = np.linalg.norm(lasso.coef_)\n",
        "  lasso_norms.append(lasso_norm)"
      ]
    },
    {
      "cell_type": "code",
      "source": [
        "ridge_norms, lasso_norms"
      ],
      "metadata": {
        "colab": {
          "base_uri": "https://localhost:8080/"
        },
        "id": "jzV3v6n4KuZ7",
        "outputId": "bd98f881-a087-4e2d-cdaf-91e767c96a81"
      },
      "execution_count": 232,
      "outputs": [
        {
          "output_type": "execute_result",
          "data": {
            "text/plain": [
              "([7562.278078040314,\n",
              "  7554.302889391904,\n",
              "  7476.011287026418,\n",
              "  6814.527799362723,\n",
              "  6264.231334706077],\n",
              " [7723.0304936163275,\n",
              "  7679.936077062419,\n",
              "  6725.068566063083,\n",
              "  3677.9524438327608,\n",
              "  3473.6664807456555])"
            ]
          },
          "metadata": {},
          "execution_count": 232
        }
      ]
    },
    {
      "cell_type": "markdown",
      "source": [
        "Лассо агрессивнее уменьшает веса."
      ],
      "metadata": {
        "id": "oLGZtfg4K8QV"
      }
    },
    {
      "cell_type": "code",
      "source": [
        "plt.figure(figsize=(10, 5))\n",
        "plt.title(\"Euclidean norm of weights for different alpha\")\n",
        "\n",
        "plt.plot(alpha, ridge_norms , label='Ridge', color='green')\n",
        "plt.plot(alpha, lasso_norms, label='Lasso', color ='red') #,  marker='o'\n",
        "\n",
        "plt.xlabel('alpha') #Подпись для оси х\n",
        "plt.ylabel('norms') #Подпись для оси y\n",
        "\n",
        "plt.grid(True)\n",
        "plt.legend()\n",
        "\n",
        "plt.show()"
      ],
      "metadata": {
        "colab": {
          "base_uri": "https://localhost:8080/",
          "height": 487
        },
        "id": "ivvuByx1VNY6",
        "outputId": "10a36e9c-cf94-4375-d0fd-31d98652be43"
      },
      "execution_count": 233,
      "outputs": [
        {
          "output_type": "display_data",
          "data": {
            "text/plain": [
              "<Figure size 1000x500 with 1 Axes>"
            ],
            "image/png": "[encoded data removed]"
          },
          "metadata": {}
        }
      ]
    },
    {
      "cell_type": "markdown",
      "source": [
        "Лассо сильнее уменьшает веса чем Ридж."
      ],
      "metadata": {
        "id": "_KheQKC1c21S"
      }
    },
    {
      "cell_type": "markdown",
      "source": [
        "**Вопрос**: *как уменьшение весов поможет отобрать нужные признаки?*"
      ],
      "metadata": {
        "id": "GdO8WMOodC77"
      }
    },
    {
      "cell_type": "markdown",
      "source": [
        "\n",
        "\n",
        "---\n",
        "\n"
      ],
      "metadata": {
        "id": "vdcKqRk7PkfB"
      }
    },
    {
      "cell_type": "markdown",
      "source": [
        "### Кросс-валидация"
      ],
      "metadata": {
        "id": "TYfPmMYdPUHw"
      }
    },
    {
      "cell_type": "markdown",
      "source": [
        "Хэндбук:"
      ],
      "metadata": {
        "id": "RyHzqOcLXCXf"
      }
    },
    {
      "cell_type": "markdown",
      "source": [
        "\n",
        "\n",
        ">Кросс-валидация — это процедура для **оценки качества работы модели**, которая широко применяется в машинном обучении. Она помогает сравнить между собой различные модели и выбрать наилучшую для конкретной задачи.\n",
        "\n"
      ],
      "metadata": {
        "id": "dmybkMyWMbJ8"
      }
    },
    {
      "cell_type": "markdown",
      "source": [
        "Вот основные процедуры кросс валидации:\n",
        "* **Hold-out**: мы этим постоянно пользовались. Разбить выборку на обучающую и тестовую. В тестовую не подглядывать. После обучения на обучающей выборке сравнить ошибки на тесте и обучении. Если ошибки близки, то обучились неплохо. Еще есть всякие практические рекомендации по типу: мешайте данные и заведите *валидационное множество* - маленький кусочек выборки. Валидационное множество используют так: нужно подобрать оптимальные гиперпараметры модели $\\to$ обучаем много моделей с разными гиперпараметрами на валидационном множестве $\\to$ сравниваем их на тестовой выборке $\\to$ выбираем гиперпараметр на котором все круче. Когда данных мало или еще по каким-то другим причинам обучают на всей выборке, а сравнивают по так называемым *кривым обучения*, которые показывают как модель будет вести себя на новых данных.\n",
        "* **k-Fold**: самое популярное. Он является обобщением метода `hold-out` и представляет из себя следующий алгоритм: (хэндбук)\n",
        "\n",
        "\n",
        " 1. Фиксируется некоторое целое число $k$\n",
        " (обычно от 5 до 10), меньшее числа семплов в датасете.\n",
        " 2. Датасет разбивается на $k$ одинаковых частей (в последней части может быть меньше семплов, чем в остальных). Эти части называются *фолдами*.\n",
        " 3. Далее происходит $k$ итераций, во время каждой из которых один фолд выступает в роли тестового множества, а объединение остальных — в роли тренировочного. Модель учится на $k-1$\n",
        " фолде и тестируется на оставшемся.\n",
        " 4. Финальный скор модели получается либо усреднением $k$\n",
        " получившихся тестовых результатов, либо измеряется на отложенном тестовом множестве, не участвовавшем в кросс-валидации.\n",
        "\n",
        "\n",
        "\n",
        "\n",
        "\n",
        "\n"
      ],
      "metadata": {
        "id": "cE8r79ImXM4Y"
      }
    },
    {
      "cell_type": "markdown",
      "source": [
        "Интересный вопрос о том как использовать эти $k$ фолдов, **если уже выбраны гиперпараметры**:"
      ],
      "metadata": {
        "id": "lgIrzvIppWvA"
      }
    },
    {
      "cell_type": "markdown",
      "source": [
        "* Брать $k$-обученных моделей и брать алгоритм, который усредняет их предсказания;\n",
        "* Сравнить скоры на каждом и выбрать алгоритм с наилучшим."
      ],
      "metadata": {
        "id": "Cclz3bQOp-OY"
      }
    },
    {
      "cell_type": "markdown",
      "source": [
        "\n",
        "\n",
        "---\n",
        "\n"
      ],
      "metadata": {
        "id": "WRODBl-lirO6"
      }
    },
    {
      "cell_type": "markdown",
      "source": [
        "Теперь посмотрим на способ подбора оптимального гиперпараметра $\\alpha$ для Лассо регрессии."
      ],
      "metadata": {
        "id": "g-XyppCXdhyB"
      }
    },
    {
      "cell_type": "markdown",
      "metadata": {
        "id": "O0iVRfS1gFQ3"
      },
      "source": [
        "**Задача 3.10 (0.5 балла)**\n",
        "В зависимости от значения параметра $\\alpha$ в Lasso-регрессии зануляются разные оценки коэффициентов. Оптимальное значение $\\alpha$ можно подобрать, например, при помощи кросс-валидации по тренировочной выборке.\n",
        "\n",
        "Для проведения кросс-валидации можно использовать модуль `LassoCV`. Этот модуль принимает список значений $\\alpha$ (параметр `alphas`) и при обучении проводит кросс-валидацию для каждого значения из этого списка, сохраняя MSE на каждом участке кросс-валидации (количество участков – параметр `cv`) в матрицу ошибок (то есть итоговая матрица будет иметь размер `len(alphas)` $\\times$ `cv`). После обучения модели матрицу ошибок можно получить, обратившись к атрибуту `.mse_path_`.\n",
        "\n",
        "Заметим, что модель может использовать $\\alpha$ не в том порядке, в котором вы подаёте их в функцию: для определения порядка используйте атрибут `.alphas_` Установите количество участков для кросс-валидации (параметр `cv`) равным 5.\n",
        "\n",
        "Усредните ошибки для каждого значения $\\alpha$ (то есть по строкам матрицы ошибок) и выберите то значение, которое даёт наибольшее качество."
      ]
    },
    {
      "cell_type": "code",
      "execution_count": 234,
      "metadata": {
        "id": "gMwL5-Y4gFQ3"
      },
      "outputs": [],
      "source": [
        "from sklearn.linear_model import LassoCV # импортируем кросс-валидацию для Лассо регрессии"
      ]
    },
    {
      "cell_type": "code",
      "source": [
        "cross_valid = LassoCV(cv=5, alphas=alpha, random_state=66).fit(X_train_sc, y_train)"
      ],
      "metadata": {
        "id": "GV2hGUIpeNDr"
      },
      "execution_count": null,
      "outputs": []
    },
    {
      "cell_type": "code",
      "source": [
        "print('alpha', *cross_valid.alphas_, sep='\\t\\t') #альфы\n",
        "print('MSE', *cross_valid.mse_path_.mean(axis=1), sep=' ') #усредненные ошибки MSE"
      ],
      "metadata": {
        "colab": {
          "base_uri": "https://localhost:8080/"
        },
        "id": "yOWfIoxHmbbB",
        "outputId": "3d204c17-506c-47c6-9aae-d16bc049106b"
      },
      "execution_count": 236,
      "outputs": [
        {
          "output_type": "stream",
          "name": "stdout",
          "text": [
            "alpha\t\t200.0\t\t100.0\t\t10.0\t\t1.0\t\t0.1\n",
            "MSE 2399191.713825165 2184828.8038254823 1281043.8484794938 1245958.3466906098 1247064.3996793348\n"
          ]
        }
      ]
    },
    {
      "cell_type": "markdown",
      "source": [
        "Итак, значит нам нужен гиперпараметр $\\alpha = 1$."
      ],
      "metadata": {
        "id": "PQy-EYO8m_Wv"
      }
    },
    {
      "cell_type": "markdown",
      "metadata": {
        "id": "RVUxxxhYgFQ3"
      },
      "source": [
        "**Задача 3.11 (0.5 балла)** Обучите итоговую Lasso-регрессию с выбранным параметром $\\alpha$ на тренировочной выборке. Выведите полученные коэффициенты и прокомментируйте, какие признаки оказались неинформативными, а какие – наиболее информативными. Приведите возможное смысловое объяснение этого результата."
      ]
    },
    {
      "cell_type": "code",
      "execution_count": 238,
      "metadata": {
        "id": "fQtobJcQgFQ3",
        "colab": {
          "base_uri": "https://localhost:8080/",
          "height": 74
        },
        "outputId": "7963e1e7-4e2d-4f82-96f8-4c90d30c48ef"
      },
      "outputs": [
        {
          "output_type": "execute_result",
          "data": {
            "text/plain": [
              "Lasso(alpha=1)"
            ],
            "text/html": [
              "<style>#sk-container-id-13 {color: black;}#sk-container-id-13 pre{padding: 0;}#sk-container-id-13 div.sk-toggleable {background-color: white;}#sk-container-id-13 label.sk-toggleable__label {cursor: pointer;display: block;width: 100%;margin-bottom: 0;padding: 0.3em;box-sizing: border-box;text-align: center;}#sk-container-id-13 label.sk-toggleable__label-arrow:before {content: \"▸\";float: left;margin-right: 0.25em;color: #696969;}#sk-container-id-13 label.sk-toggleable__label-arrow:hover:before {color: black;}#sk-container-id-13 div.sk-estimator:hover label.sk-toggleable__label-arrow:before {color: black;}#sk-container-id-13 div.sk-toggleable__content {max-height: 0;max-width: 0;overflow: hidden;text-align: left;background-color: #f0f8ff;}#sk-container-id-13 div.sk-toggleable__content pre {margin: 0.2em;color: black;border-radius: 0.25em;background-color: #f0f8ff;}#sk-container-id-13 input.sk-toggleable__control:checked~div.sk-toggleable__content {max-height: 200px;max-width: 100%;overflow: auto;}#sk-container-id-13 input.sk-toggleable__control:checked~label.sk-toggleable__label-arrow:before {content: \"▾\";}#sk-container-id-13 div.sk-estimator input.sk-toggleable__control:checked~label.sk-toggleable__label {background-color: #d4ebff;}#sk-container-id-13 div.sk-label input.sk-toggleable__control:checked~label.sk-toggleable__label {background-color: #d4ebff;}#sk-container-id-13 input.sk-hidden--visually {border: 0;clip: rect(1px 1px 1px 1px);clip: rect(1px, 1px, 1px, 1px);height: 1px;margin: -1px;overflow: hidden;padding: 0;position: absolute;width: 1px;}#sk-container-id-13 div.sk-estimator {font-family: monospace;background-color: #f0f8ff;border: 1px dotted black;border-radius: 0.25em;box-sizing: border-box;margin-bottom: 0.5em;}#sk-container-id-13 div.sk-estimator:hover {background-color: #d4ebff;}#sk-container-id-13 div.sk-parallel-item::after {content: \"\";width: 100%;border-bottom: 1px solid gray;flex-grow: 1;}#sk-container-id-13 div.sk-label:hover label.sk-toggleable__label {background-color: #d4ebff;}#sk-container-id-13 div.sk-serial::before {content: \"\";position: absolute;border-left: 1px solid gray;box-sizing: border-box;top: 0;bottom: 0;left: 50%;z-index: 0;}#sk-container-id-13 div.sk-serial {display: flex;flex-direction: column;align-items: center;background-color: white;padding-right: 0.2em;padding-left: 0.2em;position: relative;}#sk-container-id-13 div.sk-item {position: relative;z-index: 1;}#sk-container-id-13 div.sk-parallel {display: flex;align-items: stretch;justify-content: center;background-color: white;position: relative;}#sk-container-id-13 div.sk-item::before, #sk-container-id-13 div.sk-parallel-item::before {content: \"\";position: absolute;border-left: 1px solid gray;box-sizing: border-box;top: 0;bottom: 0;left: 50%;z-index: -1;}#sk-container-id-13 div.sk-parallel-item {display: flex;flex-direction: column;z-index: 1;position: relative;background-color: white;}#sk-container-id-13 div.sk-parallel-item:first-child::after {align-self: flex-end;width: 50%;}#sk-container-id-13 div.sk-parallel-item:last-child::after {align-self: flex-start;width: 50%;}#sk-container-id-13 div.sk-parallel-item:only-child::after {width: 0;}#sk-container-id-13 div.sk-dashed-wrapped {border: 1px dashed gray;margin: 0 0.4em 0.5em 0.4em;box-sizing: border-box;padding-bottom: 0.4em;background-color: white;}#sk-container-id-13 div.sk-label label {font-family: monospace;font-weight: bold;display: inline-block;line-height: 1.2em;}#sk-container-id-13 div.sk-label-container {text-align: center;}#sk-container-id-13 div.sk-container {/* jupyter's `normalize.less` sets `[hidden] { display: none; }` but bootstrap.min.css set `[hidden] { display: none !important; }` so we also need the `!important` here to be able to override the default hidden behavior on the sphinx rendered scikit-learn.org. See: https://github.com/scikit-learn/scikit-learn/issues/21755 */display: inline-block !important;position: relative;}#sk-container-id-13 div.sk-text-repr-fallback {display: none;}</style><div id=\"sk-container-id-13\" class=\"sk-top-container\"><div class=\"sk-text-repr-fallback\"><pre>Lasso(alpha=1)</pre><b>In a Jupyter environment, please rerun this cell to show the HTML representation or trust the notebook. <br />On GitHub, the HTML representation is unable to render, please try loading this page with nbviewer.org.</b></div><div class=\"sk-container\" hidden><div class=\"sk-item\"><div class=\"sk-estimator sk-toggleable\"><input class=\"sk-toggleable__control sk-hidden--visually\" id=\"sk-estimator-id-13\" type=\"checkbox\" checked><label for=\"sk-estimator-id-13\" class=\"sk-toggleable__label sk-toggleable__label-arrow\">Lasso</label><div class=\"sk-toggleable__content\"><pre>Lasso(alpha=1)</pre></div></div></div></div></div>"
            ]
          },
          "metadata": {},
          "execution_count": 238
        }
      ],
      "source": [
        "lasso = Lasso(alpha = 1)\n",
        "lasso.fit(X_train_sc, y_train)"
      ]
    },
    {
      "cell_type": "code",
      "source": [
        "w =np.array(lasso.coef_)\n",
        "\n",
        "dict = {} # словарь: коэффициент -> название фичи\n",
        "\n",
        "for i in range(len(w)):\n",
        "  w[i] = np.abs(w[i])\n",
        "  dict[w[i]] = values[i]\n",
        "\n",
        "w = np.sort(w)\n",
        "\n",
        "for i in range(len(w)):\n",
        "  if w[i] != 0:\n",
        "    print(w[i], dict[w[i]])"
      ],
      "metadata": {
        "colab": {
          "base_uri": "https://localhost:8080/"
        },
        "id": "yThsC0Qeudd8",
        "outputId": "56fd6574-fe04-4b67-ded8-7c40ea27e6ab"
      },
      "execution_count": 243,
      "outputs": [
        {
          "output_type": "stream",
          "name": "stdout",
          "text": [
            "23.74068588602713 3\n",
            "25.199825094517294 z\n",
            "67.69778264764237 table\n",
            "84.9889275983665 17\n",
            "96.04202721000736 2\n",
            "99.81096560213466 depth\n",
            "146.6793551300552 1\n",
            "194.93086946619346 7\n",
            "222.0598484440415 16\n",
            "259.9869916574029 6\n",
            "453.1980493997152 5\n",
            "509.4394918673133 9\n",
            "582.1211785102574 19\n",
            "607.5197005772392 18\n",
            "666.499517956078 0\n",
            "678.3444088467775 14\n",
            "901.3095350436572 13\n",
            "973.9401451875511 10\n",
            "1169.4496882592755 x\n",
            "1655.0891207864836 15\n",
            "1926.2830549330106 11\n",
            "4283.976327313966 12\n",
            "5363.273710916629 carat\n"
          ]
        }
      ]
    },
    {
      "cell_type": "markdown",
      "source": [
        "Веса перед `y`, `4`, `8` стали равны нулю. Коэффициент перед `carat` все еще наиболее весомый. Веса до `depth` не особо информативны."
      ],
      "metadata": {
        "id": "t1uZsEVdv8-7"
      }
    },
    {
      "cell_type": "markdown",
      "metadata": {
        "id": "Cef0Qif4gFQ3"
      },
      "source": [
        "**Задача 3.12 (0.4 балла)** Сделайте предсказания обученной Lasso-регрессии на тестовой выборке и сравните среднеквадратичную ошибку с ошибкой обычной линейной регрессии из задачи 3.7. Какую модель лучше использовать для предсказаний? Приведите возможное объяснение, почему одна модель оказалась лучше другой."
      ]
    },
    {
      "cell_type": "code",
      "execution_count": 245,
      "metadata": {
        "id": "QCgns9cigFQ3",
        "colab": {
          "base_uri": "https://localhost:8080/"
        },
        "outputId": "bedcf79d-4336-4980-cac0-b01fa0979ae9"
      },
      "outputs": [
        {
          "output_type": "execute_result",
          "data": {
            "text/plain": [
              "33437.7305682448"
            ]
          },
          "metadata": {},
          "execution_count": 245
        }
      ],
      "source": [
        "MSE(lasso.predict(X_test_sc),y_pred_test)"
      ]
    },
    {
      "cell_type": "code",
      "source": [
        "MSE(LR.predict(X_test_sc),y_pred_test)"
      ],
      "metadata": {
        "colab": {
          "base_uri": "https://localhost:8080/"
        },
        "id": "2Sc8Fwe8xalC",
        "outputId": "4828bee3-e523-4bfb-b619-4bb6b5f54c11"
      },
      "execution_count": 246,
      "outputs": [
        {
          "output_type": "execute_result",
          "data": {
            "text/plain": [
              "41291.521057747595"
            ]
          },
          "metadata": {},
          "execution_count": 246
        }
      ]
    },
    {
      "cell_type": "markdown",
      "source": [
        "**Вывод**: стоит использовать Лассо регрессию."
      ],
      "metadata": {
        "id": "61_U30hmxl4L"
      }
    },
    {
      "cell_type": "markdown",
      "source": [
        "**Причина**: и лассо и линейная регрессия обучаются по одному и тому же методу - методу минимизацией эмперического риска. Но у них разные функционалы потерь. Для обычной линейной регрессии есть точное решение, но там обращение матрицы. А у нас есть почти линейно зависимые признаки, что может дать большую погрешность в ее обращении. Поэтому мы и сделали регулеризацию: решение стало содержать меньше погрешности, хоть может и отдалилось от оптимального в смысле MSE."
      ],
      "metadata": {
        "id": "NzYP1FpJxyRe"
      }
    }
  ],
  "metadata": {
    "colab": {
      "provenance": []
    },
    "kernelspec": {
      "display_name": "Python 3",
      "language": "python",
      "name": "python3"
    },
    "language_info": {
      "codemirror_mode": {
        "name": "ipython",
        "version": 3
      },
      "file_extension": ".py",
      "mimetype": "text/x-python",
      "name": "python",
      "nbconvert_exporter": "python",
      "pygments_lexer": "ipython3",
      "version": "3.8.5"
    }
  },
  "nbformat": 4,
  "nbformat_minor": 0
}